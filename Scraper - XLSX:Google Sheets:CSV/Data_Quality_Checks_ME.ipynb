{
 "cells": [
  {
   "cell_type": "markdown",
   "metadata": {},
   "source": [
    "# Import Libraries "
   ]
  },
  {
   "cell_type": "code",
   "execution_count": 41,
   "metadata": {},
   "outputs": [],
   "source": [
    "import datetime\n",
    "import csv\n",
    "from selenium import webdriver\n",
    "from selenium.webdriver.common.keys import Keys\n",
    "from bs4 import BeautifulSoup \n",
    "import datetime\n",
    "import zipfile\n",
    "import pandas as pd\n",
    "import matplotlib.pyplot as plt"
   ]
  },
  {
   "cell_type": "code",
   "execution_count": 42,
   "metadata": {},
   "outputs": [],
   "source": [
    "#Current Data Checks for ME\n",
    "\n",
    "# - Difference in sum of cases by race v. Total cases\n",
    "\n",
    "# - Difference in sum of cases by ethnicity v. Total cases (Within 5 values)\n",
    "\n",
    "# - Difference in sum of deaths by race versus Total deaths (Within 5 values)\n",
    "\n",
    "# - Difference in sum of deaths by ethnicity v. Total deaths (Within 5 values)\n",
    "\n",
    "\n",
    "\n",
    "#These Data Checks are also included for ME, however in the Public CRDT hospital data is not listed.\n",
    "\n",
    "# - Difference in sum of hopsital by hospital by race versus Total hospital might not be avaible\n",
    "\n",
    "# - Difference in sum of hopsital by hospital by race versus Total hospital might not be avaible\n",
    "\n",
    "\n",
    "#Variables needed\n",
    "# 1) Sum of cases by Race\n",
    "# 2) Sum of Cases by ethnicity\n",
    "# 3) Sum of Deaths by Race\n",
    "# 4) Sum of Deaths by Ethnicity\n",
    "# 4) Total Cases\n",
    "# 5) Total Deaths"
   ]
  },
  {
   "cell_type": "markdown",
   "metadata": {},
   "source": [
    "## Downloading the Public CSV from CRDT"
   ]
  },
  {
   "cell_type": "code",
   "execution_count": 43,
   "metadata": {},
   "outputs": [],
   "source": [
    "public_csv = pd.read_csv(\"https://docs.google.com/spreadsheets/d/1xF1cdazAejukTt2M6-aAXWG6fivTHFqt8rurF8euXOE/export?format=csv&gid=43720681\")"
   ]
  },
  {
   "cell_type": "markdown",
   "metadata": {},
   "source": [
    "## Defining Maine Covid Summary from the Public CSV"
   ]
  },
  {
   "cell_type": "code",
   "execution_count": 44,
   "metadata": {},
   "outputs": [],
   "source": [
    "maine_covid_summary = public_csv[public_csv['State']== 'ME']"
   ]
  },
  {
   "cell_type": "markdown",
   "metadata": {},
   "source": [
    "## Getting Total Cases in Maine from Covid"
   ]
  },
  {
   "cell_type": "code",
   "execution_count": 45,
   "metadata": {},
   "outputs": [
    {
     "name": "stderr",
     "output_type": "stream",
     "text": [
      "<ipython-input-45-9c8579520f03>:3: SettingWithCopyWarning: \n",
      "A value is trying to be set on a copy of a slice from a DataFrame.\n",
      "Try using .loc[row_indexer,col_indexer] = value instead\n",
      "\n",
      "See the caveats in the documentation: https://pandas.pydata.org/pandas-docs/stable/user_guide/indexing.html#returning-a-view-versus-a-copy\n",
      "  maine_covid_summary['Cases_Total'] = maine_covid_summary['Cases_Total'].astype(float)\n",
      "<ipython-input-45-9c8579520f03>:7: SettingWithCopyWarning: \n",
      "A value is trying to be set on a copy of a slice from a DataFrame.\n",
      "Try using .loc[row_indexer,col_indexer] = value instead\n",
      "\n",
      "See the caveats in the documentation: https://pandas.pydata.org/pandas-docs/stable/user_guide/indexing.html#returning-a-view-versus-a-copy\n",
      "  maine_covid_summary['Cases Each Day'] = cases_each_day\n"
     ]
    }
   ],
   "source": [
    "#In order to find Total Cases Each Day need to subtract next row from previous row\n",
    "#However first need to convert column type to float\n",
    "maine_covid_summary['Cases_Total'] = maine_covid_summary['Cases_Total'].astype(float)\n",
    "cases_each_day = maine_covid_summary['Cases_Total'].diff(periods=-1)\n",
    "\n",
    "#Adding Cases Each Day as a column\n",
    "maine_covid_summary['Cases Each Day'] = cases_each_day\n",
    "\n",
    "#Summing Cases Each Day column to see the Total Covid Cases Reported in Maine\n",
    "#Do not see method on how to sum column, so will take 20201104 Date Cases_Total as the total number of cases\n",
    "#for now\n",
    "\n",
    "total_cases = 7077"
   ]
  },
  {
   "cell_type": "markdown",
   "metadata": {},
   "source": [
    "## Getting Total Deaths in Maine from Covid"
   ]
  },
  {
   "cell_type": "code",
   "execution_count": 46,
   "metadata": {},
   "outputs": [
    {
     "name": "stderr",
     "output_type": "stream",
     "text": [
      "<ipython-input-46-74396dfe2303>:2: SettingWithCopyWarning: \n",
      "A value is trying to be set on a copy of a slice from a DataFrame.\n",
      "Try using .loc[row_indexer,col_indexer] = value instead\n",
      "\n",
      "See the caveats in the documentation: https://pandas.pydata.org/pandas-docs/stable/user_guide/indexing.html#returning-a-view-versus-a-copy\n",
      "  maine_covid_summary['Deaths_Total'] = maine_covid_summary['Deaths_Total'].astype(float)\n",
      "<ipython-input-46-74396dfe2303>:6: SettingWithCopyWarning: \n",
      "A value is trying to be set on a copy of a slice from a DataFrame.\n",
      "Try using .loc[row_indexer,col_indexer] = value instead\n",
      "\n",
      "See the caveats in the documentation: https://pandas.pydata.org/pandas-docs/stable/user_guide/indexing.html#returning-a-view-versus-a-copy\n",
      "  maine_covid_summary['Deaths Each Day'] = deaths_each_day\n"
     ]
    }
   ],
   "source": [
    "#Apply the same method\n",
    "maine_covid_summary['Deaths_Total'] = maine_covid_summary['Deaths_Total'].astype(float)\n",
    "deaths_each_day = maine_covid_summary['Deaths_Total'].diff(periods=-1)\n",
    "\n",
    "#Adding Cases Each Day as a column\n",
    "maine_covid_summary['Deaths Each Day'] = deaths_each_day\n",
    "\n",
    "#Summing Deaths Each Day column to see the Total Covid Cases Reported in Maine\n",
    "#Do not see method on how to sum column, so will take 20201104 Date Deaths_Total as the total number of cases\n",
    "#for now\n",
    "\n",
    "total_deaths = 150\n"
   ]
  },
  {
   "cell_type": "markdown",
   "metadata": {},
   "source": [
    "## Finding Sum of total Cases by Race"
   ]
  },
  {
   "cell_type": "code",
   "execution_count": 48,
   "metadata": {},
   "outputs": [
    {
     "name": "stderr",
     "output_type": "stream",
     "text": [
      "<ipython-input-48-f0cd36685ea5>:5: SettingWithCopyWarning: \n",
      "A value is trying to be set on a copy of a slice from a DataFrame.\n",
      "Try using .loc[row_indexer,col_indexer] = value instead\n",
      "\n",
      "See the caveats in the documentation: https://pandas.pydata.org/pandas-docs/stable/user_guide/indexing.html#returning-a-view-versus-a-copy\n",
      "  maine_covid_summary['Cases_White'] = maine_covid_summary['Cases_White'].astype(float)\n",
      "<ipython-input-48-f0cd36685ea5>:7: SettingWithCopyWarning: \n",
      "A value is trying to be set on a copy of a slice from a DataFrame.\n",
      "Try using .loc[row_indexer,col_indexer] = value instead\n",
      "\n",
      "See the caveats in the documentation: https://pandas.pydata.org/pandas-docs/stable/user_guide/indexing.html#returning-a-view-versus-a-copy\n",
      "  maine_covid_summary['Cases Each Day: White'] = cases_white\n",
      "<ipython-input-48-f0cd36685ea5>:10: SettingWithCopyWarning: \n",
      "A value is trying to be set on a copy of a slice from a DataFrame.\n",
      "Try using .loc[row_indexer,col_indexer] = value instead\n",
      "\n",
      "See the caveats in the documentation: https://pandas.pydata.org/pandas-docs/stable/user_guide/indexing.html#returning-a-view-versus-a-copy\n",
      "  maine_covid_summary['Cases_Black'] = maine_covid_summary['Cases_Black'].astype(float)\n",
      "<ipython-input-48-f0cd36685ea5>:12: SettingWithCopyWarning: \n",
      "A value is trying to be set on a copy of a slice from a DataFrame.\n",
      "Try using .loc[row_indexer,col_indexer] = value instead\n",
      "\n",
      "See the caveats in the documentation: https://pandas.pydata.org/pandas-docs/stable/user_guide/indexing.html#returning-a-view-versus-a-copy\n",
      "  maine_covid_summary['Cases Each Day: Black'] = cases_black\n",
      "<ipython-input-48-f0cd36685ea5>:15: SettingWithCopyWarning: \n",
      "A value is trying to be set on a copy of a slice from a DataFrame.\n",
      "Try using .loc[row_indexer,col_indexer] = value instead\n",
      "\n",
      "See the caveats in the documentation: https://pandas.pydata.org/pandas-docs/stable/user_guide/indexing.html#returning-a-view-versus-a-copy\n",
      "  maine_covid_summary['Cases_LatinX'] = maine_covid_summary['Cases_LatinX'].astype(float)\n",
      "<ipython-input-48-f0cd36685ea5>:17: SettingWithCopyWarning: \n",
      "A value is trying to be set on a copy of a slice from a DataFrame.\n",
      "Try using .loc[row_indexer,col_indexer] = value instead\n",
      "\n",
      "See the caveats in the documentation: https://pandas.pydata.org/pandas-docs/stable/user_guide/indexing.html#returning-a-view-versus-a-copy\n",
      "  maine_covid_summary['Cases Each Day: LatinX'] = cases_latinx\n",
      "<ipython-input-48-f0cd36685ea5>:20: SettingWithCopyWarning: \n",
      "A value is trying to be set on a copy of a slice from a DataFrame.\n",
      "Try using .loc[row_indexer,col_indexer] = value instead\n",
      "\n",
      "See the caveats in the documentation: https://pandas.pydata.org/pandas-docs/stable/user_guide/indexing.html#returning-a-view-versus-a-copy\n",
      "  maine_covid_summary['Cases_Asian'] = maine_covid_summary['Cases_Asian'].astype(float)\n",
      "<ipython-input-48-f0cd36685ea5>:22: SettingWithCopyWarning: \n",
      "A value is trying to be set on a copy of a slice from a DataFrame.\n",
      "Try using .loc[row_indexer,col_indexer] = value instead\n",
      "\n",
      "See the caveats in the documentation: https://pandas.pydata.org/pandas-docs/stable/user_guide/indexing.html#returning-a-view-versus-a-copy\n",
      "  maine_covid_summary['Cases Each Day: Asian'] = cases_asian\n",
      "<ipython-input-48-f0cd36685ea5>:25: SettingWithCopyWarning: \n",
      "A value is trying to be set on a copy of a slice from a DataFrame.\n",
      "Try using .loc[row_indexer,col_indexer] = value instead\n",
      "\n",
      "See the caveats in the documentation: https://pandas.pydata.org/pandas-docs/stable/user_guide/indexing.html#returning-a-view-versus-a-copy\n",
      "  maine_covid_summary['Cases_AIAN'] = maine_covid_summary['Cases_AIAN'].astype(float)\n",
      "<ipython-input-48-f0cd36685ea5>:27: SettingWithCopyWarning: \n",
      "A value is trying to be set on a copy of a slice from a DataFrame.\n",
      "Try using .loc[row_indexer,col_indexer] = value instead\n",
      "\n",
      "See the caveats in the documentation: https://pandas.pydata.org/pandas-docs/stable/user_guide/indexing.html#returning-a-view-versus-a-copy\n",
      "  maine_covid_summary['Cases Each Day: AIAN'] = cases_aian\n",
      "<ipython-input-48-f0cd36685ea5>:30: SettingWithCopyWarning: \n",
      "A value is trying to be set on a copy of a slice from a DataFrame.\n",
      "Try using .loc[row_indexer,col_indexer] = value instead\n",
      "\n",
      "See the caveats in the documentation: https://pandas.pydata.org/pandas-docs/stable/user_guide/indexing.html#returning-a-view-versus-a-copy\n",
      "  maine_covid_summary['Cases_NHPI'] = maine_covid_summary['Cases_NHPI'].astype(float)\n",
      "<ipython-input-48-f0cd36685ea5>:32: SettingWithCopyWarning: \n",
      "A value is trying to be set on a copy of a slice from a DataFrame.\n",
      "Try using .loc[row_indexer,col_indexer] = value instead\n",
      "\n",
      "See the caveats in the documentation: https://pandas.pydata.org/pandas-docs/stable/user_guide/indexing.html#returning-a-view-versus-a-copy\n",
      "  maine_covid_summary['Cases Each Day: NHPI'] = cases_nhpi\n",
      "<ipython-input-48-f0cd36685ea5>:35: SettingWithCopyWarning: \n",
      "A value is trying to be set on a copy of a slice from a DataFrame.\n",
      "Try using .loc[row_indexer,col_indexer] = value instead\n",
      "\n",
      "See the caveats in the documentation: https://pandas.pydata.org/pandas-docs/stable/user_guide/indexing.html#returning-a-view-versus-a-copy\n",
      "  maine_covid_summary['Cases_Multiracial'] = maine_covid_summary['Cases_Multiracial'].astype(float)\n",
      "<ipython-input-48-f0cd36685ea5>:37: SettingWithCopyWarning: \n",
      "A value is trying to be set on a copy of a slice from a DataFrame.\n",
      "Try using .loc[row_indexer,col_indexer] = value instead\n",
      "\n",
      "See the caveats in the documentation: https://pandas.pydata.org/pandas-docs/stable/user_guide/indexing.html#returning-a-view-versus-a-copy\n",
      "  maine_covid_summary['Cases Each Day: Multiracial'] = cases_multiracial\n",
      "<ipython-input-48-f0cd36685ea5>:40: SettingWithCopyWarning: \n",
      "A value is trying to be set on a copy of a slice from a DataFrame.\n",
      "Try using .loc[row_indexer,col_indexer] = value instead\n",
      "\n",
      "See the caveats in the documentation: https://pandas.pydata.org/pandas-docs/stable/user_guide/indexing.html#returning-a-view-versus-a-copy\n",
      "  maine_covid_summary['Cases_Other'] = maine_covid_summary['Cases_Other'].astype(float)\n",
      "<ipython-input-48-f0cd36685ea5>:42: SettingWithCopyWarning: \n",
      "A value is trying to be set on a copy of a slice from a DataFrame.\n",
      "Try using .loc[row_indexer,col_indexer] = value instead\n",
      "\n",
      "See the caveats in the documentation: https://pandas.pydata.org/pandas-docs/stable/user_guide/indexing.html#returning-a-view-versus-a-copy\n",
      "  maine_covid_summary['Cases Each Day: Other'] = cases_other\n",
      "<ipython-input-48-f0cd36685ea5>:45: SettingWithCopyWarning: \n",
      "A value is trying to be set on a copy of a slice from a DataFrame.\n",
      "Try using .loc[row_indexer,col_indexer] = value instead\n",
      "\n",
      "See the caveats in the documentation: https://pandas.pydata.org/pandas-docs/stable/user_guide/indexing.html#returning-a-view-versus-a-copy\n",
      "  maine_covid_summary['Cases_Unknown'] = maine_covid_summary['Cases_Unknown'].astype(float)\n",
      "<ipython-input-48-f0cd36685ea5>:47: SettingWithCopyWarning: \n",
      "A value is trying to be set on a copy of a slice from a DataFrame.\n",
      "Try using .loc[row_indexer,col_indexer] = value instead\n",
      "\n",
      "See the caveats in the documentation: https://pandas.pydata.org/pandas-docs/stable/user_guide/indexing.html#returning-a-view-versus-a-copy\n",
      "  maine_covid_summary['Cases Each Day: Race Unknown'] = cases_unknown\n"
     ]
    }
   ],
   "source": [
    "#Want to Sum total cases of each race together\n",
    "#Includes other and unknown\n",
    "\n",
    "#Cases_White\n",
    "maine_covid_summary['Cases_White'] = maine_covid_summary['Cases_White'].astype(float)\n",
    "cases_white = maine_covid_summary['Cases_White'].diff(periods=-1)\n",
    "maine_covid_summary['Cases Each Day: White'] = cases_white\n",
    "\n",
    "#Cases_Black\n",
    "maine_covid_summary['Cases_Black'] = maine_covid_summary['Cases_Black'].astype(float)\n",
    "cases_black = maine_covid_summary['Cases_Black'].diff(periods=-1)\n",
    "maine_covid_summary['Cases Each Day: Black'] = cases_black\n",
    "\n",
    "#Cases_LatinX\n",
    "maine_covid_summary['Cases_LatinX'] = maine_covid_summary['Cases_LatinX'].astype(float)\n",
    "cases_latinx = maine_covid_summary['Cases_LatinX'].diff(periods=-1)\n",
    "maine_covid_summary['Cases Each Day: LatinX'] = cases_latinx\n",
    "\n",
    "#Cases_Asian\n",
    "maine_covid_summary['Cases_Asian'] = maine_covid_summary['Cases_Asian'].astype(float)\n",
    "cases_asian = maine_covid_summary['Cases_Asian'].diff(periods=-1)\n",
    "maine_covid_summary['Cases Each Day: Asian'] = cases_asian\n",
    "\n",
    "#Cases_AIAN\n",
    "maine_covid_summary['Cases_AIAN'] = maine_covid_summary['Cases_AIAN'].astype(float)\n",
    "cases_aian = maine_covid_summary['Cases_AIAN'].diff(periods=-1)\n",
    "maine_covid_summary['Cases Each Day: AIAN'] = cases_aian\n",
    "\n",
    "#Cases_NHPI\n",
    "maine_covid_summary['Cases_NHPI'] = maine_covid_summary['Cases_NHPI'].astype(float)\n",
    "cases_nhpi = maine_covid_summary['Cases_NHPI'].diff(periods=-1)\n",
    "maine_covid_summary['Cases Each Day: NHPI'] = cases_nhpi\n",
    "\n",
    "#Cases_Multiracial\n",
    "maine_covid_summary['Cases_Multiracial'] = maine_covid_summary['Cases_Multiracial'].astype(float)\n",
    "cases_multiracial = maine_covid_summary['Cases_Multiracial'].diff(periods=-1)\n",
    "maine_covid_summary['Cases Each Day: Multiracial'] = cases_multiracial\n",
    "\n",
    "#Cases_Other\n",
    "maine_covid_summary['Cases_Other'] = maine_covid_summary['Cases_Other'].astype(float)\n",
    "cases_other = maine_covid_summary['Cases_Other'].diff(periods=-1)\n",
    "maine_covid_summary['Cases Each Day: Other'] = cases_other\n",
    "\n",
    "#Cases_Unknown\n",
    "maine_covid_summary['Cases_Unknown'] = maine_covid_summary['Cases_Unknown'].astype(float)\n",
    "cases_unknown = maine_covid_summary['Cases_Unknown'].diff(periods=-1)\n",
    "maine_covid_summary['Cases Each Day: Race Unknown'] = cases_unknown\n",
    "\n",
    "#Again would sum each new case column, however not too sure about syntax, will update later\n",
    "#Once obtain absolute sum of each case by specificed race, would add all together to get a total for cases with race\n",
    "\n",
    "sum_cases_by_race"
   ]
  },
  {
   "cell_type": "markdown",
   "metadata": {},
   "source": [
    "## Finding Sum of Total Cases by Ethnicity"
   ]
  },
  {
   "cell_type": "code",
   "execution_count": 49,
   "metadata": {},
   "outputs": [
    {
     "name": "stderr",
     "output_type": "stream",
     "text": [
      "<ipython-input-49-240db44e47c1>:6: SettingWithCopyWarning: \n",
      "A value is trying to be set on a copy of a slice from a DataFrame.\n",
      "Try using .loc[row_indexer,col_indexer] = value instead\n",
      "\n",
      "See the caveats in the documentation: https://pandas.pydata.org/pandas-docs/stable/user_guide/indexing.html#returning-a-view-versus-a-copy\n",
      "  maine_covid_summary['Cases_Ethnicity_Hispanic'] = maine_covid_summary['Cases_Ethnicity_Hispanic'].astype(float)\n",
      "<ipython-input-49-240db44e47c1>:8: SettingWithCopyWarning: \n",
      "A value is trying to be set on a copy of a slice from a DataFrame.\n",
      "Try using .loc[row_indexer,col_indexer] = value instead\n",
      "\n",
      "See the caveats in the documentation: https://pandas.pydata.org/pandas-docs/stable/user_guide/indexing.html#returning-a-view-versus-a-copy\n",
      "  maine_covid_summary['Cases Each Day: Hispanic'] = cases_ethnicity_hispanic\n",
      "<ipython-input-49-240db44e47c1>:11: SettingWithCopyWarning: \n",
      "A value is trying to be set on a copy of a slice from a DataFrame.\n",
      "Try using .loc[row_indexer,col_indexer] = value instead\n",
      "\n",
      "See the caveats in the documentation: https://pandas.pydata.org/pandas-docs/stable/user_guide/indexing.html#returning-a-view-versus-a-copy\n",
      "  maine_covid_summary['Cases_Ethnicity_NonHispanic'] = maine_covid_summary['Cases_Ethnicity_NonHispanic'].astype(float)\n",
      "<ipython-input-49-240db44e47c1>:13: SettingWithCopyWarning: \n",
      "A value is trying to be set on a copy of a slice from a DataFrame.\n",
      "Try using .loc[row_indexer,col_indexer] = value instead\n",
      "\n",
      "See the caveats in the documentation: https://pandas.pydata.org/pandas-docs/stable/user_guide/indexing.html#returning-a-view-versus-a-copy\n",
      "  maine_covid_summary['Cases Each Day: NonHispanic'] = cases_ethnicity_nonhispanic\n",
      "<ipython-input-49-240db44e47c1>:16: SettingWithCopyWarning: \n",
      "A value is trying to be set on a copy of a slice from a DataFrame.\n",
      "Try using .loc[row_indexer,col_indexer] = value instead\n",
      "\n",
      "See the caveats in the documentation: https://pandas.pydata.org/pandas-docs/stable/user_guide/indexing.html#returning-a-view-versus-a-copy\n",
      "  maine_covid_summary['Cases_Ethnicity_Unknown'] = maine_covid_summary['Cases_Ethnicity_Unknown'].astype(float)\n",
      "<ipython-input-49-240db44e47c1>:18: SettingWithCopyWarning: \n",
      "A value is trying to be set on a copy of a slice from a DataFrame.\n",
      "Try using .loc[row_indexer,col_indexer] = value instead\n",
      "\n",
      "See the caveats in the documentation: https://pandas.pydata.org/pandas-docs/stable/user_guide/indexing.html#returning-a-view-versus-a-copy\n",
      "  maine_covid_summary['Cases Each Day: Ethnicity Uknown'] = cases_ethnicity_unknown\n"
     ]
    }
   ],
   "source": [
    "#Want to Sum total cases of each ethnicity together\n",
    "#Includes unknown\n",
    "\n",
    "\n",
    "#Cases_Ethnicity_Hispanic\n",
    "maine_covid_summary['Cases_Ethnicity_Hispanic'] = maine_covid_summary['Cases_Ethnicity_Hispanic'].astype(float)\n",
    "cases_ethnicity_hispanic = maine_covid_summary['Cases_Ethnicity_Hispanic'].diff(periods=-1)\n",
    "maine_covid_summary['Cases Each Day: Hispanic'] = cases_ethnicity_hispanic\n",
    "\n",
    "#Cases_Ethnicity_NonHispanic\n",
    "maine_covid_summary['Cases_Ethnicity_NonHispanic'] = maine_covid_summary['Cases_Ethnicity_NonHispanic'].astype(float)\n",
    "cases_ethnicity_nonhispanic = maine_covid_summary['Cases_Ethnicity_NonHispanic'].diff(periods=-1)\n",
    "maine_covid_summary['Cases Each Day: NonHispanic'] = cases_ethnicity_nonhispanic\n",
    "\n",
    "#Cases_Ethnicity_Unknown\n",
    "maine_covid_summary['Cases_Ethnicity_Unknown'] = maine_covid_summary['Cases_Ethnicity_Unknown'].astype(float)\n",
    "cases_ethnicity_unknown = maine_covid_summary['Cases_Ethnicity_Unknown'].diff(periods=-1)\n",
    "maine_covid_summary['Cases Each Day: Ethnicity Uknown'] = cases_ethnicity_unknown\n",
    "\n",
    "#Again would sum each new case column, however not too sure about syntax, will update later\n",
    "#Once obtain absolute sum of each case by specificed ethnicity, would add all together to get a total for cases with ethnicity\n",
    "\n",
    "sum_cases_by_ethnicity"
   ]
  },
  {
   "cell_type": "markdown",
   "metadata": {},
   "source": [
    "## Finding Sum of Total Deaths by Race"
   ]
  },
  {
   "cell_type": "code",
   "execution_count": null,
   "metadata": {},
   "outputs": [],
   "source": [
    "#Want to Sum total deaths of each race together\n",
    "#Includes other and unknown\n",
    "\n",
    "#Deaths_White\n",
    "maine_covid_summary['Deaths_White'] = maine_covid_summary['Deaths_White'].astype(float)\n",
    "deaths_white = maine_covid_summary['Deaths_White'].diff(periods=-1)\n",
    "maine_covid_summary['Deaths Each Day: White'] = deaths_white\n",
    "\n",
    "#Deaths_Black\n",
    "maine_covid_summary['Deaths_Black'] = maine_covid_summary['Deaths_Black'].astype(float)\n",
    "cases_black = maine_covid_summary['Deaths_Black'].diff(periods=-1)\n",
    "maine_covid_summary['Deaths Each Day: Black'] = deaths_black\n",
    "\n",
    "#Deaths_LatinX\n",
    "maine_covid_summary['Deaths_LatinX'] = maine_covid_summary['Deaths_LatinX'].astype(float)\n",
    "cases_latinx = maine_covid_summary['Deaths_LatinX'].diff(periods=-1)\n",
    "maine_covid_summary['Deaths Each Day: LatinX'] = deaths_latinx\n",
    "\n",
    "#Deaths_Asian\n",
    "maine_covid_summary['Deaths_Asian'] = maine_covid_summary['Deaths_Asian'].astype(float)\n",
    "cases_asian = maine_covid_summary['Deaths_Asian'].diff(periods=-1)\n",
    "maine_covid_summary['Deaths Each Day: Asian'] = deaths_asian\n",
    "\n",
    "#Deaths_AIAN\n",
    "maine_covid_summary['Deaths_AIAN'] = maine_covid_summary['Deaths_AIAN'].astype(float)\n",
    "cases_aian = maine_covid_summary['Deaths_AIAN'].diff(periods=-1)\n",
    "maine_covid_summary['Deaths Each Day: AIAN'] = deaths_aian\n",
    "\n",
    "#Deaths_NHPI\n",
    "maine_covid_summary['Deaths_NHPI'] = maine_covid_summary['Deaths_NHPI'].astype(float)\n",
    "cases_nhpi = maine_covid_summary['Deaths_NHPI'].diff(periods=-1)\n",
    "maine_covid_summary['Deaths Each Day: NHPI'] = deaths_nhpi\n",
    "\n",
    "#Deaths_Multiracial\n",
    "maine_covid_summary['Deaths_Multiracial'] = maine_covid_summary['Deaths_Multiracial'].astype(float)\n",
    "cases_multiracial = maine_covid_summary['Deaths_Multiracial'].diff(periods=-1)\n",
    "maine_covid_summary['Deaths Each Day: Multiracial'] = deaths_multiracial\n",
    "\n",
    "#Deaths_Other\n",
    "maine_covid_summary['Deaths_Other'] = maine_covid_summary['Deaths_Other'].astype(float)\n",
    "cases_other = maine_covid_summary['Deaths_Other'].diff(periods=-1)\n",
    "maine_covid_summary['Deaths Each Day: Other'] = deaths_other\n",
    "\n",
    "#Deaths_Unknown\n",
    "maine_covid_summary['Deaths_Unknown'] = maine_covid_summary['Deaths_Unknown'].astype(float)\n",
    "cases_unknown = maine_covid_summary['Deaths_Unknown'].diff(periods=-1)\n",
    "maine_covid_summary['Deaths Each Day: Race Unknown'] = deaths_unknown\n",
    "\n",
    "sum_deaths_by_race\n",
    "\n",
    "#Again would sum each new case column, however not too sure about syntax, will update later\n",
    "#Once obtain absolute sum of each case by specificed race, would add all together to get a total for deaths with race"
   ]
  },
  {
   "cell_type": "code",
   "execution_count": null,
   "metadata": {},
   "outputs": [],
   "source": [
    "#Want to Sum total cases of each ethnicity together\n",
    "#Includes unknown\n",
    "\n",
    "\n",
    "#Deaths_Ethnicity_Hispanic\n",
    "maine_covid_summary['Deaths_Ethnicity_Hispanic'] = maine_covid_summary['Deaths_Ethnicity_Hispanic'].astype(float)\n",
    "cases_ethnicity_hispanic = maine_covid_summary['Deaths_Ethnicity_Hispanic'].diff(periods=-1)\n",
    "maine_covid_summary['Deaths Each Day: Hispanic'] = deaths_ethnicity_hispanic\n",
    "\n",
    "#Deaths_Ethnicity_NonHispanic\n",
    "maine_covid_summary['Deaths_Ethnicity_NonHispanic'] = maine_covid_summary['Deaths_Ethnicity_NonHispanic'].astype(float)\n",
    "cases_ethnicity_nonhispanic = maine_covid_summary['Deaths_Ethnicity_NonHispanic'].diff(periods=-1)\n",
    "maine_covid_summary['Deaths Each Day: NonHispanic'] = deaths_ethnicity_nonhispanic\n",
    "\n",
    "#Deaths_Ethnicity_Unknown\n",
    "maine_covid_summary['Deaths_Ethnicity_Unknown'] = maine_covid_summary['Deaths_Ethnicity_Unknown'].astype(float)\n",
    "cases_ethnicity_unknown = maine_covid_summary['Deaths_Ethnicity_Unknown'].diff(periods=-1)\n",
    "maine_covid_summary['Deaths Each Day: Ethnicity Uknown'] = deaths_ethnicity_unknown\n",
    "\n",
    "sum_deaths_by_ethnicity\n",
    "\n",
    "#Again would sum each new case column, however not too sure about syntax, will update later\n",
    "#Once obtain absolute sum of each case by specificed ethnicity, would add all together to get a total for deaths with ethnicity"
   ]
  },
  {
   "cell_type": "markdown",
   "metadata": {},
   "source": [
    "## Data Quality Checking Clause"
   ]
  },
  {
   "cell_type": "code",
   "execution_count": 50,
   "metadata": {},
   "outputs": [
    {
     "ename": "SyntaxError",
     "evalue": "invalid syntax (<ipython-input-50-3eff31f9fa56>, line 1)",
     "output_type": "error",
     "traceback": [
      "\u001b[0;36m  File \u001b[0;32m\"<ipython-input-50-3eff31f9fa56>\"\u001b[0;36m, line \u001b[0;32m1\u001b[0m\n\u001b[0;31m    if(total_cases - sum_cases_by_race > 5)\u001b[0m\n\u001b[0m                                           ^\u001b[0m\n\u001b[0;31mSyntaxError\u001b[0m\u001b[0;31m:\u001b[0m invalid syntax\n"
     ]
    }
   ],
   "source": [
    "#Currently have invalid syntax, will fix later.\n",
    "\n",
    "if(total_cases - sum_cases_by_race > 5)\n",
    "    print(\"Data Quality Check Needed.\")\n",
    "\n",
    "if(total_cases - sum_cases_by_ethnicity > 5)\n",
    "    print(\"Data Quality Check Needed.\")\n",
    "    \n",
    "if(total_deaths - sum_deaths_by_race > 5)\n",
    "    print(\"Data Quality Check Needed.\")\n",
    "\n",
    "if(total_deaths - sum_deaths_by_ethnicity > 5)\n",
    "    print(\"Data Quality Check Needed.\")\n",
    "    \n",
    "    "
   ]
  },
  {
   "cell_type": "markdown",
   "metadata": {},
   "source": [
    "## Time Series Plot"
   ]
  },
  {
   "cell_type": "code",
   "execution_count": 51,
   "metadata": {},
   "outputs": [
    {
     "data": {
      "text/plain": [
       "<AxesSubplot:title={'center':'Cases Each DAy % Timeseries'}, xlabel='Date'>"
      ]
     },
     "execution_count": 51,
     "metadata": {},
     "output_type": "execute_result"
    },
    {
     "data": {
      "image/png": "[encoded data removed]",
      "text/plain": [
       "<Figure size 864x720 with 1 Axes>"
      ]
     },
     "metadata": {
      "needs_background": "light"
     },
     "output_type": "display_data"
    }
   ],
   "source": [
    "maine_covid_summary.set_index('Date')['Cases Each Day'].plot(figsize=(12, 10), title='Cases Each Day % Timeseries'\n",
    "                                                                        ,linewidth=2.5, color='green')\n",
    "#Probably have to reconfigure dates. I think it messes with the plot.\n"
   ]
  },
  {
   "cell_type": "code",
   "execution_count": null,
   "metadata": {},
   "outputs": [],
   "source": []
  }
 ],
 "metadata": {
  "kernelspec": {
   "display_name": "Python 3",
   "language": "python",
   "name": "python3"
  },
  "language_info": {
   "codemirror_mode": {
    "name": "ipython",
    "version": 3
   },
   "file_extension": ".py",
   "mimetype": "text/x-python",
   "name": "python",
   "nbconvert_exporter": "python",
   "pygments_lexer": "ipython3",
   "version": "3.8.6"
  }
 },
 "nbformat": 4,
 "nbformat_minor": 4
}
