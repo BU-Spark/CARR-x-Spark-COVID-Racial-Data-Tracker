{
 "cells": [
  {
   "cell_type": "markdown",
   "metadata": {},
   "source": [
    "# Import Libraries "
   ]
  },
  {
   "cell_type": "code",
   "execution_count": 40,
   "metadata": {},
   "outputs": [],
   "source": [
    "import datetime\n",
    "import csv\n",
    "from selenium import webdriver\n",
    "from selenium.webdriver.common.keys import Keys\n",
    "from bs4 import BeautifulSoup \n",
    "import datetime\n",
    "import zipfile\n",
    "import pandas as pd\n",
    "import matplotlib.pyplot as plt"
   ]
  },
  {
   "cell_type": "markdown",
   "metadata": {},
   "source": [
    "## Defining Variables Needed For Data Quality Checks"
   ]
  },
  {
   "cell_type": "code",
   "execution_count": 41,
   "metadata": {},
   "outputs": [],
   "source": [
    "#Current Data Checks for ME\n",
    "\n",
    "# - Difference in sum of cases by race v. Total cases (should be equal)\n",
    "\n",
    "# - Difference in sum of cases by ethnicity v. Total cases (should be equal)\n",
    "\n",
    "# - Difference in sum of deaths by race versus Total deaths (Within 5 values)\n",
    "\n",
    "# - Difference in sum of deaths by ethnicity v. Total deaths (Within 5 values)\n",
    "\n",
    "\n",
    "\n",
    "#These Data Checks are also included for ME, however in the Public CRDT hospital data is not listed.\n",
    "\n",
    "# - Difference in sum of hopsital by hospital by race versus Total hospital might not be avaible\n",
    "\n",
    "# - Difference in sum of hopsital by hospital by race versus Total hospital might not be avaible\n",
    "\n",
    "\n",
    "#Variables needed\n",
    "# 1) Sum of cases by Race\n",
    "# 2) Sum of Cases by ethnicity\n",
    "# 3) Sum of Deaths by Race\n",
    "# 4) Sum of Deaths by Ethnicity\n",
    "# 4) Total Cases\n",
    "# 5) Total Deaths"
   ]
  },
  {
   "cell_type": "markdown",
   "metadata": {},
   "source": [
    "## Downloading the Public CSV from CRDT"
   ]
  },
  {
   "cell_type": "code",
   "execution_count": 42,
   "metadata": {},
   "outputs": [],
   "source": [
    "public_csv = pd.read_csv(\"https://docs.google.com/spreadsheets/d/1xF1cdazAejukTt2M6-aAXWG6fivTHFqt8rurF8euXOE/export?format=csv&gid=43720681\")"
   ]
  },
  {
   "cell_type": "markdown",
   "metadata": {},
   "source": [
    "## Defining Maine Covid Summary from the Public CSV"
   ]
  },
  {
   "cell_type": "code",
   "execution_count": 43,
   "metadata": {},
   "outputs": [],
   "source": [
    "maine_covid_summary = public_csv[public_csv['State']== 'ME']"
   ]
  },
  {
   "cell_type": "markdown",
   "metadata": {},
   "source": [
    "## Creating Total Cases,  Total Cases by Race and Total Cases by Ethnicity variables"
   ]
  },
  {
   "cell_type": "code",
   "execution_count": 44,
   "metadata": {},
   "outputs": [
    {
     "name": "stdout",
     "output_type": "stream",
     "text": [
      "Total Cases in Maine as of Today\n",
      "23    8202.0\n",
      "Name: Cases_Total, dtype: float64\n",
      "Total Cases with Race in Maine\n",
      "23    8202.0\n",
      "dtype: float64\n",
      "Total Cases with Ehtnicity in Maine\n",
      "23    8202.0\n",
      "dtype: float64\n"
     ]
    }
   ],
   "source": [
    "#Most recent Total Cases Reported in Maine\n",
    "total_cases = maine_covid_summary['Cases_Total'].iloc[0:1]\n",
    "\n",
    "#Have to convert into a float in order to perform operations on total\n",
    "total_cases = total_cases.astype(float)\n",
    "\n",
    "print(\"Total Cases in Maine as of Today\")\n",
    "print(total_cases)\n",
    "\n",
    "\n",
    "#Need to find case totals for each race (including other and unknown)\n",
    "\n",
    "cases_white = maine_covid_summary['Cases_White'].iloc[0:1]\n",
    "cases_white = cases_white.astype(float)\n",
    "\n",
    "cases_black = maine_covid_summary['Cases_Black'].iloc[0:1]\n",
    "cases_black = cases_black.astype(float)\n",
    "\n",
    "cases_latinx = maine_covid_summary['Cases_LatinX'].iloc[0:1]\n",
    "cases_latinx = cases_latinx.astype(float)\n",
    "\n",
    "cases_asian = maine_covid_summary['Cases_Asian'].iloc[0:1]\n",
    "cases_asian = cases_asian.astype(float)\n",
    "\n",
    "cases_aian = maine_covid_summary['Cases_AIAN'].iloc[0:1]\n",
    "cases_aian = cases_aian.astype(float)\n",
    "\n",
    "cases_NHPI = maine_covid_summary['Cases_NHPI'].iloc[0:1]\n",
    "cases_NHPI = cases_NHPI.astype(float)\n",
    "\n",
    "cases_multi = maine_covid_summary['Cases_Multiracial'].iloc[0:1]\n",
    "cases_multi = cases_multi.astype(float)\n",
    "\n",
    "cases_other = maine_covid_summary['Cases_Other'].iloc[0:1]\n",
    "cases_other = cases_other.astype(float)\n",
    "\n",
    "cases_unknown = maine_covid_summary['Cases_Unknown'].iloc[0:1]\n",
    "cases_unknown = cases_unknown.astype(float)\n",
    "\n",
    "\n",
    "total_cases_race = cases_white + cases_black + cases_asian + cases_aian + cases_NHPI + cases_multi + cases_other + cases_unknown\n",
    "print(\"Total Cases with Race in Maine\")\n",
    "print(total_cases_race)\n",
    "\n",
    "#Need to find case totals for each ethnicity (including other and unknown)\n",
    "\n",
    "cases_ethnicity_hispanic = maine_covid_summary['Cases_Ethnicity_Hispanic'].iloc[0:1]\n",
    "cases_ethnicity_hispanic = cases_ethnicity_hispanic.astype(float)\n",
    "\n",
    "cases_ethnicity_nonhispanic = maine_covid_summary['Cases_Ethnicity_NonHispanic'].iloc[0:1]\n",
    "cases_ethnicity_nonhispanic = cases_ethnicity_nonhispanic.astype(float)\n",
    "\n",
    "cases_ethnicity_unknown = maine_covid_summary['Cases_Ethnicity_Unknown'].iloc[0:1]\n",
    "cases_ethnicity_unknown = cases_ethnicity_unknown.astype(float)\n",
    "\n",
    "total_cases_ethnicity = cases_ethnicity_hispanic + cases_ethnicity_nonhispanic + cases_ethnicity_unknown\n",
    "print(\"Total Cases with Ehtnicity in Maine\")\n",
    "print(total_cases_ethnicity)\n"
   ]
  },
  {
   "cell_type": "markdown",
   "metadata": {},
   "source": [
    "## Creating Total Deaths,  Total Deaths by Race and Total Deaths by Ethnicity variables"
   ]
  },
  {
   "cell_type": "code",
   "execution_count": 45,
   "metadata": {},
   "outputs": [
    {
     "name": "stdout",
     "output_type": "stream",
     "text": [
      "Total Deaths in Maine as of Today\n",
      "23    158.0\n",
      "Name: Deaths_Total, dtype: float64\n",
      "Total Deaths with Race in Maine\n",
      "23    158.0\n",
      "dtype: float64\n",
      "Total Deaths with Ethnicity in Maine\n",
      "23    158.0\n",
      "dtype: float64\n"
     ]
    }
   ],
   "source": [
    "#Most recent Total Cases Reported in Maine\n",
    "total_deaths = maine_covid_summary['Deaths_Total'].iloc[0:1]\n",
    "\n",
    "#Have to convert into a float in order to perform operations on total\n",
    "total_deaths = total_deaths.astype(float)\n",
    "\n",
    "#Printing out Total Deaths\n",
    "print(\"Total Deaths in Maine as of Today\")\n",
    "print(total_deaths)\n",
    "\n",
    "\n",
    "#Need to find death totals for each race (including other and unknown)\n",
    "\n",
    "deaths_white = maine_covid_summary['Deaths_White'].iloc[0:1]\n",
    "deaths_white = deaths_white.astype(float)\n",
    "\n",
    "deaths_black = maine_covid_summary['Deaths_Black'].iloc[0:1]\n",
    "deaths_black = deaths_black.astype(float)\n",
    "\n",
    "deaths_latinx = maine_covid_summary['Deaths_LatinX'].iloc[0:1]\n",
    "deaths_latinx = deaths_latinx.astype(float)\n",
    "\n",
    "deaths_asian = maine_covid_summary['Deaths_Asian'].iloc[0:1]\n",
    "deaths_asian = deaths_asian.astype(float)\n",
    "\n",
    "deaths_aian = maine_covid_summary['Deaths_AIAN'].iloc[0:1]\n",
    "deaths_aian = deaths_aian.astype(float)\n",
    "\n",
    "deaths_NHPI = maine_covid_summary['Deaths_NHPI'].iloc[0:1]\n",
    "deaths_NHPI = deaths_NHPI.astype(float)\n",
    "\n",
    "deaths_multi = maine_covid_summary['Deaths_Multiracial'].iloc[0:1]\n",
    "deaths_multi = deaths_multi.astype(float)\n",
    "\n",
    "deaths_other = maine_covid_summary['Deaths_Other'].iloc[0:1]\n",
    "deaths_other = deaths_other.astype(float)\n",
    "\n",
    "deaths_unknown = maine_covid_summary['Deaths_Unknown'].iloc[0:1]\n",
    "deaths_unknown = deaths_unknown.astype(float)\n",
    "\n",
    "\n",
    "total_deaths_race = deaths_white + deaths_black + deaths_asian + deaths_aian + deaths_NHPI + deaths_multi + deaths_other + deaths_unknown\n",
    "\n",
    "print(\"Total Deaths with Race in Maine\")\n",
    "print(total_deaths_race)\n",
    "\n",
    "\n",
    "#Need to find death totals for each ethnicity (including other and unknown)\n",
    "\n",
    "deaths_ethnicity_hispanic = maine_covid_summary['Deaths_Ethnicity_Hispanic'].iloc[0:1]\n",
    "deaths_ethnicity_hispanic = deaths_ethnicity_hispanic.astype(float)\n",
    "\n",
    "deaths_ethnicity_nonhispanic = maine_covid_summary['Deaths_Ethnicity_NonHispanic'].iloc[0:1]\n",
    "deaths_ethnicity_nonhispanic = deaths_ethnicity_nonhispanic.astype(float)\n",
    "\n",
    "deaths_ethnicity_unknown = maine_covid_summary['Deaths_Ethnicity_Unknown'].iloc[0:1]\n",
    "cases_ethnicity_unknown = cases_ethnicity_unknown.astype(float)\n",
    "\n",
    "total_deaths_ethnicity = deaths_ethnicity_hispanic + deaths_ethnicity_nonhispanic + deaths_ethnicity_unknown\n",
    "\n",
    "print(\"Total Deaths with Ethnicity in Maine\")\n",
    "print(total_deaths_ethnicity)"
   ]
  },
  {
   "cell_type": "markdown",
   "metadata": {},
   "source": [
    "## Data Quality Checking Clause"
   ]
  },
  {
   "cell_type": "code",
   "execution_count": 46,
   "metadata": {},
   "outputs": [
    {
     "ename": "ValueError",
     "evalue": "The truth value of a Series is ambiguous. Use a.empty, a.bool(), a.item(), a.any() or a.all().",
     "output_type": "error",
     "traceback": [
      "\u001b[0;31m---------------------------------------------------------------------------\u001b[0m",
      "\u001b[0;31mValueError\u001b[0m                                Traceback (most recent call last)",
      "\u001b[0;32m<ipython-input-46-3daf9c27e20a>\u001b[0m in \u001b[0;36m<module>\u001b[0;34m\u001b[0m\n\u001b[1;32m      1\u001b[0m \u001b[0;31m#Checking if Total Cases and Cases with Race are equal.\u001b[0m\u001b[0;34m\u001b[0m\u001b[0;34m\u001b[0m\u001b[0;34m\u001b[0m\u001b[0m\n\u001b[1;32m      2\u001b[0m \u001b[0;31m#If not equal will print \"Data Quality Check Needed.\"\u001b[0m\u001b[0;34m\u001b[0m\u001b[0;34m\u001b[0m\u001b[0;34m\u001b[0m\u001b[0m\n\u001b[0;32m----> 3\u001b[0;31m \u001b[0;32mif\u001b[0m \u001b[0mtotal_cases\u001b[0m \u001b[0;34m-\u001b[0m \u001b[0mtotal_cases_race\u001b[0m \u001b[0;34m!=\u001b[0m \u001b[0;36m0\u001b[0m\u001b[0;34m:\u001b[0m\u001b[0;34m\u001b[0m\u001b[0;34m\u001b[0m\u001b[0m\n\u001b[0m\u001b[1;32m      4\u001b[0m     \u001b[0mprint\u001b[0m\u001b[0;34m(\u001b[0m\u001b[0;34m\"Data Quality Check Needed.\"\u001b[0m\u001b[0;34m)\u001b[0m\u001b[0;34m\u001b[0m\u001b[0;34m\u001b[0m\u001b[0m\n\u001b[1;32m      5\u001b[0m \u001b[0;34m\u001b[0m\u001b[0m\n",
      "\u001b[0;32m/usr/local/Cellar/jupyterlab/2.2.8/libexec/lib/python3.8/site-packages/pandas/core/generic.py\u001b[0m in \u001b[0;36m__nonzero__\u001b[0;34m(self)\u001b[0m\n\u001b[1;32m   1327\u001b[0m \u001b[0;34m\u001b[0m\u001b[0m\n\u001b[1;32m   1328\u001b[0m     \u001b[0;32mdef\u001b[0m \u001b[0m__nonzero__\u001b[0m\u001b[0;34m(\u001b[0m\u001b[0mself\u001b[0m\u001b[0;34m)\u001b[0m\u001b[0;34m:\u001b[0m\u001b[0;34m\u001b[0m\u001b[0;34m\u001b[0m\u001b[0m\n\u001b[0;32m-> 1329\u001b[0;31m         raise ValueError(\n\u001b[0m\u001b[1;32m   1330\u001b[0m             \u001b[0;34mf\"The truth value of a {type(self).__name__} is ambiguous. \"\u001b[0m\u001b[0;34m\u001b[0m\u001b[0;34m\u001b[0m\u001b[0m\n\u001b[1;32m   1331\u001b[0m             \u001b[0;34m\"Use a.empty, a.bool(), a.item(), a.any() or a.all().\"\u001b[0m\u001b[0;34m\u001b[0m\u001b[0;34m\u001b[0m\u001b[0m\n",
      "\u001b[0;31mValueError\u001b[0m: The truth value of a Series is ambiguous. Use a.empty, a.bool(), a.item(), a.any() or a.all()."
     ]
    }
   ],
   "source": [
    "#Checking if Total Cases and Cases with Race are equal.\n",
    "#If not equal will print \"Data Quality Check Needed.\"\n",
    "if total_cases - total_cases_race != 0:\n",
    "    print(\"Data Quality Check Needed.\")\n",
    "\n",
    "    \n",
    "#Checking if Total Cases and Cases with Ethnicity are equal.  \n",
    "#If not equal will print \"Data Quality Check Needed.\"    \n",
    "if total_cases - total_cases_ethnicity != 0:\n",
    "    print(\"Data Quality Check Needed.\")\n",
    "    \n",
    "    \n",
    "#Checking if Total Deaths and Deaths with Race are within 5 values.  \n",
    "#If not equal will print \"Data Quality Check Needed.\"    \n",
    "if total_deaths - total_deaths_race > 5:\n",
    "    print(\"Data Quality Check Needed.\")\n",
    "    \n",
    "\n",
    "#Checking if Total Deaths and Deaths with Ethnicity are within 5 values.  \n",
    "#If not equal will print \"Data Quality Check Needed.\"  \n",
    "if total_deaths - total_deaths_ethnicity > 5:\n",
    "    print(\"Data Quality Check Needed.\")\n",
    "    \n",
    "#Currently have invalid syntax, will fix later."
   ]
  },
  {
   "cell_type": "markdown",
   "metadata": {},
   "source": [
    "## Creating a Case Each Day Column to use in Time Series Plots"
   ]
  },
  {
   "cell_type": "code",
   "execution_count": 47,
   "metadata": {},
   "outputs": [
    {
     "name": "stderr",
     "output_type": "stream",
     "text": [
      "<ipython-input-47-354296f65de7>:3: SettingWithCopyWarning: \n",
      "A value is trying to be set on a copy of a slice from a DataFrame.\n",
      "Try using .loc[row_indexer,col_indexer] = value instead\n",
      "\n",
      "See the caveats in the documentation: https://pandas.pydata.org/pandas-docs/stable/user_guide/indexing.html#returning-a-view-versus-a-copy\n",
      "  maine_covid_summary['Cases_Total'] = maine_covid_summary['Cases_Total'].astype(float)\n",
      "<ipython-input-47-354296f65de7>:7: SettingWithCopyWarning: \n",
      "A value is trying to be set on a copy of a slice from a DataFrame.\n",
      "Try using .loc[row_indexer,col_indexer] = value instead\n",
      "\n",
      "See the caveats in the documentation: https://pandas.pydata.org/pandas-docs/stable/user_guide/indexing.html#returning-a-view-versus-a-copy\n",
      "  maine_covid_summary['Cases Each Day'] = cases_each_day\n"
     ]
    }
   ],
   "source": [
    "#In order to find Total Cases Each Day need to subtract next row from previous row\n",
    "#However first need to convert column type to float\n",
    "maine_covid_summary['Cases_Total'] = maine_covid_summary['Cases_Total'].astype(float)\n",
    "cases_each_day = maine_covid_summary['Cases_Total'].diff(periods=-1)\n",
    "\n",
    "#Adding Cases Each Day as a column\n",
    "maine_covid_summary['Cases Each Day'] = cases_each_day"
   ]
  },
  {
   "cell_type": "markdown",
   "metadata": {},
   "source": [
    "## Creating a Date Time Column to use In Time Series Plot"
   ]
  },
  {
   "cell_type": "code",
   "execution_count": 48,
   "metadata": {},
   "outputs": [
    {
     "name": "stderr",
     "output_type": "stream",
     "text": [
      "<ipython-input-48-4db022e0de27>:8: SettingWithCopyWarning: \n",
      "A value is trying to be set on a copy of a slice from a DataFrame.\n",
      "Try using .loc[row_indexer,col_indexer] = value instead\n",
      "\n",
      "See the caveats in the documentation: https://pandas.pydata.org/pandas-docs/stable/user_guide/indexing.html#returning-a-view-versus-a-copy\n",
      "  maine_covid_summary[\"Date Time\"] = date_strings\n",
      "<ipython-input-48-4db022e0de27>:10: SettingWithCopyWarning: \n",
      "A value is trying to be set on a copy of a slice from a DataFrame.\n",
      "Try using .loc[row_indexer,col_indexer] = value instead\n",
      "\n",
      "See the caveats in the documentation: https://pandas.pydata.org/pandas-docs/stable/user_guide/indexing.html#returning-a-view-versus-a-copy\n",
      "  maine_covid_summary['Date Time'] =  pd.to_datetime(maine_covid_summary['Date Time'], format='%Y/%m/%d')\n"
     ]
    }
   ],
   "source": [
    "#Structuring the Date to be in YYYY/MM/DD format\n",
    "date_strings = []\n",
    "\n",
    "for dates in maine_covid_summary['Date'].astype(str):\n",
    "    date_formatted = dates[0:4] + \"/\" + dates[4:6] + \"/\" + dates[6:8]\n",
    "    date_strings.append(date_formatted)\n",
    "    \n",
    "maine_covid_summary[\"Date Time\"] = date_strings\n",
    "\n",
    "maine_covid_summary['Date Time'] =  pd.to_datetime(maine_covid_summary['Date Time'], format='%Y/%m/%d')  "
   ]
  },
  {
   "cell_type": "markdown",
   "metadata": {},
   "source": [
    "## Creating a Deaths Each Day Column to use in Time Series Plots"
   ]
  },
  {
   "cell_type": "code",
   "execution_count": 49,
   "metadata": {},
   "outputs": [
    {
     "name": "stderr",
     "output_type": "stream",
     "text": [
      "<ipython-input-49-362531065d8d>:2: SettingWithCopyWarning: \n",
      "A value is trying to be set on a copy of a slice from a DataFrame.\n",
      "Try using .loc[row_indexer,col_indexer] = value instead\n",
      "\n",
      "See the caveats in the documentation: https://pandas.pydata.org/pandas-docs/stable/user_guide/indexing.html#returning-a-view-versus-a-copy\n",
      "  maine_covid_summary['Deaths_Total'] = maine_covid_summary['Deaths_Total'].astype(float)\n",
      "<ipython-input-49-362531065d8d>:7: SettingWithCopyWarning: \n",
      "A value is trying to be set on a copy of a slice from a DataFrame.\n",
      "Try using .loc[row_indexer,col_indexer] = value instead\n",
      "\n",
      "See the caveats in the documentation: https://pandas.pydata.org/pandas-docs/stable/user_guide/indexing.html#returning-a-view-versus-a-copy\n",
      "  maine_covid_summary['Deaths Each Day'] = deaths_each_day\n"
     ]
    }
   ],
   "source": [
    "#Apply the same method\n",
    "maine_covid_summary['Deaths_Total'] = maine_covid_summary['Deaths_Total'].astype(float)\n",
    "deaths_each_day = maine_covid_summary['Deaths_Total'].diff(periods=-1)\n",
    "\n",
    "\n",
    "#Adding Cases Each Day as a column\n",
    "maine_covid_summary['Deaths Each Day'] = deaths_each_day"
   ]
  },
  {
   "cell_type": "markdown",
   "metadata": {},
   "source": [
    "## Time Series Plots"
   ]
  },
  {
   "cell_type": "code",
   "execution_count": 26,
   "metadata": {},
   "outputs": [
    {
     "data": {
      "text/plain": [
       "<AxesSubplot:title={'center':'Cases Each Day: Maine'}, xlabel='Date Time'>"
      ]
     },
     "execution_count": 26,
     "metadata": {},
     "output_type": "execute_result"
    },
    {
     "data": {
      "image/png": "[encoded data removed]",
      "text/plain": [
       "<Figure size 864x720 with 1 Axes>"
      ]
     },
     "metadata": {
      "needs_background": "light"
     },
     "output_type": "display_data"
    }
   ],
   "source": [
    "maine_covid_summary.set_index('Date Time')['Cases Each Day'].plot(figsize=(12, 10), title='Cases Each Day: Maine'\n",
    "                                                                        ,linewidth=2.5, color='green')\n"
   ]
  },
  {
   "cell_type": "code",
   "execution_count": 36,
   "metadata": {},
   "outputs": [
    {
     "data": {
      "text/plain": [
       "<AxesSubplot:title={'center':'Deaths Each Day: Maine'}, xlabel='Date Time'>"
      ]
     },
     "execution_count": 36,
     "metadata": {},
     "output_type": "execute_result"
    },
    {
     "data": {
      "image/png": "[encoded data removed]",
      "text/plain": [
       "<Figure size 864x720 with 1 Axes>"
      ]
     },
     "metadata": {
      "needs_background": "light"
     },
     "output_type": "display_data"
    }
   ],
   "source": [
    "maine_covid_summary.set_index('Date Time')['Deaths Each Day'].plot(figsize=(12, 10), title='Deaths Each Day: Maine'\n",
    "                                                                        ,linewidth=2.5, color='red')\n",
    "\n"
   ]
  },
  {
   "cell_type": "code",
   "execution_count": null,
   "metadata": {},
   "outputs": [],
   "source": []
  }
 ],
 "metadata": {
  "kernelspec": {
   "display_name": "Python 3",
   "language": "python",
   "name": "python3"
  },
  "language_info": {
   "codemirror_mode": {
    "name": "ipython",
    "version": 3
   },
   "file_extension": ".py",
   "mimetype": "text/x-python",
   "name": "python",
   "nbconvert_exporter": "python",
   "pygments_lexer": "ipython3",
   "version": "3.8.6"
  }
 },
 "nbformat": 4,
 "nbformat_minor": 4
}
