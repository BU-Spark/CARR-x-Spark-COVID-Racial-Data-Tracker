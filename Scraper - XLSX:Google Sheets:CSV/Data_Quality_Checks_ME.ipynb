{
 "cells": [
  {
   "cell_type": "markdown",
   "metadata": {},
   "source": [
    "# Import Libraries "
   ]
  },
  {
   "cell_type": "code",
   "execution_count": 1,
   "metadata": {},
   "outputs": [],
   "source": [
    "import datetime\n",
    "import csv\n",
    "from selenium import webdriver\n",
    "from selenium.webdriver.common.keys import Keys\n",
    "from bs4 import BeautifulSoup \n",
    "import datetime\n",
    "import zipfile\n",
    "import pandas as pd\n",
    "import matplotlib.pyplot as plt"
   ]
  },
  {
   "cell_type": "markdown",
   "metadata": {},
   "source": [
    "## Defining Variables Needed For Data Quality Checks"
   ]
  },
  {
   "cell_type": "code",
   "execution_count": 2,
   "metadata": {},
   "outputs": [],
   "source": [
    "#Current Data Checks for ME\n",
    "\n",
    "# - Difference in sum of cases by race v. Total cases (should be equal)\n",
    "\n",
    "# - Difference in sum of cases by ethnicity v. Total cases (should be equal)\n",
    "\n",
    "# - Difference in sum of deaths by race versus Total deaths (Within 5 values)\n",
    "\n",
    "# - Difference in sum of deaths by ethnicity v. Total deaths (Within 5 values)\n",
    "\n",
    "\n",
    "\n",
    "#These Data Checks are also included for ME, however in the Public CRDT hospital data is not listed.\n",
    "#Now added will add data checks later!\n",
    "\n",
    "# - Difference in sum of hopsital by hospital by race versus Total hospital might not be avaible\n",
    "\n",
    "# - Difference in sum of hopsital by hospital by race versus Total hospital might not be avaible\n",
    "\n",
    "\n",
    "#Variables needed\n",
    "# 1) Sum of cases by Race\n",
    "# 2) Sum of Cases by ethnicity\n",
    "# 3) Sum of Deaths by Race\n",
    "# 4) Sum of Deaths by Ethnicity\n",
    "# 4) Total Cases\n",
    "# 5) Total Deaths"
   ]
  },
  {
   "cell_type": "markdown",
   "metadata": {},
   "source": [
    "# Creating a Conversion Function"
   ]
  },
  {
   "cell_type": "code",
   "execution_count": 3,
   "metadata": {},
   "outputs": [],
   "source": [
    "def NewestTotal_Converter(df, col_name):\n",
    "    df_result = df[col_name].iloc[0:1].value[0]\n",
    "    return df_result"
   ]
  },
  {
   "cell_type": "markdown",
   "metadata": {},
   "source": [
    "## Downloading the Public CSV from CRDT"
   ]
  },
  {
   "cell_type": "code",
   "execution_count": 13,
   "metadata": {},
   "outputs": [],
   "source": [
    "public_csv = pd.read_csv(\"https://docs.google.com/spreadsheets/d/e/2PACX-1vS8SzaERcKJOD_EzrtCDK1dX1zkoMochlA9iHoHg_RSw3V8bkpfk1mpw4pfL5RdtSOyx_oScsUtyXyk/pub?gid=43720681&single=true&output=csv\")"
   ]
  },
  {
   "cell_type": "markdown",
   "metadata": {},
   "source": [
    "## Defining Maine Covid Summary from the Public CSV"
   ]
  },
  {
   "cell_type": "code",
   "execution_count": 15,
   "metadata": {},
   "outputs": [
    {
     "data": {
      "text/html": [
       "<div>\n",
       "<style scoped>\n",
       "    .dataframe tbody tr th:only-of-type {\n",
       "        vertical-align: middle;\n",
       "    }\n",
       "\n",
       "    .dataframe tbody tr th {\n",
       "        vertical-align: top;\n",
       "    }\n",
       "\n",
       "    .dataframe thead th {\n",
       "        text-align: right;\n",
       "    }\n",
       "</style>\n",
       "<table border=\"1\" class=\"dataframe\">\n",
       "  <thead>\n",
       "    <tr style=\"text-align: right;\">\n",
       "      <th></th>\n",
       "      <th>Date</th>\n",
       "      <th>State</th>\n",
       "      <th>Cases_Total</th>\n",
       "      <th>Cases_White</th>\n",
       "      <th>Cases_Black</th>\n",
       "      <th>Cases_LatinX</th>\n",
       "      <th>Cases_Asian</th>\n",
       "      <th>Cases_AIAN</th>\n",
       "      <th>Cases_NHPI</th>\n",
       "      <th>Cases_Multiracial</th>\n",
       "      <th>...</th>\n",
       "      <th>Tests_LatinX</th>\n",
       "      <th>Tests_Asian</th>\n",
       "      <th>Tests_AIAN</th>\n",
       "      <th>Tests_NHPI</th>\n",
       "      <th>Tests_Multiracial</th>\n",
       "      <th>Tests_Other</th>\n",
       "      <th>Tests_Unknown</th>\n",
       "      <th>Tests_Ethnicity_Hispanic</th>\n",
       "      <th>Tests_Ethnicity_NonHispanic</th>\n",
       "      <th>Tests_Ethnicity_Unknown</th>\n",
       "    </tr>\n",
       "  </thead>\n",
       "  <tbody>\n",
       "    <tr>\n",
       "      <th>23</th>\n",
       "      <td>20201216</td>\n",
       "      <td>ME</td>\n",
       "      <td>17311</td>\n",
       "      <td>13427</td>\n",
       "      <td>1397.0</td>\n",
       "      <td>NaN</td>\n",
       "      <td>238.0</td>\n",
       "      <td>52.0</td>\n",
       "      <td>10.0</td>\n",
       "      <td>125.0</td>\n",
       "      <td>...</td>\n",
       "      <td>NaN</td>\n",
       "      <td>NaN</td>\n",
       "      <td>NaN</td>\n",
       "      <td>NaN</td>\n",
       "      <td>NaN</td>\n",
       "      <td>NaN</td>\n",
       "      <td>NaN</td>\n",
       "      <td>NaN</td>\n",
       "      <td>NaN</td>\n",
       "      <td>NaN</td>\n",
       "    </tr>\n",
       "    <tr>\n",
       "      <th>79</th>\n",
       "      <td>20201213</td>\n",
       "      <td>ME</td>\n",
       "      <td>15923</td>\n",
       "      <td>12356</td>\n",
       "      <td>1342.0</td>\n",
       "      <td>NaN</td>\n",
       "      <td>228.0</td>\n",
       "      <td>49.0</td>\n",
       "      <td>10.0</td>\n",
       "      <td>115.0</td>\n",
       "      <td>...</td>\n",
       "      <td>NaN</td>\n",
       "      <td>NaN</td>\n",
       "      <td>NaN</td>\n",
       "      <td>NaN</td>\n",
       "      <td>NaN</td>\n",
       "      <td>NaN</td>\n",
       "      <td>NaN</td>\n",
       "      <td>NaN</td>\n",
       "      <td>NaN</td>\n",
       "      <td>NaN</td>\n",
       "    </tr>\n",
       "    <tr>\n",
       "      <th>135</th>\n",
       "      <td>20201209</td>\n",
       "      <td>ME</td>\n",
       "      <td>14454</td>\n",
       "      <td>11266</td>\n",
       "      <td>1266.0</td>\n",
       "      <td>NaN</td>\n",
       "      <td>209.0</td>\n",
       "      <td>47.0</td>\n",
       "      <td>8.0</td>\n",
       "      <td>86.0</td>\n",
       "      <td>...</td>\n",
       "      <td>NaN</td>\n",
       "      <td>NaN</td>\n",
       "      <td>NaN</td>\n",
       "      <td>NaN</td>\n",
       "      <td>NaN</td>\n",
       "      <td>NaN</td>\n",
       "      <td>NaN</td>\n",
       "      <td>NaN</td>\n",
       "      <td>NaN</td>\n",
       "      <td>NaN</td>\n",
       "    </tr>\n",
       "    <tr>\n",
       "      <th>191</th>\n",
       "      <td>20201206</td>\n",
       "      <td>ME</td>\n",
       "      <td>13348</td>\n",
       "      <td>10371</td>\n",
       "      <td>1218.0</td>\n",
       "      <td>NaN</td>\n",
       "      <td>202.0</td>\n",
       "      <td>46.0</td>\n",
       "      <td>6.0</td>\n",
       "      <td>83.0</td>\n",
       "      <td>...</td>\n",
       "      <td>NaN</td>\n",
       "      <td>NaN</td>\n",
       "      <td>NaN</td>\n",
       "      <td>NaN</td>\n",
       "      <td>NaN</td>\n",
       "      <td>NaN</td>\n",
       "      <td>NaN</td>\n",
       "      <td>NaN</td>\n",
       "      <td>NaN</td>\n",
       "      <td>NaN</td>\n",
       "    </tr>\n",
       "    <tr>\n",
       "      <th>247</th>\n",
       "      <td>20201202</td>\n",
       "      <td>ME</td>\n",
       "      <td>12208</td>\n",
       "      <td>9450</td>\n",
       "      <td>1170.0</td>\n",
       "      <td>NaN</td>\n",
       "      <td>193.0</td>\n",
       "      <td>42.0</td>\n",
       "      <td>6.0</td>\n",
       "      <td>76.0</td>\n",
       "      <td>...</td>\n",
       "      <td>NaN</td>\n",
       "      <td>NaN</td>\n",
       "      <td>NaN</td>\n",
       "      <td>NaN</td>\n",
       "      <td>NaN</td>\n",
       "      <td>NaN</td>\n",
       "      <td>NaN</td>\n",
       "      <td>NaN</td>\n",
       "      <td>NaN</td>\n",
       "      <td>NaN</td>\n",
       "    </tr>\n",
       "    <tr>\n",
       "      <th>...</th>\n",
       "      <td>...</td>\n",
       "      <td>...</td>\n",
       "      <td>...</td>\n",
       "      <td>...</td>\n",
       "      <td>...</td>\n",
       "      <td>...</td>\n",
       "      <td>...</td>\n",
       "      <td>...</td>\n",
       "      <td>...</td>\n",
       "      <td>...</td>\n",
       "      <td>...</td>\n",
       "      <td>...</td>\n",
       "      <td>...</td>\n",
       "      <td>...</td>\n",
       "      <td>...</td>\n",
       "      <td>...</td>\n",
       "      <td>...</td>\n",
       "      <td>...</td>\n",
       "      <td>...</td>\n",
       "      <td>...</td>\n",
       "      <td>...</td>\n",
       "    </tr>\n",
       "    <tr>\n",
       "      <th>3775</th>\n",
       "      <td>20200426</td>\n",
       "      <td>ME</td>\n",
       "      <td>NaN</td>\n",
       "      <td>NaN</td>\n",
       "      <td>NaN</td>\n",
       "      <td>NaN</td>\n",
       "      <td>NaN</td>\n",
       "      <td>NaN</td>\n",
       "      <td>NaN</td>\n",
       "      <td>NaN</td>\n",
       "      <td>...</td>\n",
       "      <td>NaN</td>\n",
       "      <td>NaN</td>\n",
       "      <td>NaN</td>\n",
       "      <td>NaN</td>\n",
       "      <td>NaN</td>\n",
       "      <td>NaN</td>\n",
       "      <td>NaN</td>\n",
       "      <td>NaN</td>\n",
       "      <td>NaN</td>\n",
       "      <td>NaN</td>\n",
       "    </tr>\n",
       "    <tr>\n",
       "      <th>3831</th>\n",
       "      <td>20200422</td>\n",
       "      <td>ME</td>\n",
       "      <td>NaN</td>\n",
       "      <td>NaN</td>\n",
       "      <td>NaN</td>\n",
       "      <td>NaN</td>\n",
       "      <td>NaN</td>\n",
       "      <td>NaN</td>\n",
       "      <td>NaN</td>\n",
       "      <td>NaN</td>\n",
       "      <td>...</td>\n",
       "      <td>NaN</td>\n",
       "      <td>NaN</td>\n",
       "      <td>NaN</td>\n",
       "      <td>NaN</td>\n",
       "      <td>NaN</td>\n",
       "      <td>NaN</td>\n",
       "      <td>NaN</td>\n",
       "      <td>NaN</td>\n",
       "      <td>NaN</td>\n",
       "      <td>NaN</td>\n",
       "    </tr>\n",
       "    <tr>\n",
       "      <th>3887</th>\n",
       "      <td>20200419</td>\n",
       "      <td>ME</td>\n",
       "      <td>NaN</td>\n",
       "      <td>NaN</td>\n",
       "      <td>NaN</td>\n",
       "      <td>NaN</td>\n",
       "      <td>NaN</td>\n",
       "      <td>NaN</td>\n",
       "      <td>NaN</td>\n",
       "      <td>NaN</td>\n",
       "      <td>...</td>\n",
       "      <td>NaN</td>\n",
       "      <td>NaN</td>\n",
       "      <td>NaN</td>\n",
       "      <td>NaN</td>\n",
       "      <td>NaN</td>\n",
       "      <td>NaN</td>\n",
       "      <td>NaN</td>\n",
       "      <td>NaN</td>\n",
       "      <td>NaN</td>\n",
       "      <td>NaN</td>\n",
       "    </tr>\n",
       "    <tr>\n",
       "      <th>3943</th>\n",
       "      <td>20200415</td>\n",
       "      <td>ME</td>\n",
       "      <td>NaN</td>\n",
       "      <td>NaN</td>\n",
       "      <td>NaN</td>\n",
       "      <td>NaN</td>\n",
       "      <td>NaN</td>\n",
       "      <td>NaN</td>\n",
       "      <td>NaN</td>\n",
       "      <td>NaN</td>\n",
       "      <td>...</td>\n",
       "      <td>NaN</td>\n",
       "      <td>NaN</td>\n",
       "      <td>NaN</td>\n",
       "      <td>NaN</td>\n",
       "      <td>NaN</td>\n",
       "      <td>NaN</td>\n",
       "      <td>NaN</td>\n",
       "      <td>NaN</td>\n",
       "      <td>NaN</td>\n",
       "      <td>NaN</td>\n",
       "    </tr>\n",
       "    <tr>\n",
       "      <th>3999</th>\n",
       "      <td>20200412</td>\n",
       "      <td>ME</td>\n",
       "      <td>NaN</td>\n",
       "      <td>NaN</td>\n",
       "      <td>NaN</td>\n",
       "      <td>NaN</td>\n",
       "      <td>NaN</td>\n",
       "      <td>NaN</td>\n",
       "      <td>NaN</td>\n",
       "      <td>NaN</td>\n",
       "      <td>...</td>\n",
       "      <td>NaN</td>\n",
       "      <td>NaN</td>\n",
       "      <td>NaN</td>\n",
       "      <td>NaN</td>\n",
       "      <td>NaN</td>\n",
       "      <td>NaN</td>\n",
       "      <td>NaN</td>\n",
       "      <td>NaN</td>\n",
       "      <td>NaN</td>\n",
       "      <td>NaN</td>\n",
       "    </tr>\n",
       "  </tbody>\n",
       "</table>\n",
       "<p>72 rows × 54 columns</p>\n",
       "</div>"
      ],
      "text/plain": [
       "          Date State Cases_Total Cases_White  Cases_Black  Cases_LatinX  \\\n",
       "23    20201216    ME       17311       13427       1397.0           NaN   \n",
       "79    20201213    ME       15923       12356       1342.0           NaN   \n",
       "135   20201209    ME       14454       11266       1266.0           NaN   \n",
       "191   20201206    ME       13348       10371       1218.0           NaN   \n",
       "247   20201202    ME       12208        9450       1170.0           NaN   \n",
       "...        ...   ...         ...         ...          ...           ...   \n",
       "3775  20200426    ME         NaN         NaN          NaN           NaN   \n",
       "3831  20200422    ME         NaN         NaN          NaN           NaN   \n",
       "3887  20200419    ME         NaN         NaN          NaN           NaN   \n",
       "3943  20200415    ME         NaN         NaN          NaN           NaN   \n",
       "3999  20200412    ME         NaN         NaN          NaN           NaN   \n",
       "\n",
       "      Cases_Asian  Cases_AIAN  Cases_NHPI  Cases_Multiracial  ...  \\\n",
       "23          238.0        52.0        10.0              125.0  ...   \n",
       "79          228.0        49.0        10.0              115.0  ...   \n",
       "135         209.0        47.0         8.0               86.0  ...   \n",
       "191         202.0        46.0         6.0               83.0  ...   \n",
       "247         193.0        42.0         6.0               76.0  ...   \n",
       "...           ...         ...         ...                ...  ...   \n",
       "3775          NaN         NaN         NaN                NaN  ...   \n",
       "3831          NaN         NaN         NaN                NaN  ...   \n",
       "3887          NaN         NaN         NaN                NaN  ...   \n",
       "3943          NaN         NaN         NaN                NaN  ...   \n",
       "3999          NaN         NaN         NaN                NaN  ...   \n",
       "\n",
       "      Tests_LatinX  Tests_Asian  Tests_AIAN  Tests_NHPI Tests_Multiracial  \\\n",
       "23             NaN          NaN         NaN         NaN               NaN   \n",
       "79             NaN          NaN         NaN         NaN               NaN   \n",
       "135            NaN          NaN         NaN         NaN               NaN   \n",
       "191            NaN          NaN         NaN         NaN               NaN   \n",
       "247            NaN          NaN         NaN         NaN               NaN   \n",
       "...            ...          ...         ...         ...               ...   \n",
       "3775           NaN          NaN         NaN         NaN               NaN   \n",
       "3831           NaN          NaN         NaN         NaN               NaN   \n",
       "3887           NaN          NaN         NaN         NaN               NaN   \n",
       "3943           NaN          NaN         NaN         NaN               NaN   \n",
       "3999           NaN          NaN         NaN         NaN               NaN   \n",
       "\n",
       "      Tests_Other  Tests_Unknown  Tests_Ethnicity_Hispanic  \\\n",
       "23            NaN            NaN                       NaN   \n",
       "79            NaN            NaN                       NaN   \n",
       "135           NaN            NaN                       NaN   \n",
       "191           NaN            NaN                       NaN   \n",
       "247           NaN            NaN                       NaN   \n",
       "...           ...            ...                       ...   \n",
       "3775          NaN            NaN                       NaN   \n",
       "3831          NaN            NaN                       NaN   \n",
       "3887          NaN            NaN                       NaN   \n",
       "3943          NaN            NaN                       NaN   \n",
       "3999          NaN            NaN                       NaN   \n",
       "\n",
       "      Tests_Ethnicity_NonHispanic  Tests_Ethnicity_Unknown  \n",
       "23                            NaN                      NaN  \n",
       "79                            NaN                      NaN  \n",
       "135                           NaN                      NaN  \n",
       "191                           NaN                      NaN  \n",
       "247                           NaN                      NaN  \n",
       "...                           ...                      ...  \n",
       "3775                          NaN                      NaN  \n",
       "3831                          NaN                      NaN  \n",
       "3887                          NaN                      NaN  \n",
       "3943                          NaN                      NaN  \n",
       "3999                          NaN                      NaN  \n",
       "\n",
       "[72 rows x 54 columns]"
      ]
     },
     "execution_count": 15,
     "metadata": {},
     "output_type": "execute_result"
    }
   ],
   "source": [
    "maine_covid_summary = public_csv[public_csv['State']== 'ME']\n",
    "\n",
    "maine_covid_summary"
   ]
  },
  {
   "cell_type": "markdown",
   "metadata": {},
   "source": [
    "## Creating Total Cases,  Total Cases by Race and Total Cases by Ethnicity variables"
   ]
  },
  {
   "cell_type": "code",
   "execution_count": 19,
   "metadata": {},
   "outputs": [
    {
     "name": "stdout",
     "output_type": "stream",
     "text": [
      "Total Cases in Maine as of Today\n",
      "23    17311.0\n",
      "Name: Cases_Total, dtype: float64\n",
      "Total Cases with Race in Maine\n",
      "23    17311.0\n",
      "dtype: float64\n",
      "Total Cases with Ehtnicity in Maine\n",
      "23    17311.0\n",
      "dtype: float64\n"
     ]
    }
   ],
   "source": [
    "##Add .values[0] to everything to convert\n",
    "\n",
    "\n",
    "\n",
    "#Most recent Total Cases Reported in Maine\n",
    "total_cases = maine_covid_summary['Cases_Total'].iloc[0:1]\n",
    "\n",
    "#Have to convert into a float in order to perform operations on total\n",
    "total_cases = total_cases.astype(float)\n",
    "\n",
    "print(\"Total Cases in Maine as of Today\")\n",
    "print(total_cases)\n",
    "\n",
    "\n",
    "#Need to find case totals for each race (including other and unknown)\n",
    "\n",
    "cases_white = maine_covid_summary['Cases_White'].iloc[0:1]\n",
    "cases_white = cases_white.astype(float)\n",
    "\n",
    "cases_black = maine_covid_summary['Cases_Black'].iloc[0:1]\n",
    "cases_black = cases_black.astype(float)\n",
    "\n",
    "cases_asian = maine_covid_summary['Cases_Asian'].iloc[0:1]\n",
    "cases_asian = cases_asian.astype(float)\n",
    "\n",
    "cases_aian = maine_covid_summary['Cases_AIAN'].iloc[0:1]\n",
    "cases_aian = cases_aian.astype(float)\n",
    "\n",
    "cases_NHPI = maine_covid_summary['Cases_NHPI'].iloc[0:1]\n",
    "cases_NHPI = cases_NHPI.astype(float)\n",
    "\n",
    "cases_multi = maine_covid_summary['Cases_Multiracial'].iloc[0:1]\n",
    "cases_multi = cases_multi.astype(float)\n",
    "\n",
    "cases_other = maine_covid_summary['Cases_Other'].iloc[0:1]\n",
    "cases_other = cases_other.astype(float)\n",
    "\n",
    "cases_unknown = maine_covid_summary['Cases_Unknown'].iloc[0:1]\n",
    "cases_unknown = cases_unknown.astype(float)\n",
    "\n",
    "\n",
    "total_cases_race = cases_white + cases_black + cases_asian + cases_aian + cases_NHPI + cases_multi + cases_other + cases_unknown\n",
    "print(\"Total Cases with Race in Maine\")\n",
    "print(total_cases_race)\n",
    "\n",
    "#Need to find case totals for each ethnicity (including other and unknown)\n",
    "\n",
    "cases_ethnicity_hispanic = maine_covid_summary['Cases_Ethnicity_Hispanic'].iloc[0:1]\n",
    "cases_ethnicity_hispanic = cases_ethnicity_hispanic.astype(float)\n",
    "\n",
    "cases_ethnicity_nonhispanic = maine_covid_summary['Cases_Ethnicity_NonHispanic'].iloc[0:1]\n",
    "cases_ethnicity_nonhispanic = cases_ethnicity_nonhispanic.astype(float)\n",
    "\n",
    "cases_ethnicity_unknown = maine_covid_summary['Cases_Ethnicity_Unknown'].iloc[0:1]\n",
    "cases_ethnicity_unknown = cases_ethnicity_unknown.astype(float)\n",
    "#cases_ethnicity_unknown = NewestTotal_Converter(maine_covid_summary, 'Cases_Ethnicity_Unknown')\n",
    "#cases_ethnicity_unknown\n",
    "\n",
    "total_cases_ethnicity = cases_ethnicity_hispanic + cases_ethnicity_nonhispanic + cases_ethnicity_unknown\n",
    "print(\"Total Cases with Ehtnicity in Maine\")\n",
    "print(total_cases_ethnicity)\n"
   ]
  },
  {
   "cell_type": "markdown",
   "metadata": {},
   "source": [
    "## Creating Total Deaths,  Total Deaths by Race and Total Deaths by Ethnicity variables"
   ]
  },
  {
   "cell_type": "code",
   "execution_count": 20,
   "metadata": {},
   "outputs": [
    {
     "name": "stdout",
     "output_type": "stream",
     "text": [
      "Total Deaths in Maine as of Today\n",
      "23    267.0\n",
      "Name: Deaths_Total, dtype: float64\n",
      "Total Deaths with Race in Maine\n",
      "23    267.0\n",
      "dtype: float64\n",
      "Total Deaths with Ethnicity in Maine\n",
      "267.0\n"
     ]
    }
   ],
   "source": [
    "#Most recent Total Cases Reported in Maine\n",
    "total_deaths = maine_covid_summary['Deaths_Total'].iloc[0:1]\n",
    "\n",
    "#Have to convert into a float in order to perform operations on total\n",
    "total_deaths = total_deaths.astype(float)\n",
    "\n",
    "#Printing out Total Deaths\n",
    "print(\"Total Deaths in Maine as of Today\")\n",
    "print(total_deaths)\n",
    "\n",
    "\n",
    "#Need to find death totals for each race (including other and unknown)\n",
    "\n",
    "deaths_white = maine_covid_summary['Deaths_White'].iloc[0:1]\n",
    "deaths_white = deaths_white.astype(float)\n",
    "\n",
    "deaths_black = maine_covid_summary['Deaths_Black'].iloc[0:1]\n",
    "deaths_black = deaths_black.astype(float)\n",
    "\n",
    "deaths_asian = maine_covid_summary['Deaths_Asian'].iloc[0:1]\n",
    "deaths_asian = deaths_asian.astype(float)\n",
    "\n",
    "deaths_aian = maine_covid_summary['Deaths_AIAN'].iloc[0:1]\n",
    "deaths_aian = deaths_aian.astype(float)\n",
    "\n",
    "deaths_NHPI = maine_covid_summary['Deaths_NHPI'].iloc[0:1]\n",
    "deaths_NHPI = deaths_NHPI.astype(float)\n",
    "\n",
    "deaths_multi = maine_covid_summary['Deaths_Multiracial'].iloc[0:1]\n",
    "deaths_multi = deaths_multi.astype(float)\n",
    "\n",
    "deaths_other = maine_covid_summary['Deaths_Other'].iloc[0:1]\n",
    "deaths_other = deaths_other.astype(float)\n",
    "\n",
    "deaths_unknown = maine_covid_summary['Deaths_Unknown'].iloc[0:1]\n",
    "deaths_unknown = deaths_unknown.astype(float)\n",
    "\n",
    "\n",
    "total_deaths_race = deaths_white + deaths_black + deaths_asian + deaths_aian + deaths_NHPI + deaths_multi + deaths_other + deaths_unknown\n",
    "\n",
    "print(\"Total Deaths with Race in Maine\")\n",
    "print(total_deaths_race)\n",
    "\n",
    "\n",
    "#Need to find death totals for each ethnicity (including other and unknown)\n",
    "\n",
    "deaths_ethnicity_hispanic = maine_covid_summary['Deaths_Ethnicity_Hispanic'].iloc[0:1].values[0]\n",
    "deaths_ethnicity_hispanic = deaths_ethnicity_hispanic.astype(float)\n",
    "\n",
    "deaths_ethnicity_nonhispanic = maine_covid_summary['Deaths_Ethnicity_NonHispanic'].iloc[0:1].values[0]\n",
    "deaths_ethnicity_nonhispanic = deaths_ethnicity_nonhispanic.astype(float)\n",
    "\n",
    "deaths_ethnicity_unknown = maine_covid_summary['Deaths_Ethnicity_Unknown'].iloc[0:1].values[0]\n",
    "deaths_ethnicity_unknown = deaths_ethnicity_unknown.astype(float)\n",
    "\n",
    "total_deaths_ethnicity = deaths_ethnicity_hispanic + deaths_ethnicity_nonhispanic + deaths_ethnicity_unknown\n",
    "\n",
    "\n",
    "print(\"Total Deaths with Ethnicity in Maine\")\n",
    "print(total_deaths_ethnicity)"
   ]
  },
  {
   "cell_type": "markdown",
   "metadata": {},
   "source": [
    "## Creating Total Deaths,  Total Deaths by Race and Total Deaths by Ethnicity variables"
   ]
  },
  {
   "cell_type": "code",
   "execution_count": 49,
   "metadata": {},
   "outputs": [
    {
     "name": "stdout",
     "output_type": "stream",
     "text": [
      "Total Hospitalizations in Massachusetts as of Today\n",
      "23    934.0\n",
      "Name: Hosp_Total, dtype: float64\n",
      "Total Hospitalizations with Race in Maine\n",
      "23   NaN\n",
      "dtype: float64\n",
      "Total Hospitalizations with Ethnicity in Maine\n",
      "23    934.0\n",
      "dtype: float64\n"
     ]
    }
   ],
   "source": [
    "#Most recent Total Cases Reported in Maine\n",
    "total_hosp = maine_covid_summary['Hosp_Total'].iloc[0:1]\n",
    "\n",
    "#Have to convert into a float in order to perform operations on total\n",
    "#total_hosp = total_hosp.astype(float)\n",
    "\n",
    "#Printing out Total Hospitalizations\n",
    "print(\"Total Hospitalizations in Massachusetts as of Today\")\n",
    "print(total_hosp)\n",
    "\n",
    "\n",
    "#Need to find Hospitalizations totals for each race (including other and unknown)\n",
    "\n",
    "hosp_white = maine_covid_summary['Hosp_White'].iloc[0:1]\n",
    "hosp_white = hosp_white.astype(float)\n",
    "\n",
    "\n",
    "hosp_black = maine_covid_summary['Hosp_Black'].iloc[0:1]\n",
    "hosp_black = hosp_black.astype(float)\n",
    "\n",
    "\n",
    "hosp_latinx = maine_covid_summary['Hosp_LatinX'].iloc[0:1]\n",
    "hosp_latinx = hosp_latinx.astype(float)\n",
    "\n",
    "\n",
    "hosp_asian = maine_covid_summary['Hosp_Asian'].iloc[0:1]\n",
    "hosp_asian = hosp_asian.astype(float)\n",
    "\n",
    "hosp_aian = maine_covid_summary['Deaths_AIAN'].iloc[0:1]\n",
    "hosp_aian = hosp_aian.astype(float)\n",
    "\n",
    "hosp_NHPI = maine_covid_summary['Deaths_NHPI'].iloc[0:1]\n",
    "hosp_NHPI = hosp_NHPI.astype(float)\n",
    "\n",
    "hosp_multi = maine_covid_summary['Deaths_Multiracial'].iloc[0:1]\n",
    "hosp_multi = hosp_multi.astype(float)\n",
    "\n",
    "hosp_other = maine_covid_summary['Hosp_Other'].iloc[0:1]\n",
    "hosp_other = hosp_other.astype(float)\n",
    "\n",
    "hosp_unknown = maine_covid_summary['Hosp_Unknown'].iloc[0:1]\n",
    "hosp_unknown = hosp_unknown.astype(float)\n",
    "\n",
    "\n",
    "total_hosp_race = hosp_white + hosp_black + hosp_latinx + hosp_asian + hosp_other + hosp_unknown\n",
    "\n",
    "#Recently, started printing out NaN\n",
    "print(\"Total Hospitalizations with Race in Maine\")\n",
    "print(total_hosp_race)\n",
    "\n",
    "\n",
    "#Need to find Hospitalizations totals for each ethnicity (including other and unknown)\n",
    "\n",
    "hosp_ethnicity_hispanic = maine_covid_summary['Hosp_Ethnicity_Hispanic'].iloc[0:1]\n",
    "hosp_ethnicity_hispanic = hosp_ethnicity_hispanic.astype(float)\n",
    "\n",
    "hosp_ethnicity_nonhispanic = maine_covid_summary['Hosp_Ethnicity_NonHispanic'].iloc[0:1]\n",
    "hosp_ethnicity_nonhispanic = hosp_ethnicity_nonhispanic.astype(float)\n",
    "\n",
    "hosp_ethnicity_unknown = maine_covid_summary['Hosp_Ethnicity_Unknown'].iloc[0:1]\n",
    "hosp_ethnicity_unknown = hosp_ethnicity_unknown.astype(float)\n",
    "\n",
    "total_hosp_ethnicity = hosp_ethnicity_hispanic + hosp_ethnicity_nonhispanic + hosp_ethnicity_unknown\n",
    "\n",
    "print(\"Total Hospitalizations with Ethnicity in Maine\")\n",
    "print(total_hosp_ethnicity)"
   ]
  },
  {
   "cell_type": "markdown",
   "metadata": {},
   "source": [
    "## Data Quality Checking Clause"
   ]
  },
  {
   "cell_type": "code",
   "execution_count": 41,
   "metadata": {},
   "outputs": [],
   "source": [
    "#Checking if Total Cases and Cases with Race are equal.\n",
    "#If not equal will print an error statment.\n",
    "if ((total_cases - total_cases_race) != 0.0).bool():\n",
    "    print(\"Data Quality Check Needed for Cases with Race.\")\n",
    "\n",
    "    \n",
    "#Checking if Total Cases and Cases with Ethnicity are equal.  \n",
    "#If not equal will print an error statment.   \n",
    "if ((total_cases - total_cases_ethnicity) != 0.0).bool():\n",
    "    print(\"Data Quality Check Needed for Cases with Ethnicity.\")\n",
    "    \n",
    "    \n",
    "#Checking if Total Deaths and Deaths with Race are within 5 values.  \n",
    "#If not equal will print an error statment.\n",
    "if ((total_deaths - total_deaths_race) > 5.0).bool():\n",
    "    print(\"Data Quality Check Needed for Deaths with Race.\")\n",
    "    \n",
    "\n",
    "#Checking if Total Deaths and Deaths with Ethnicity are within 5 values.  \n",
    "#If not equal will print an error statment. \n",
    "if ((total_deaths - total_deaths_ethnicity) > 5.0).bool():\n",
    "    print(\"Data Quality Check Needed for Cases with Ethnicity.\")\n",
    "    \n",
    "#Checking if Total Hospitalizations and Hospitalizations with Race are equal.\n",
    "#If not equal will print an error statment.\n",
    "if ((total_hosp - total_hosp_race) > 5).bool():\n",
    "    print(\"Data Quality Check Needed for Hospitalizations with Race.\")\n",
    "\n",
    "    \n",
    "#Checking if Total Hospitalizations and Hospitalizations with Ethnicity are equal.  \n",
    "#If not equal will print an error statment.   \n",
    "if ((total_hosp - total_hosp_ethnicity) > 5).bool():\n",
    "    print(\"Data Quality Check Needed for Hospitalizations with Ethnicity.\")"
   ]
  },
  {
   "cell_type": "markdown",
   "metadata": {},
   "source": [
    "## Creating a Case Each Day Column to use in Time Series Plots"
   ]
  },
  {
   "cell_type": "code",
   "execution_count": 42,
   "metadata": {},
   "outputs": [
    {
     "name": "stderr",
     "output_type": "stream",
     "text": [
      "<ipython-input-42-b34f4afcd826>:3: SettingWithCopyWarning: \n",
      "A value is trying to be set on a copy of a slice from a DataFrame.\n",
      "Try using .loc[row_indexer,col_indexer] = value instead\n",
      "\n",
      "See the caveats in the documentation: https://pandas.pydata.org/pandas-docs/stable/user_guide/indexing.html#returning-a-view-versus-a-copy\n",
      "  maine_covid_summary['Cases_Total'] = maine_covid_summary['Cases_Total'].astype(float)\n",
      "<ipython-input-42-b34f4afcd826>:7: SettingWithCopyWarning: \n",
      "A value is trying to be set on a copy of a slice from a DataFrame.\n",
      "Try using .loc[row_indexer,col_indexer] = value instead\n",
      "\n",
      "See the caveats in the documentation: https://pandas.pydata.org/pandas-docs/stable/user_guide/indexing.html#returning-a-view-versus-a-copy\n",
      "  maine_covid_summary['Cases Each Day'] = cases_each_day\n"
     ]
    }
   ],
   "source": [
    "#In order to find Total Cases Each Day need to subtract next row from previous row\n",
    "#However first need to convert column type to float\n",
    "maine_covid_summary['Cases_Total'] = maine_covid_summary['Cases_Total'].astype(float)\n",
    "cases_each_day = maine_covid_summary['Cases_Total'].diff(periods=-1)\n",
    "\n",
    "#Adding Cases Each Day as a column\n",
    "maine_covid_summary['Cases Each Day'] = cases_each_day\n",
    "\n",
    "#Maybe change cases each day to cases each week"
   ]
  },
  {
   "cell_type": "markdown",
   "metadata": {},
   "source": [
    "## Creating a Date Time Column to use In Time Series Plot"
   ]
  },
  {
   "cell_type": "code",
   "execution_count": 43,
   "metadata": {},
   "outputs": [
    {
     "name": "stderr",
     "output_type": "stream",
     "text": [
      "<ipython-input-43-4db022e0de27>:8: SettingWithCopyWarning: \n",
      "A value is trying to be set on a copy of a slice from a DataFrame.\n",
      "Try using .loc[row_indexer,col_indexer] = value instead\n",
      "\n",
      "See the caveats in the documentation: https://pandas.pydata.org/pandas-docs/stable/user_guide/indexing.html#returning-a-view-versus-a-copy\n",
      "  maine_covid_summary[\"Date Time\"] = date_strings\n",
      "<ipython-input-43-4db022e0de27>:10: SettingWithCopyWarning: \n",
      "A value is trying to be set on a copy of a slice from a DataFrame.\n",
      "Try using .loc[row_indexer,col_indexer] = value instead\n",
      "\n",
      "See the caveats in the documentation: https://pandas.pydata.org/pandas-docs/stable/user_guide/indexing.html#returning-a-view-versus-a-copy\n",
      "  maine_covid_summary['Date Time'] =  pd.to_datetime(maine_covid_summary['Date Time'], format='%Y/%m/%d')\n"
     ]
    }
   ],
   "source": [
    "#Structuring the Date to be in YYYY/MM/DD format\n",
    "date_strings = []\n",
    "\n",
    "for dates in maine_covid_summary['Date'].astype(str):\n",
    "    date_formatted = dates[0:4] + \"/\" + dates[4:6] + \"/\" + dates[6:8]\n",
    "    date_strings.append(date_formatted)\n",
    "    \n",
    "maine_covid_summary[\"Date Time\"] = date_strings\n",
    "\n",
    "maine_covid_summary['Date Time'] =  pd.to_datetime(maine_covid_summary['Date Time'], format='%Y/%m/%d')  "
   ]
  },
  {
   "cell_type": "markdown",
   "metadata": {},
   "source": [
    "## Creating a Deaths Each Day Column to use in Time Series Plots"
   ]
  },
  {
   "cell_type": "code",
   "execution_count": 44,
   "metadata": {},
   "outputs": [
    {
     "name": "stderr",
     "output_type": "stream",
     "text": [
      "<ipython-input-44-362531065d8d>:2: SettingWithCopyWarning: \n",
      "A value is trying to be set on a copy of a slice from a DataFrame.\n",
      "Try using .loc[row_indexer,col_indexer] = value instead\n",
      "\n",
      "See the caveats in the documentation: https://pandas.pydata.org/pandas-docs/stable/user_guide/indexing.html#returning-a-view-versus-a-copy\n",
      "  maine_covid_summary['Deaths_Total'] = maine_covid_summary['Deaths_Total'].astype(float)\n",
      "<ipython-input-44-362531065d8d>:7: SettingWithCopyWarning: \n",
      "A value is trying to be set on a copy of a slice from a DataFrame.\n",
      "Try using .loc[row_indexer,col_indexer] = value instead\n",
      "\n",
      "See the caveats in the documentation: https://pandas.pydata.org/pandas-docs/stable/user_guide/indexing.html#returning-a-view-versus-a-copy\n",
      "  maine_covid_summary['Deaths Each Day'] = deaths_each_day\n"
     ]
    }
   ],
   "source": [
    "#Apply the same method\n",
    "maine_covid_summary['Deaths_Total'] = maine_covid_summary['Deaths_Total'].astype(float)\n",
    "deaths_each_day = maine_covid_summary['Deaths_Total'].diff(periods=-1)\n",
    "\n",
    "\n",
    "#Adding Cases Each Day as a column\n",
    "maine_covid_summary['Deaths Each Day'] = deaths_each_day"
   ]
  },
  {
   "cell_type": "markdown",
   "metadata": {},
   "source": [
    "# Creating a Hospitalizations Each Day Column to use in Time Series Plots"
   ]
  },
  {
   "cell_type": "code",
   "execution_count": 45,
   "metadata": {},
   "outputs": [
    {
     "name": "stderr",
     "output_type": "stream",
     "text": [
      "<ipython-input-45-bfdaab333e2b>:2: SettingWithCopyWarning: \n",
      "A value is trying to be set on a copy of a slice from a DataFrame.\n",
      "Try using .loc[row_indexer,col_indexer] = value instead\n",
      "\n",
      "See the caveats in the documentation: https://pandas.pydata.org/pandas-docs/stable/user_guide/indexing.html#returning-a-view-versus-a-copy\n",
      "  maine_covid_summary['Hosp_Total'] = maine_covid_summary['Hosp_Total'].astype(float)\n",
      "<ipython-input-45-bfdaab333e2b>:7: SettingWithCopyWarning: \n",
      "A value is trying to be set on a copy of a slice from a DataFrame.\n",
      "Try using .loc[row_indexer,col_indexer] = value instead\n",
      "\n",
      "See the caveats in the documentation: https://pandas.pydata.org/pandas-docs/stable/user_guide/indexing.html#returning-a-view-versus-a-copy\n",
      "  maine_covid_summary['Hosp Each Day'] = hosp_each_day\n"
     ]
    }
   ],
   "source": [
    "#Apply the same method\n",
    "maine_covid_summary['Hosp_Total'] = maine_covid_summary['Hosp_Total'].astype(float)\n",
    "hosp_each_day = maine_covid_summary['Hosp_Total'].diff(periods=-1)\n",
    "\n",
    "\n",
    "#Adding Cases Each Day as a column\n",
    "maine_covid_summary['Hosp Each Day'] = hosp_each_day"
   ]
  },
  {
   "cell_type": "markdown",
   "metadata": {},
   "source": [
    "## Time Series Plots"
   ]
  },
  {
   "cell_type": "code",
   "execution_count": 46,
   "metadata": {},
   "outputs": [
    {
     "data": {
      "text/plain": [
       "<AxesSubplot:title={'center':'Cases Each Day: Maine'}, xlabel='Date Time'>"
      ]
     },
     "execution_count": 46,
     "metadata": {},
     "output_type": "execute_result"
    },
    {
     "data": {
      "image/png": "[encoded data removed]",
      "text/plain": [
       "<Figure size 864x720 with 1 Axes>"
      ]
     },
     "metadata": {
      "needs_background": "light"
     },
     "output_type": "display_data"
    }
   ],
   "source": [
    "maine_covid_summary.set_index('Date Time')['Cases Each Day'].plot(figsize=(12, 10), title='Cases Each Day: Maine'\n",
    "                                                                        ,linewidth=2.5, color='green')\n"
   ]
  },
  {
   "cell_type": "code",
   "execution_count": 47,
   "metadata": {},
   "outputs": [
    {
     "data": {
      "text/plain": [
       "<AxesSubplot:title={'center':'Deaths Each Day: Maine'}, xlabel='Date Time'>"
      ]
     },
     "execution_count": 47,
     "metadata": {},
     "output_type": "execute_result"
    },
    {
     "data": {
      "image/png": "[encoded data removed]",
      "text/plain": [
       "<Figure size 864x720 with 1 Axes>"
      ]
     },
     "metadata": {
      "needs_background": "light"
     },
     "output_type": "display_data"
    }
   ],
   "source": [
    "maine_covid_summary.set_index('Date Time')['Deaths Each Day'].plot(figsize=(12, 10), title='Deaths Each Day: Maine'\n",
    "                                                                        ,linewidth=2.5, color='red')\n",
    "\n"
   ]
  },
  {
   "cell_type": "code",
   "execution_count": 48,
   "metadata": {},
   "outputs": [
    {
     "data": {
      "text/plain": [
       "<AxesSubplot:title={'center':'Hospitalizations Each Day: Maine'}, xlabel='Date Time'>"
      ]
     },
     "execution_count": 48,
     "metadata": {},
     "output_type": "execute_result"
    },
    {
     "data": {
      "image/png": "[encoded data removed]",
      "text/plain": [
       "<Figure size 864x720 with 1 Axes>"
      ]
     },
     "metadata": {
      "needs_background": "light"
     },
     "output_type": "display_data"
    }
   ],
   "source": [
    "maine_covid_summary.set_index('Date Time')['Hosp Each Day'].plot(figsize=(12, 10), title='Hospitalizations Each Day: Maine'\n",
    "                                                                        ,linewidth=2.5, color='blue')\n",
    "\n",
    "\n"
   ]
  },
  {
   "cell_type": "code",
   "execution_count": null,
   "metadata": {},
   "outputs": [],
   "source": []
  }
 ],
 "metadata": {
  "kernelspec": {
   "display_name": "Python 3",
   "language": "python",
   "name": "python3"
  },
  "language_info": {
   "codemirror_mode": {
    "name": "ipython",
    "version": 3
   },
   "file_extension": ".py",
   "mimetype": "text/x-python",
   "name": "python",
   "nbconvert_exporter": "python",
   "pygments_lexer": "ipython3",
   "version": "3.8.6"
  }
 },
 "nbformat": 4,
 "nbformat_minor": 4
}
