{
 "cells": [
  {
   "cell_type": "code",
   "execution_count": 17,
   "metadata": {},
   "outputs": [],
   "source": [
    "from selenium import webdriver\n",
    "from bs4 import BeautifulSoup\n",
    "import zipfile\n",
    "import pandas as pd\n",
    "from io import StringIO\n",
    "import requests\n",
    "import csv\n",
    "import time\n",
    "import random"
   ]
  },
  {
   "cell_type": "markdown",
   "metadata": {},
   "source": [
    "# Creating Dataframe"
   ]
  },
  {
   "cell_type": "code",
   "execution_count": 18,
   "metadata": {},
   "outputs": [],
   "source": [
    "#pip import xlrx (Python Library extract Excel spreadsheets)\n",
    "\n",
    "Indiana_url = \"https://hub.mph.in.gov/dataset/62ddcb15-bbe8-477b-bb2e-175ee5af8629/resource/2538d7f1-391b-4733-90b3-9e95cd5f3ea6/download/covid_report_demographics.xlsx\"\n",
    "\n",
    "#takes data from the \"Race\" tab in the spreadsheet\n",
    "Indiana_race = pd.read_excel(Indiana_url, \"Race\")\n",
    "\n",
    "#takes data from the \"Ethnicity\" tab in the spreadsheet\n",
    "Indiana_ethnicity = pd.read_excel(Indiana_url, \"Ethnicity\")"
   ]
  },
  {
   "cell_type": "markdown",
   "metadata": {},
   "source": [
    "# Data Cleaning"
   ]
  },
  {
   "cell_type": "code",
   "execution_count": 19,
   "metadata": {},
   "outputs": [],
   "source": [
    "#delete columns which are not used for COVID Racial Data Tracker\n",
    "Indiana_race = Indiana_race.drop(['COVID_TEST_PCT','COVID_COUNT_PCT','COVID_DEATHS_PCT'], 1)\n",
    "Indiana_ethnicity = Indiana_ethnicity.drop(['COVID_TEST_PCT','COVID_COUNT_PCT','COVID_DEATHS_PCT'], 1)\n",
    "\n",
    "#renames COVID_COUNT to cases\n",
    "Indiana_race.rename(columns = {'COVID_COUNT':'Cases'}, inplace = True)\n",
    "Indiana_race.rename(columns = {'COVID_TEST':'Tests'}, inplace = True)\n",
    "Indiana_race.rename(columns = {'COVID_DEATHS':'Deaths'}, inplace = True)\n",
    "Indiana_ethnicity.rename(columns = {'COVID_COUNT':'Cases'}, inplace = True)\n",
    "Indiana_ethnicity.rename(columns = {'COVID_TEST':'Tests'}, inplace = True)\n",
    "Indiana_ethnicity.rename(columns = {'COVID_DEATHS':'Deaths'}, inplace = True)\n",
    "\n",
    "# #repositioning columns for IN\n",
    "Indiana_race = Indiana_race[['RACE', 'Cases', 'Deaths', 'Tests']]\n",
    "\n",
    "# #repositioning columns for GA\n",
    "Indiana_ethnicity = Indiana_ethnicity[['ETHNICITY', 'Cases', 'Deaths', 'Tests']]"
   ]
  },
  {
   "cell_type": "markdown",
   "metadata": {},
   "source": [
    "# Indiana Race Dataframe"
   ]
  },
  {
   "cell_type": "code",
   "execution_count": 20,
   "metadata": {},
   "outputs": [
    {
     "data": {
      "text/html": [
       "<div>\n",
       "<style scoped>\n",
       "    .dataframe tbody tr th:only-of-type {\n",
       "        vertical-align: middle;\n",
       "    }\n",
       "\n",
       "    .dataframe tbody tr th {\n",
       "        vertical-align: top;\n",
       "    }\n",
       "\n",
       "    .dataframe thead th {\n",
       "        text-align: right;\n",
       "    }\n",
       "</style>\n",
       "<table border=\"1\" class=\"dataframe\">\n",
       "  <thead>\n",
       "    <tr style=\"text-align: right;\">\n",
       "      <th></th>\n",
       "      <th>RACE</th>\n",
       "      <th>Cases</th>\n",
       "      <th>Deaths</th>\n",
       "      <th>Tests</th>\n",
       "    </tr>\n",
       "  </thead>\n",
       "  <tbody>\n",
       "    <tr>\n",
       "      <th>0</th>\n",
       "      <td>Asian</td>\n",
       "      <td>2004</td>\n",
       "      <td>22</td>\n",
       "      <td>29875</td>\n",
       "    </tr>\n",
       "    <tr>\n",
       "      <th>1</th>\n",
       "      <td>Black or African American</td>\n",
       "      <td>13887</td>\n",
       "      <td>473</td>\n",
       "      <td>127472</td>\n",
       "    </tr>\n",
       "    <tr>\n",
       "      <th>2</th>\n",
       "      <td>Other Race</td>\n",
       "      <td>22162</td>\n",
       "      <td>539</td>\n",
       "      <td>196777</td>\n",
       "    </tr>\n",
       "    <tr>\n",
       "      <th>3</th>\n",
       "      <td>Unknown</td>\n",
       "      <td>32450</td>\n",
       "      <td>290</td>\n",
       "      <td>227410</td>\n",
       "    </tr>\n",
       "    <tr>\n",
       "      <th>4</th>\n",
       "      <td>White</td>\n",
       "      <td>96061</td>\n",
       "      <td>2634</td>\n",
       "      <td>1065008</td>\n",
       "    </tr>\n",
       "  </tbody>\n",
       "</table>\n",
       "</div>"
      ],
      "text/plain": [
       "                        RACE  Cases  Deaths    Tests\n",
       "0                      Asian   2004      22    29875\n",
       "1  Black or African American  13887     473   127472\n",
       "2                 Other Race  22162     539   196777\n",
       "3                    Unknown  32450     290   227410\n",
       "4                      White  96061    2634  1065008"
      ]
     },
     "execution_count": 20,
     "metadata": {},
     "output_type": "execute_result"
    }
   ],
   "source": [
    "Indiana_race"
   ]
  },
  {
   "cell_type": "markdown",
   "metadata": {},
   "source": [
    "# Indiana Ethnicity Dataframe"
   ]
  },
  {
   "cell_type": "code",
   "execution_count": 21,
   "metadata": {},
   "outputs": [
    {
     "data": {
      "text/html": [
       "<div>\n",
       "<style scoped>\n",
       "    .dataframe tbody tr th:only-of-type {\n",
       "        vertical-align: middle;\n",
       "    }\n",
       "\n",
       "    .dataframe tbody tr th {\n",
       "        vertical-align: top;\n",
       "    }\n",
       "\n",
       "    .dataframe thead th {\n",
       "        text-align: right;\n",
       "    }\n",
       "</style>\n",
       "<table border=\"1\" class=\"dataframe\">\n",
       "  <thead>\n",
       "    <tr style=\"text-align: right;\">\n",
       "      <th></th>\n",
       "      <th>ETHNICITY</th>\n",
       "      <th>Cases</th>\n",
       "      <th>Deaths</th>\n",
       "      <th>Tests</th>\n",
       "    </tr>\n",
       "  </thead>\n",
       "  <tbody>\n",
       "    <tr>\n",
       "      <th>0</th>\n",
       "      <td>Hispanic or Latino</td>\n",
       "      <td>13292</td>\n",
       "      <td>101</td>\n",
       "      <td>57968</td>\n",
       "    </tr>\n",
       "    <tr>\n",
       "      <th>1</th>\n",
       "      <td>Not Hispanic or Latino</td>\n",
       "      <td>67150</td>\n",
       "      <td>1978</td>\n",
       "      <td>694331</td>\n",
       "    </tr>\n",
       "    <tr>\n",
       "      <th>2</th>\n",
       "      <td>Unknown</td>\n",
       "      <td>86122</td>\n",
       "      <td>1879</td>\n",
       "      <td>894243</td>\n",
       "    </tr>\n",
       "  </tbody>\n",
       "</table>\n",
       "</div>"
      ],
      "text/plain": [
       "                ETHNICITY  Cases  Deaths   Tests\n",
       "0      Hispanic or Latino  13292     101   57968\n",
       "1  Not Hispanic or Latino  67150    1978  694331\n",
       "2                 Unknown  86122    1879  894243"
      ]
     },
     "execution_count": 21,
     "metadata": {},
     "output_type": "execute_result"
    }
   ],
   "source": [
    "Indiana_ethnicity"
   ]
  }
 ],
 "metadata": {
  "kernelspec": {
   "display_name": "Python 3",
   "language": "python",
   "name": "python3"
  },
  "language_info": {
   "codemirror_mode": {
    "name": "ipython",
    "version": 3
   },
   "file_extension": ".py",
   "mimetype": "text/x-python",
   "name": "python",
   "nbconvert_exporter": "python",
   "pygments_lexer": "ipython3",
   "version": "3.8.6"
  }
 },
 "nbformat": 4,
 "nbformat_minor": 4
}
