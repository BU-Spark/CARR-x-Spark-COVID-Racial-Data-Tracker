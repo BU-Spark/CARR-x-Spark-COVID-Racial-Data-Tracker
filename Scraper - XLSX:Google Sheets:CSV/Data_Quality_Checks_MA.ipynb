{
 "cells": [
  {
   "cell_type": "code",
   "execution_count": 2,
   "metadata": {},
   "outputs": [],
   "source": [
    "import datetime\n",
    "import csv\n",
    "from selenium import webdriver\n",
    "from selenium.webdriver.common.keys import Keys\n",
    "from bs4 import BeautifulSoup \n",
    "import datetime\n",
    "import zipfile\n",
    "import pandas as pd\n",
    "import matplotlib.pyplot as plt"
   ]
  },
  {
   "cell_type": "markdown",
   "metadata": {},
   "source": [
    "# Defining Variables Needed For Data Quality Checks"
   ]
  },
  {
   "cell_type": "code",
   "execution_count": 3,
   "metadata": {},
   "outputs": [],
   "source": [
    "#Current Data Checks for MA\n",
    "\n",
    "# - Difference in sum of cases by race v. Total confirmed cases (should be equal)\n",
    "\n",
    "# - Difference in sum of deaths by race v. Total deaths (should be equal)\n",
    "\n",
    "# - Difference in sum of hopsital by hospital by race versus Total hospital (should be equal)\n",
    "\n",
    "\n",
    "#Variables needed\n",
    "# 1) Sum of cases by Race\n",
    "# 2) Sum of Deaths by Race\n",
    "# 3) Sum of hospital by Race\n",
    "# 4) Total Hospital\n",
    "# 5) Total Cases\n",
    "# 6) Total Deaths"
   ]
  },
  {
   "cell_type": "markdown",
   "metadata": {},
   "source": [
    "# Downloading the Public CSV from CRDT"
   ]
  },
  {
   "cell_type": "code",
   "execution_count": 5,
   "metadata": {},
   "outputs": [],
   "source": [
    "public_csv = pd.read_csv(\"https://docs.google.com/spreadsheets/d/e/2PACX-1vS8SzaERcKJOD_EzrtCDK1dX1zkoMochlA9iHoHg_RSw3V8bkpfk1mpw4pfL5RdtSOyx_oScsUtyXyk/pub?gid=43720681&single=true&output=csv\")"
   ]
  },
  {
   "cell_type": "markdown",
   "metadata": {},
   "source": [
    "# Defining MA Covid Summary from the Public CSV"
   ]
  },
  {
   "cell_type": "code",
   "execution_count": 6,
   "metadata": {},
   "outputs": [
    {
     "data": {
      "text/html": [
       "<div>\n",
       "<style scoped>\n",
       "    .dataframe tbody tr th:only-of-type {\n",
       "        vertical-align: middle;\n",
       "    }\n",
       "\n",
       "    .dataframe tbody tr th {\n",
       "        vertical-align: top;\n",
       "    }\n",
       "\n",
       "    .dataframe thead th {\n",
       "        text-align: right;\n",
       "    }\n",
       "</style>\n",
       "<table border=\"1\" class=\"dataframe\">\n",
       "  <thead>\n",
       "    <tr style=\"text-align: right;\">\n",
       "      <th></th>\n",
       "      <th>Date</th>\n",
       "      <th>State</th>\n",
       "      <th>Cases_Total</th>\n",
       "      <th>Cases_White</th>\n",
       "      <th>Cases_Black</th>\n",
       "      <th>Cases_LatinX</th>\n",
       "      <th>Cases_Asian</th>\n",
       "      <th>Cases_AIAN</th>\n",
       "      <th>Cases_NHPI</th>\n",
       "      <th>Cases_Multiracial</th>\n",
       "      <th>...</th>\n",
       "      <th>Tests_LatinX</th>\n",
       "      <th>Tests_Asian</th>\n",
       "      <th>Tests_AIAN</th>\n",
       "      <th>Tests_NHPI</th>\n",
       "      <th>Tests_Multiracial</th>\n",
       "      <th>Tests_Other</th>\n",
       "      <th>Tests_Unknown</th>\n",
       "      <th>Tests_Ethnicity_Hispanic</th>\n",
       "      <th>Tests_Ethnicity_NonHispanic</th>\n",
       "      <th>Tests_Ethnicity_Unknown</th>\n",
       "    </tr>\n",
       "  </thead>\n",
       "  <tbody>\n",
       "    <tr>\n",
       "      <th>21</th>\n",
       "      <td>20201220</td>\n",
       "      <td>MA</td>\n",
       "      <td>323531</td>\n",
       "      <td>101189</td>\n",
       "      <td>20734.0</td>\n",
       "      <td>69879.0</td>\n",
       "      <td>7429.0</td>\n",
       "      <td>NaN</td>\n",
       "      <td>NaN</td>\n",
       "      <td>NaN</td>\n",
       "      <td>...</td>\n",
       "      <td>NaN</td>\n",
       "      <td>NaN</td>\n",
       "      <td>NaN</td>\n",
       "      <td>NaN</td>\n",
       "      <td>NaN</td>\n",
       "      <td>NaN</td>\n",
       "      <td>NaN</td>\n",
       "      <td>NaN</td>\n",
       "      <td>NaN</td>\n",
       "      <td>NaN</td>\n",
       "    </tr>\n",
       "    <tr>\n",
       "      <th>77</th>\n",
       "      <td>20201216</td>\n",
       "      <td>MA</td>\n",
       "      <td>304112</td>\n",
       "      <td>88188</td>\n",
       "      <td>18890.0</td>\n",
       "      <td>62098.0</td>\n",
       "      <td>6532.0</td>\n",
       "      <td>NaN</td>\n",
       "      <td>NaN</td>\n",
       "      <td>NaN</td>\n",
       "      <td>...</td>\n",
       "      <td>NaN</td>\n",
       "      <td>NaN</td>\n",
       "      <td>NaN</td>\n",
       "      <td>NaN</td>\n",
       "      <td>NaN</td>\n",
       "      <td>NaN</td>\n",
       "      <td>NaN</td>\n",
       "      <td>NaN</td>\n",
       "      <td>NaN</td>\n",
       "      <td>NaN</td>\n",
       "    </tr>\n",
       "    <tr>\n",
       "      <th>133</th>\n",
       "      <td>20201213</td>\n",
       "      <td>MA</td>\n",
       "      <td>290578</td>\n",
       "      <td>88188</td>\n",
       "      <td>18890.0</td>\n",
       "      <td>62098.0</td>\n",
       "      <td>6532.0</td>\n",
       "      <td>NaN</td>\n",
       "      <td>NaN</td>\n",
       "      <td>NaN</td>\n",
       "      <td>...</td>\n",
       "      <td>NaN</td>\n",
       "      <td>NaN</td>\n",
       "      <td>NaN</td>\n",
       "      <td>NaN</td>\n",
       "      <td>NaN</td>\n",
       "      <td>NaN</td>\n",
       "      <td>NaN</td>\n",
       "      <td>NaN</td>\n",
       "      <td>NaN</td>\n",
       "      <td>NaN</td>\n",
       "    </tr>\n",
       "    <tr>\n",
       "      <th>189</th>\n",
       "      <td>20201209</td>\n",
       "      <td>MA</td>\n",
       "      <td>269412</td>\n",
       "      <td>75918</td>\n",
       "      <td>17223.0</td>\n",
       "      <td>54567.0</td>\n",
       "      <td>5579.0</td>\n",
       "      <td>NaN</td>\n",
       "      <td>NaN</td>\n",
       "      <td>NaN</td>\n",
       "      <td>...</td>\n",
       "      <td>NaN</td>\n",
       "      <td>NaN</td>\n",
       "      <td>NaN</td>\n",
       "      <td>NaN</td>\n",
       "      <td>NaN</td>\n",
       "      <td>NaN</td>\n",
       "      <td>NaN</td>\n",
       "      <td>NaN</td>\n",
       "      <td>NaN</td>\n",
       "      <td>NaN</td>\n",
       "    </tr>\n",
       "    <tr>\n",
       "      <th>245</th>\n",
       "      <td>20201206</td>\n",
       "      <td>MA</td>\n",
       "      <td>256844</td>\n",
       "      <td>75918</td>\n",
       "      <td>17223.0</td>\n",
       "      <td>54567.0</td>\n",
       "      <td>5579.0</td>\n",
       "      <td>NaN</td>\n",
       "      <td>NaN</td>\n",
       "      <td>NaN</td>\n",
       "      <td>...</td>\n",
       "      <td>NaN</td>\n",
       "      <td>NaN</td>\n",
       "      <td>NaN</td>\n",
       "      <td>NaN</td>\n",
       "      <td>NaN</td>\n",
       "      <td>NaN</td>\n",
       "      <td>NaN</td>\n",
       "      <td>NaN</td>\n",
       "      <td>NaN</td>\n",
       "      <td>NaN</td>\n",
       "    </tr>\n",
       "    <tr>\n",
       "      <th>...</th>\n",
       "      <td>...</td>\n",
       "      <td>...</td>\n",
       "      <td>...</td>\n",
       "      <td>...</td>\n",
       "      <td>...</td>\n",
       "      <td>...</td>\n",
       "      <td>...</td>\n",
       "      <td>...</td>\n",
       "      <td>...</td>\n",
       "      <td>...</td>\n",
       "      <td>...</td>\n",
       "      <td>...</td>\n",
       "      <td>...</td>\n",
       "      <td>...</td>\n",
       "      <td>...</td>\n",
       "      <td>...</td>\n",
       "      <td>...</td>\n",
       "      <td>...</td>\n",
       "      <td>...</td>\n",
       "      <td>...</td>\n",
       "      <td>...</td>\n",
       "    </tr>\n",
       "    <tr>\n",
       "      <th>3829</th>\n",
       "      <td>20200426</td>\n",
       "      <td>MA</td>\n",
       "      <td>54938</td>\n",
       "      <td>11646</td>\n",
       "      <td>3735.0</td>\n",
       "      <td>5933.0</td>\n",
       "      <td>769.0</td>\n",
       "      <td>NaN</td>\n",
       "      <td>NaN</td>\n",
       "      <td>NaN</td>\n",
       "      <td>...</td>\n",
       "      <td>NaN</td>\n",
       "      <td>NaN</td>\n",
       "      <td>NaN</td>\n",
       "      <td>NaN</td>\n",
       "      <td>NaN</td>\n",
       "      <td>NaN</td>\n",
       "      <td>NaN</td>\n",
       "      <td>NaN</td>\n",
       "      <td>NaN</td>\n",
       "      <td>NaN</td>\n",
       "    </tr>\n",
       "    <tr>\n",
       "      <th>3885</th>\n",
       "      <td>20200422</td>\n",
       "      <td>MA</td>\n",
       "      <td>42944</td>\n",
       "      <td>9232</td>\n",
       "      <td>3006.0</td>\n",
       "      <td>4595.0</td>\n",
       "      <td>601.0</td>\n",
       "      <td>NaN</td>\n",
       "      <td>NaN</td>\n",
       "      <td>NaN</td>\n",
       "      <td>...</td>\n",
       "      <td>NaN</td>\n",
       "      <td>NaN</td>\n",
       "      <td>NaN</td>\n",
       "      <td>NaN</td>\n",
       "      <td>NaN</td>\n",
       "      <td>NaN</td>\n",
       "      <td>NaN</td>\n",
       "      <td>NaN</td>\n",
       "      <td>NaN</td>\n",
       "      <td>NaN</td>\n",
       "    </tr>\n",
       "    <tr>\n",
       "      <th>3941</th>\n",
       "      <td>20200419</td>\n",
       "      <td>MA</td>\n",
       "      <td>38077</td>\n",
       "      <td>7640</td>\n",
       "      <td>2524.0</td>\n",
       "      <td>3818.0</td>\n",
       "      <td>538.0</td>\n",
       "      <td>NaN</td>\n",
       "      <td>NaN</td>\n",
       "      <td>NaN</td>\n",
       "      <td>...</td>\n",
       "      <td>NaN</td>\n",
       "      <td>NaN</td>\n",
       "      <td>NaN</td>\n",
       "      <td>NaN</td>\n",
       "      <td>NaN</td>\n",
       "      <td>NaN</td>\n",
       "      <td>NaN</td>\n",
       "      <td>NaN</td>\n",
       "      <td>NaN</td>\n",
       "      <td>NaN</td>\n",
       "    </tr>\n",
       "    <tr>\n",
       "      <th>3997</th>\n",
       "      <td>20200415</td>\n",
       "      <td>MA</td>\n",
       "      <td>29918</td>\n",
       "      <td>5437</td>\n",
       "      <td>1749.0</td>\n",
       "      <td>2537.0</td>\n",
       "      <td>397.0</td>\n",
       "      <td>NaN</td>\n",
       "      <td>NaN</td>\n",
       "      <td>NaN</td>\n",
       "      <td>...</td>\n",
       "      <td>NaN</td>\n",
       "      <td>NaN</td>\n",
       "      <td>NaN</td>\n",
       "      <td>NaN</td>\n",
       "      <td>NaN</td>\n",
       "      <td>NaN</td>\n",
       "      <td>NaN</td>\n",
       "      <td>NaN</td>\n",
       "      <td>NaN</td>\n",
       "      <td>NaN</td>\n",
       "    </tr>\n",
       "    <tr>\n",
       "      <th>4053</th>\n",
       "      <td>20200412</td>\n",
       "      <td>MA</td>\n",
       "      <td>25475</td>\n",
       "      <td>4271</td>\n",
       "      <td>1358.0</td>\n",
       "      <td>1885.0</td>\n",
       "      <td>331.0</td>\n",
       "      <td>NaN</td>\n",
       "      <td>NaN</td>\n",
       "      <td>NaN</td>\n",
       "      <td>...</td>\n",
       "      <td>NaN</td>\n",
       "      <td>NaN</td>\n",
       "      <td>NaN</td>\n",
       "      <td>NaN</td>\n",
       "      <td>NaN</td>\n",
       "      <td>NaN</td>\n",
       "      <td>NaN</td>\n",
       "      <td>NaN</td>\n",
       "      <td>NaN</td>\n",
       "      <td>NaN</td>\n",
       "    </tr>\n",
       "  </tbody>\n",
       "</table>\n",
       "<p>73 rows × 54 columns</p>\n",
       "</div>"
      ],
      "text/plain": [
       "          Date State Cases_Total Cases_White  Cases_Black  Cases_LatinX  \\\n",
       "21    20201220    MA      323531      101189      20734.0       69879.0   \n",
       "77    20201216    MA      304112       88188      18890.0       62098.0   \n",
       "133   20201213    MA      290578       88188      18890.0       62098.0   \n",
       "189   20201209    MA      269412       75918      17223.0       54567.0   \n",
       "245   20201206    MA      256844       75918      17223.0       54567.0   \n",
       "...        ...   ...         ...         ...          ...           ...   \n",
       "3829  20200426    MA       54938       11646       3735.0        5933.0   \n",
       "3885  20200422    MA       42944        9232       3006.0        4595.0   \n",
       "3941  20200419    MA       38077        7640       2524.0        3818.0   \n",
       "3997  20200415    MA       29918        5437       1749.0        2537.0   \n",
       "4053  20200412    MA       25475        4271       1358.0        1885.0   \n",
       "\n",
       "      Cases_Asian  Cases_AIAN  Cases_NHPI  Cases_Multiracial  ...  \\\n",
       "21         7429.0         NaN         NaN                NaN  ...   \n",
       "77         6532.0         NaN         NaN                NaN  ...   \n",
       "133        6532.0         NaN         NaN                NaN  ...   \n",
       "189        5579.0         NaN         NaN                NaN  ...   \n",
       "245        5579.0         NaN         NaN                NaN  ...   \n",
       "...           ...         ...         ...                ...  ...   \n",
       "3829        769.0         NaN         NaN                NaN  ...   \n",
       "3885        601.0         NaN         NaN                NaN  ...   \n",
       "3941        538.0         NaN         NaN                NaN  ...   \n",
       "3997        397.0         NaN         NaN                NaN  ...   \n",
       "4053        331.0         NaN         NaN                NaN  ...   \n",
       "\n",
       "      Tests_LatinX  Tests_Asian  Tests_AIAN  Tests_NHPI Tests_Multiracial  \\\n",
       "21             NaN          NaN         NaN         NaN               NaN   \n",
       "77             NaN          NaN         NaN         NaN               NaN   \n",
       "133            NaN          NaN         NaN         NaN               NaN   \n",
       "189            NaN          NaN         NaN         NaN               NaN   \n",
       "245            NaN          NaN         NaN         NaN               NaN   \n",
       "...            ...          ...         ...         ...               ...   \n",
       "3829           NaN          NaN         NaN         NaN               NaN   \n",
       "3885           NaN          NaN         NaN         NaN               NaN   \n",
       "3941           NaN          NaN         NaN         NaN               NaN   \n",
       "3997           NaN          NaN         NaN         NaN               NaN   \n",
       "4053           NaN          NaN         NaN         NaN               NaN   \n",
       "\n",
       "      Tests_Other  Tests_Unknown  Tests_Ethnicity_Hispanic  \\\n",
       "21            NaN            NaN                       NaN   \n",
       "77            NaN            NaN                       NaN   \n",
       "133           NaN            NaN                       NaN   \n",
       "189           NaN            NaN                       NaN   \n",
       "245           NaN            NaN                       NaN   \n",
       "...           ...            ...                       ...   \n",
       "3829          NaN            NaN                       NaN   \n",
       "3885          NaN            NaN                       NaN   \n",
       "3941          NaN            NaN                       NaN   \n",
       "3997          NaN            NaN                       NaN   \n",
       "4053          NaN            NaN                       NaN   \n",
       "\n",
       "      Tests_Ethnicity_NonHispanic  Tests_Ethnicity_Unknown  \n",
       "21                            NaN                      NaN  \n",
       "77                            NaN                      NaN  \n",
       "133                           NaN                      NaN  \n",
       "189                           NaN                      NaN  \n",
       "245                           NaN                      NaN  \n",
       "...                           ...                      ...  \n",
       "3829                          NaN                      NaN  \n",
       "3885                          NaN                      NaN  \n",
       "3941                          NaN                      NaN  \n",
       "3997                          NaN                      NaN  \n",
       "4053                          NaN                      NaN  \n",
       "\n",
       "[73 rows x 54 columns]"
      ]
     },
     "execution_count": 6,
     "metadata": {},
     "output_type": "execute_result"
    }
   ],
   "source": [
    "MA_covid_summary = public_csv[public_csv['State']== 'MA']\n",
    "MA_covid_summary"
   ]
  },
  {
   "cell_type": "markdown",
   "metadata": {},
   "source": [
    "# Finding Columns with NaN Values"
   ]
  },
  {
   "cell_type": "code",
   "execution_count": 7,
   "metadata": {},
   "outputs": [
    {
     "name": "stdout",
     "output_type": "stream",
     "text": [
      "['Cases_AIAN', 'Cases_NHPI', 'Cases_Multiracial', 'Deaths_AIAN', 'Deaths_NHPI', 'Deaths_Multiracial', 'Hosp_Total', 'Hosp_White', 'Hosp_Black', 'Hosp_LatinX', 'Hosp_Asian', 'Hosp_AIAN', 'Hosp_NHPI', 'Hosp_Multiracial', 'Hosp_Other', 'Hosp_Unknown', 'Hosp_Ethnicity_Hispanic', 'Hosp_Ethnicity_NonHispanic', 'Hosp_Ethnicity_Unknown', 'Tests_Total', 'Tests_White', 'Tests_Black', 'Tests_LatinX', 'Tests_Asian', 'Tests_AIAN', 'Tests_NHPI', 'Tests_Multiracial', 'Tests_Other', 'Tests_Unknown', 'Tests_Ethnicity_Hispanic', 'Tests_Ethnicity_NonHispanic', 'Tests_Ethnicity_Unknown']\n"
     ]
    }
   ],
   "source": [
    "#Decided not drop Columns with NaN values because feel that the knowledge that the data is missing is pertentient\n",
    "\n",
    "nan_values = MA_covid_summary.isna()\n",
    "nan_columns = nan_values.any()\n",
    "\n",
    "columns_with_nan = MA_covid_summary.columns[nan_columns].tolist()\n",
    "print(columns_with_nan)\n",
    "\n",
    "#Seems that MA has just started reporting hospital data with ethnicity, race and unknown"
   ]
  },
  {
   "cell_type": "markdown",
   "metadata": {},
   "source": [
    "## Creating Total Cases,  Total Cases by Race and Total Cases by Ethnicity variables"
   ]
  },
  {
   "cell_type": "code",
   "execution_count": 9,
   "metadata": {},
   "outputs": [
    {
     "name": "stdout",
     "output_type": "stream",
     "text": [
      "Total Cases in Massachusetts as of Today\n",
      "21    323531.0\n",
      "Name: Cases_Total, dtype: float64\n",
      "Total Cases with Race in Massachusetts\n",
      "21    323531.0\n",
      "dtype: float64\n",
      "Total Cases with Ehtnicity in Massachusetts\n",
      "21    323531.0\n",
      "dtype: float64\n"
     ]
    }
   ],
   "source": [
    "#Most recent Total Cases Reported in Maine\n",
    "total_cases = MA_covid_summary['Cases_Total'].iloc[0:1]\n",
    "\n",
    "#Have to convert into a float in order to perform operations on total\n",
    "total_cases = total_cases.astype(float)\n",
    "\n",
    "print(\"Total Cases in Massachusetts as of Today\")\n",
    "print(total_cases)\n",
    "\n",
    "\n",
    "#Need to find case totals for each race (including other and unknown)\n",
    "\n",
    "cases_white = MA_covid_summary['Cases_White'].iloc[0:1]\n",
    "cases_white = cases_white.astype(float)\n",
    "\n",
    "\n",
    "cases_latinx = MA_covid_summary['Cases_LatinX'].iloc[0:1]\n",
    "cases_latinx = cases_latinx.astype(float)\n",
    "\n",
    "cases_asian = MA_covid_summary['Cases_Asian'].iloc[0:1]\n",
    "cases_asian = cases_asian.astype(float)\n",
    "\n",
    "cases_other = MA_covid_summary['Cases_Other'].iloc[0:1]\n",
    "cases_other = cases_other.astype(float)\n",
    "\n",
    "cases_black = MA_covid_summary['Cases_Black'].iloc[0:1]\n",
    "cases_black = cases_black.astype(float)\n",
    "\n",
    "cases_unknown = MA_covid_summary['Cases_Unknown'].iloc[0:1]\n",
    "cases_unknown = cases_unknown.astype(float)\n",
    "\n",
    "\n",
    "total_cases_race = cases_white + cases_black + cases_latinx + cases_asian + cases_other + cases_unknown\n",
    "print(\"Total Cases with Race in Massachusetts\")\n",
    "print(total_cases_race)\n",
    "\n",
    "#Need to find case totals for each ethnicity (including other and unknown)\n",
    "\n",
    "cases_ethnicity_hispanic = MA_covid_summary['Cases_Ethnicity_Hispanic'].iloc[0:1]\n",
    "cases_ethnicity_hispanic = cases_ethnicity_hispanic.astype(float)\n",
    "\n",
    "cases_ethnicity_nonhispanic = MA_covid_summary['Cases_Ethnicity_NonHispanic'].iloc[0:1]\n",
    "cases_ethnicity_nonhispanic = cases_ethnicity_nonhispanic.astype(float)\n",
    "\n",
    "cases_ethnicity_unknown = MA_covid_summary['Cases_Ethnicity_Unknown'].iloc[0:1]\n",
    "cases_ethnicity_unknown = cases_ethnicity_unknown.astype(float)\n",
    "\n",
    "total_cases_ethnicity = cases_ethnicity_hispanic + cases_ethnicity_nonhispanic + cases_ethnicity_unknown\n",
    "print(\"Total Cases with Ehtnicity in Massachusetts\")\n",
    "print(total_cases_ethnicity)"
   ]
  },
  {
   "cell_type": "markdown",
   "metadata": {},
   "source": [
    "## Creating Total Deaths,  Total Deaths by Race and Total Deaths by Ethnicity variables"
   ]
  },
  {
   "cell_type": "code",
   "execution_count": 10,
   "metadata": {},
   "outputs": [
    {
     "name": "stdout",
     "output_type": "stream",
     "text": [
      "Total Deaths in Massachusetts as of Today\n",
      "21    11717.0\n",
      "Name: Deaths_Total, dtype: float64\n",
      "Total Deaths with Race in Massachusetts\n",
      "21    11717.0\n",
      "dtype: float64\n",
      "Total Deaths with Ethnicity in Massachusetts\n",
      "21    11717.0\n",
      "dtype: float64\n"
     ]
    }
   ],
   "source": [
    "#Most recent Total Cases Reported in Maine\n",
    "total_deaths = MA_covid_summary['Deaths_Total'].iloc[0:1]\n",
    "\n",
    "#Have to convert into a float in order to perform operations on total\n",
    "total_deaths = total_deaths.astype(float)\n",
    "\n",
    "#Printing out Total Deaths\n",
    "print(\"Total Deaths in Massachusetts as of Today\")\n",
    "print(total_deaths)\n",
    "\n",
    "\n",
    "#Need to find death totals for each race (including other and unknown)\n",
    "\n",
    "deaths_white = MA_covid_summary['Deaths_White'].iloc[0:1]\n",
    "deaths_white = deaths_white.astype(float)\n",
    "\n",
    "deaths_black = MA_covid_summary['Deaths_Black'].iloc[0:1]\n",
    "deaths_black = deaths_black.astype(float)\n",
    "\n",
    "deaths_latinx = MA_covid_summary['Deaths_LatinX'].iloc[0:1]\n",
    "deaths_latinx = deaths_latinx.astype(float)\n",
    "\n",
    "deaths_asian = MA_covid_summary['Deaths_Asian'].iloc[0:1]\n",
    "deaths_asian = deaths_asian.astype(float)\n",
    "\n",
    "deaths_other = MA_covid_summary['Deaths_Other'].iloc[0:1]\n",
    "deaths_other = deaths_other.astype(float)\n",
    "\n",
    "deaths_unknown = MA_covid_summary['Deaths_Unknown'].iloc[0:1]\n",
    "deaths_unknown = deaths_unknown.astype(float)\n",
    "\n",
    "\n",
    "total_deaths_race = deaths_white + deaths_black + deaths_latinx + deaths_asian + deaths_other + deaths_unknown\n",
    "\n",
    "print(\"Total Deaths with Race in Massachusetts\")\n",
    "print(total_deaths_race)\n",
    "\n",
    "\n",
    "#Need to find death totals for each ethnicity (including other and unknown)\n",
    "\n",
    "deaths_ethnicity_hispanic = MA_covid_summary['Deaths_Ethnicity_Hispanic'].iloc[0:1]\n",
    "deaths_ethnicity_hispanic = deaths_ethnicity_hispanic.astype(float)\n",
    "\n",
    "deaths_ethnicity_nonhispanic = MA_covid_summary['Deaths_Ethnicity_NonHispanic'].iloc[0:1]\n",
    "deaths_ethnicity_nonhispanic = deaths_ethnicity_nonhispanic.astype(float)\n",
    "\n",
    "deaths_ethnicity_unknown = MA_covid_summary['Deaths_Ethnicity_Unknown'].iloc[0:1]\n",
    "deaths_ethnicity_unknown = deaths_ethnicity_unknown.astype(float)\n",
    "\n",
    "total_deaths_ethnicity = deaths_ethnicity_hispanic + deaths_ethnicity_nonhispanic + deaths_ethnicity_unknown\n",
    "\n",
    "print(\"Total Deaths with Ethnicity in Massachusetts\")\n",
    "print(total_deaths_ethnicity)"
   ]
  },
  {
   "cell_type": "markdown",
   "metadata": {},
   "source": [
    "## Creating Total Hospitalizations,  Total Hospitalizations by Race and Total Hospitalizations by Ethnicity variables"
   ]
  },
  {
   "cell_type": "code",
   "execution_count": 11,
   "metadata": {},
   "outputs": [
    {
     "name": "stdout",
     "output_type": "stream",
     "text": [
      "Total Hospitalizations in Massachusetts as of Today\n",
      "21    15372.0\n",
      "Name: Hosp_Total, dtype: float64\n",
      "Total Hospitalizations with Race in Massachusetts\n",
      "21    15372.0\n",
      "dtype: float64\n",
      "Total Hospitalizations with Ethnicity in Massachusetts\n",
      "21    15372.0\n",
      "dtype: float64\n"
     ]
    }
   ],
   "source": [
    "#Most recent Total Cases Reported in Maine\n",
    "total_hosp = MA_covid_summary['Hosp_Total'].iloc[0:1]\n",
    "\n",
    "#Have to convert into a float in order to perform operations on total\n",
    "#total_hosp = total_hosp.astype(float)\n",
    "\n",
    "#Printing out Total Hospitalizations\n",
    "print(\"Total Hospitalizations in Massachusetts as of Today\")\n",
    "print(total_hosp)\n",
    "\n",
    "\n",
    "#Need to find Hospitalizations totals for each race (including other and unknown)\n",
    "\n",
    "hosp_white = MA_covid_summary['Hosp_White'].iloc[0:1]\n",
    "hosp_white = hosp_white.astype(float)\n",
    "\n",
    "hosp_black = MA_covid_summary['Hosp_Black'].iloc[0:1]\n",
    "hosp_black = hosp_black.astype(float)\n",
    "\n",
    "hosp_latinx = MA_covid_summary['Hosp_LatinX'].iloc[0:1]\n",
    "hosp_latinx = hosp_latinx.astype(float)\n",
    "\n",
    "hosp_asian = MA_covid_summary['Hosp_Asian'].iloc[0:1]\n",
    "hosp_asian = hosp_asian.astype(float)\n",
    "\n",
    "hosp_other = MA_covid_summary['Hosp_Other'].iloc[0:1]\n",
    "hosp_other = hosp_other.astype(float)\n",
    "\n",
    "hosp_unknown = MA_covid_summary['Hosp_Unknown'].iloc[0:1]\n",
    "hosp_unknown = hosp_unknown.astype(float)\n",
    "\n",
    "\n",
    "total_hosp_race = hosp_white + hosp_black + hosp_latinx + hosp_asian + hosp_other + hosp_unknown\n",
    "\n",
    "print(\"Total Hospitalizations with Race in Massachusetts\")\n",
    "print(total_hosp_race)\n",
    "\n",
    "\n",
    "#Need to find Hospitalizations totals for each ethnicity (including other and unknown)\n",
    "\n",
    "hosp_ethnicity_hispanic = MA_covid_summary['Hosp_Ethnicity_Hispanic'].iloc[0:1]\n",
    "hosp_ethnicity_hispanic = hosp_ethnicity_hispanic.astype(float)\n",
    "\n",
    "hosp_ethnicity_nonhispanic = MA_covid_summary['Hosp_Ethnicity_NonHispanic'].iloc[0:1]\n",
    "hosp_ethnicity_nonhispanic = hosp_ethnicity_nonhispanic.astype(float)\n",
    "\n",
    "hosp_ethnicity_unknown = MA_covid_summary['Hosp_Ethnicity_Unknown'].iloc[0:1]\n",
    "hosp_ethnicity_unknown = hosp_ethnicity_unknown.astype(float)\n",
    "\n",
    "total_hosp_ethnicity = hosp_ethnicity_hispanic + hosp_ethnicity_nonhispanic + hosp_ethnicity_unknown\n",
    "\n",
    "print(\"Total Hospitalizations with Ethnicity in Massachusetts\")\n",
    "print(total_hosp_ethnicity)"
   ]
  },
  {
   "cell_type": "markdown",
   "metadata": {},
   "source": [
    "# Data Quality Checking Clause"
   ]
  },
  {
   "cell_type": "code",
   "execution_count": 12,
   "metadata": {},
   "outputs": [],
   "source": [
    "#Checking if Total Cases and Cases with Race are equal.\n",
    "#If not equal will print an error statment.\n",
    "if ((total_cases - total_cases_race) != 0).bool():\n",
    "    print(\"Data Quality Check Needed for Cases with Race.\")\n",
    "\n",
    "    \n",
    "#Checking if Total Cases and Cases with Ethnicity are equal.  \n",
    "#If not equal will print an error statment.   \n",
    "if ((total_cases - total_cases_ethnicity) != 0).bool():\n",
    "    print(\"Data Quality Check Needed for Cases with Ethnicity.\")\n",
    "    \n",
    "#Checking if Total Deaths and Deaths with Race are equal.\n",
    "#If not equal will print an error statment.\n",
    "if ((total_deaths - total_deaths_race) != 0).bool():\n",
    "    print(\"Data Quality Check Needed for Deaths with Race.\")\n",
    "    \n",
    "#Checking if Total Deaths and Deaths with Ethnicity are equal.\n",
    "#If not equal will print an error statment.\n",
    "if ((total_deaths - total_deaths_ethnicity) != 0).bool():\n",
    "    print(\"Data Quality Check Needed for Deaths with Ethnicity.\")\n",
    "    \n",
    "#Checking if Total Hospitalizations and Hospitalizations with Race are equal.\n",
    "#If not equal will print an error statment.\n",
    "if ((total_hosp - total_hosp_race) != 0).bool():\n",
    "    print(\"Data Quality Check Needed for Hospitalizations with Race.\")\n",
    "\n",
    "    \n",
    "#Checking if Total Hospitalizations and Hospitalizations with Ethnicity are equal.  \n",
    "#If not equal will print an error statment.   \n",
    "if ((total_hosp - total_hosp_ethnicity) != 0).bool():\n",
    "    print(\"Data Quality Check Needed for Hospitalizations with Ethnicity.\")\n",
    "    \n",
    "    "
   ]
  },
  {
   "cell_type": "markdown",
   "metadata": {},
   "source": [
    "# Creating a Case Each Day Column to use in Time Series Plots"
   ]
  },
  {
   "cell_type": "code",
   "execution_count": 13,
   "metadata": {},
   "outputs": [
    {
     "name": "stderr",
     "output_type": "stream",
     "text": [
      "<ipython-input-13-90b3d464feab>:3: SettingWithCopyWarning: \n",
      "A value is trying to be set on a copy of a slice from a DataFrame.\n",
      "Try using .loc[row_indexer,col_indexer] = value instead\n",
      "\n",
      "See the caveats in the documentation: https://pandas.pydata.org/pandas-docs/stable/user_guide/indexing.html#returning-a-view-versus-a-copy\n",
      "  MA_covid_summary['Cases_Total'] = MA_covid_summary['Cases_Total'].astype(float)\n",
      "<ipython-input-13-90b3d464feab>:7: SettingWithCopyWarning: \n",
      "A value is trying to be set on a copy of a slice from a DataFrame.\n",
      "Try using .loc[row_indexer,col_indexer] = value instead\n",
      "\n",
      "See the caveats in the documentation: https://pandas.pydata.org/pandas-docs/stable/user_guide/indexing.html#returning-a-view-versus-a-copy\n",
      "  MA_covid_summary['Cases Each Day'] = cases_each_day\n"
     ]
    }
   ],
   "source": [
    "#In order to find Total Cases Each Day need to subtract next row from previous row\n",
    "#However first need to convert column type to float\n",
    "MA_covid_summary['Cases_Total'] = MA_covid_summary['Cases_Total'].astype(float)\n",
    "cases_each_day = MA_covid_summary['Cases_Total'].diff(periods=-1)\n",
    "\n",
    "#Adding Cases Each Day as a column\n",
    "MA_covid_summary['Cases Each Day'] = cases_each_day\n",
    "\n",
    "#Maybe change cases each day to cases each week"
   ]
  },
  {
   "cell_type": "markdown",
   "metadata": {},
   "source": [
    "# Creating a Date Time Column to use In Time Series Plot"
   ]
  },
  {
   "cell_type": "code",
   "execution_count": 14,
   "metadata": {},
   "outputs": [
    {
     "name": "stderr",
     "output_type": "stream",
     "text": [
      "<ipython-input-14-9a23d22c2f67>:8: SettingWithCopyWarning: \n",
      "A value is trying to be set on a copy of a slice from a DataFrame.\n",
      "Try using .loc[row_indexer,col_indexer] = value instead\n",
      "\n",
      "See the caveats in the documentation: https://pandas.pydata.org/pandas-docs/stable/user_guide/indexing.html#returning-a-view-versus-a-copy\n",
      "  MA_covid_summary[\"Date Time\"] = date_strings\n",
      "<ipython-input-14-9a23d22c2f67>:10: SettingWithCopyWarning: \n",
      "A value is trying to be set on a copy of a slice from a DataFrame.\n",
      "Try using .loc[row_indexer,col_indexer] = value instead\n",
      "\n",
      "See the caveats in the documentation: https://pandas.pydata.org/pandas-docs/stable/user_guide/indexing.html#returning-a-view-versus-a-copy\n",
      "  MA_covid_summary['Date Time'] =  pd.to_datetime(MA_covid_summary['Date Time'], format='%Y/%m/%d')\n"
     ]
    }
   ],
   "source": [
    "#Structuring the Date to be in YYYY/MM/DD format\n",
    "date_strings = []\n",
    "\n",
    "for dates in MA_covid_summary['Date'].astype(str):\n",
    "    date_formatted = dates[0:4] + \"/\" + dates[4:6] + \"/\" + dates[6:8]\n",
    "    date_strings.append(date_formatted)\n",
    "    \n",
    "MA_covid_summary[\"Date Time\"] = date_strings\n",
    "\n",
    "MA_covid_summary['Date Time'] =  pd.to_datetime(MA_covid_summary['Date Time'], format='%Y/%m/%d')  "
   ]
  },
  {
   "cell_type": "markdown",
   "metadata": {},
   "source": [
    "# Creating a Deaths Each Day Column to use in Time Series Plots"
   ]
  },
  {
   "cell_type": "code",
   "execution_count": 19,
   "metadata": {},
   "outputs": [
    {
     "name": "stderr",
     "output_type": "stream",
     "text": [
      "<ipython-input-19-636c878b7db4>:2: SettingWithCopyWarning: \n",
      "A value is trying to be set on a copy of a slice from a DataFrame.\n",
      "Try using .loc[row_indexer,col_indexer] = value instead\n",
      "\n",
      "See the caveats in the documentation: https://pandas.pydata.org/pandas-docs/stable/user_guide/indexing.html#returning-a-view-versus-a-copy\n",
      "  MA_covid_summary['Hosp_Total'] = MA_covid_summary['Hosp_Total'].astype(float)\n",
      "<ipython-input-19-636c878b7db4>:7: SettingWithCopyWarning: \n",
      "A value is trying to be set on a copy of a slice from a DataFrame.\n",
      "Try using .loc[row_indexer,col_indexer] = value instead\n",
      "\n",
      "See the caveats in the documentation: https://pandas.pydata.org/pandas-docs/stable/user_guide/indexing.html#returning-a-view-versus-a-copy\n",
      "  MA_covid_summary['Hosp Each Day'] = hosp_each_day\n"
     ]
    }
   ],
   "source": [
    "#Apply the same method\n",
    "MA_covid_summary['Deaths_Total'] = MA_covid_summary['Deaths_Total'].astype(float)\n",
    "deaths_each_day = MA_covid_summary['Deaths_Total'].diff(periods=-1)\n",
    "\n",
    "\n",
    "#Adding Cases Each Day as a column\n",
    "MA_covid_summary['Deaths Each Day'] = deaths_each_day"
   ]
  },
  {
   "cell_type": "markdown",
   "metadata": {},
   "source": [
    "# Creating a Hospitalizations Each Day Column to use in Time Series Plots"
   ]
  },
  {
   "cell_type": "code",
   "execution_count": 20,
   "metadata": {},
   "outputs": [
    {
     "name": "stderr",
     "output_type": "stream",
     "text": [
      "<ipython-input-20-636c878b7db4>:2: SettingWithCopyWarning: \n",
      "A value is trying to be set on a copy of a slice from a DataFrame.\n",
      "Try using .loc[row_indexer,col_indexer] = value instead\n",
      "\n",
      "See the caveats in the documentation: https://pandas.pydata.org/pandas-docs/stable/user_guide/indexing.html#returning-a-view-versus-a-copy\n",
      "  MA_covid_summary['Hosp_Total'] = MA_covid_summary['Hosp_Total'].astype(float)\n",
      "<ipython-input-20-636c878b7db4>:7: SettingWithCopyWarning: \n",
      "A value is trying to be set on a copy of a slice from a DataFrame.\n",
      "Try using .loc[row_indexer,col_indexer] = value instead\n",
      "\n",
      "See the caveats in the documentation: https://pandas.pydata.org/pandas-docs/stable/user_guide/indexing.html#returning-a-view-versus-a-copy\n",
      "  MA_covid_summary['Hosp Each Day'] = hosp_each_day\n"
     ]
    }
   ],
   "source": [
    "#Apply the same method\n",
    "MA_covid_summary['Hosp_Total'] = MA_covid_summary['Hosp_Total'].astype(float)\n",
    "hosp_each_day = MA_covid_summary['Hosp_Total'].diff(periods=-1)\n",
    "\n",
    "\n",
    "#Adding Cases Each Day as a column\n",
    "MA_covid_summary['Hosp Each Day'] = hosp_each_day"
   ]
  },
  {
   "cell_type": "markdown",
   "metadata": {},
   "source": [
    "# Time Series Plots"
   ]
  },
  {
   "cell_type": "code",
   "execution_count": 16,
   "metadata": {},
   "outputs": [
    {
     "data": {
      "text/plain": [
       "<AxesSubplot:title={'center':'Cases Each Day: Massachusetts'}, xlabel='Date Time'>"
      ]
     },
     "execution_count": 16,
     "metadata": {},
     "output_type": "execute_result"
    },
    {
     "data": {
      "image/png": "[encoded data removed]",
      "text/plain": [
       "<Figure size 864x720 with 1 Axes>"
      ]
     },
     "metadata": {
      "needs_background": "light"
     },
     "output_type": "display_data"
    }
   ],
   "source": [
    "MA_covid_summary.set_index('Date Time')['Cases Each Day'].plot(figsize=(12, 10), title='Cases Each Day: Massachusetts'\n",
    "                                                                        ,linewidth=2.5, color='green')\n",
    "\n"
   ]
  },
  {
   "cell_type": "code",
   "execution_count": 17,
   "metadata": {},
   "outputs": [
    {
     "data": {
      "text/plain": [
       "<AxesSubplot:title={'center':'Deaths Each Day: Massachusetts'}, xlabel='Date Time'>"
      ]
     },
     "execution_count": 17,
     "metadata": {},
     "output_type": "execute_result"
    },
    {
     "data": {
      "image/png": "[encoded data removed]",
      "text/plain": [
       "<Figure size 864x720 with 1 Axes>"
      ]
     },
     "metadata": {
      "needs_background": "light"
     },
     "output_type": "display_data"
    }
   ],
   "source": [
    "MA_covid_summary.set_index('Date Time')['Deaths Each Day'].plot(figsize=(12, 10), title='Deaths Each Day: Massachusetts'\n",
    "                                                                        ,linewidth=2.5, color='red')\n",
    "\n",
    "\n"
   ]
  },
  {
   "cell_type": "code",
   "execution_count": 22,
   "metadata": {},
   "outputs": [
    {
     "data": {
      "text/plain": [
       "<AxesSubplot:title={'center':'Hospitalizations Each Day: Massachusetts'}, xlabel='Date Time'>"
      ]
     },
     "execution_count": 22,
     "metadata": {},
     "output_type": "execute_result"
    },
    {
     "data": {
      "image/png": "[encoded data removed]",
      "text/plain": [
       "<Figure size 864x720 with 1 Axes>"
      ]
     },
     "metadata": {
      "needs_background": "light"
     },
     "output_type": "display_data"
    }
   ],
   "source": [
    "MA_covid_summary.set_index('Date Time')['Hosp Each Day'].plot(figsize=(12, 10), title='Hospitalizations Each Day: Massachusetts'\n",
    "                                                                        ,linewidth=2.5, color='blue')\n",
    "\n"
   ]
  },
  {
   "cell_type": "code",
   "execution_count": null,
   "metadata": {},
   "outputs": [],
   "source": []
  }
 ],
 "metadata": {
  "kernelspec": {
   "display_name": "Python 3",
   "language": "python",
   "name": "python3"
  },
  "language_info": {
   "codemirror_mode": {
    "name": "ipython",
    "version": 3
   },
   "file_extension": ".py",
   "mimetype": "text/x-python",
   "name": "python",
   "nbconvert_exporter": "python",
   "pygments_lexer": "ipython3",
   "version": "3.8.6"
  }
 },
 "nbformat": 4,
 "nbformat_minor": 4
}
