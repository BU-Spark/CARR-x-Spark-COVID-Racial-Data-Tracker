{
 "cells": [
  {
   "cell_type": "code",
   "execution_count": 1,
   "metadata": {},
   "outputs": [],
   "source": [
    "from selenium import webdriver\n",
    "from selenium.webdriver.common.keys import Keys\n",
    "from bs4 import BeautifulSoup\n",
    "import pandas as pd\n",
    "import csv\n",
    "import time\n",
    "import random\n",
    "\n",
    "def ChromeDriver(url):\n",
    "    chrome_path= \"/usr/local/bin/chromedriver\"\n",
    "    #chrome_path = \"/Users/name/Downloads/name_of_the_file\"\n",
    "    # These are preliminary settings on our chromedriver, we want to make sure it's a maximized browser, disable any\n",
    "    # infobars and extensions.\n",
    "\n",
    "    options = webdriver.ChromeOptions()\n",
    "    options.add_argument(\"start-maximized\");\n",
    "    options.add_argument(\"disable-infobars\")\n",
    "    options.add_argument(\"--disable-extensions\")\n",
    "\n",
    "    # This line of code now actually declares the driver, it has two arguments 'executable_path' where we feed in our\n",
    "    # directory path for the chromedriver and the 'options' which are the chromedriver settings from above.\n",
    "\n",
    "    driver = webdriver.Chrome(executable_path=chrome_path, options=options)\n",
    "    driver.get(url)\n",
    "    # We declare the url and execute the driver to fetch the URL\n",
    "    return driver"
   ]
  },
  {
   "cell_type": "code",
   "execution_count": 2,
   "metadata": {
    "tags": []
   },
   "outputs": [],
   "source": [
    "link = 'https://github.com/nychealth/coronavirus-data/blob/master/deaths/probable-confirmed-by-race.csv'\n",
    "# main page link\n",
    "\n",
    "probableDriver = ChromeDriver(link)\n",
    "html = probableDriver.page_source\n",
    "probableSoup = BeautifulSoup(html, 'html.parser')\n",
    "\n",
    "probableStateUpdate = probableSoup.find('relative-time')['datetime']\n",
    "# finds the HTML attribute containing the last updated timestamp on the main page\n",
    "\n",
    "probableStateUpdate = probableStateUpdate.split('T')\n",
    "# splits stateUpdate into two strings, one containing the date of update, and one containing the timestamp of the last update\n",
    "\n",
    "probableDriver.quit()"
   ]
  },
  {
   "cell_type": "code",
   "execution_count": 3,
   "metadata": {},
   "outputs": [],
   "source": [
    "raw = \"https://github.com/nychealth/coronavirus-data/raw/master/deaths/probable-confirmed-by-race.csv\"\n",
    "# raw data link\n",
    "\n",
    "data = pd.read_csv(raw, header=0)\n",
    "# creates pandas dataframe from raw file url\n",
    "\n",
    "data.to_csv(('NY-deaths-probable-confirmed-by-race(' + probableStateUpdate[0] + ').csv'),index=False)"
   ]
  },
  {
   "cell_type": "code",
   "execution_count": 4,
   "metadata": {},
   "outputs": [],
   "source": [
    "mainURL = \"https://github.com/nychealth/coronavirus-data/blob/master/by-race.csv\"\n",
    "# goes to main github file page\n",
    "\n",
    "driver = ChromeDriver(mainURL)\n",
    "html = driver.page_source\n",
    "soup = BeautifulSoup(html, 'html.parser')\n",
    "\n",
    "stateUpdate = soup.find('relative-time')['datetime']\n",
    "# finds the HTML attribute containing the last updated timestamp on the main page\n",
    "\n",
    "stateUpdate = stateUpdate.split('T')\n",
    "# splits stateUpdate into two strings, one containing the date of update, and one containing the timestamp of the last update\n",
    "\n",
    "driver.quit()\n",
    "# close webdriver"
   ]
  },
  {
   "cell_type": "code",
   "execution_count": 5,
   "metadata": {},
   "outputs": [],
   "source": [
    "rawURL = \"https://github.com/nychealth/coronavirus-data/raw/master/by-race.csv\"\n",
    "# link goes to raw github csv file\n",
    "\n",
    "data = pd.read_csv(rawURL,header=0)\n",
    "# creates pandas dataframe from raw file url\n",
    "\n",
    "df = pd.DataFrame(data)\n",
    "\n",
    "df.to_csv(('NY-master-data-by-race('+ stateUpdate[0]+').csv'), index=False)\n",
    "# load dataframe to csv file with date of update"
   ]
  }
 ],
 "metadata": {
  "kernelspec": {
   "display_name": "Python 3",
   "language": "python",
   "name": "python3"
  },
  "language_info": {
   "codemirror_mode": {
    "name": "ipython",
    "version": 3
   },
   "file_extension": ".py",
   "mimetype": "text/x-python",
   "name": "python",
   "nbconvert_exporter": "python",
   "pygments_lexer": "ipython3",
   "version": "3.8.6-final"
  }
 },
 "nbformat": 4,
 "nbformat_minor": 4
}