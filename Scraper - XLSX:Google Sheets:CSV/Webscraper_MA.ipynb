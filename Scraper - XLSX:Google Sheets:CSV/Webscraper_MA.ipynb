{
 "cells": [
  {
   "cell_type": "markdown",
   "metadata": {},
   "source": [
    "## Import Libraries"
   ]
  },
  {
   "cell_type": "code",
   "execution_count": 1,
   "metadata": {},
   "outputs": [],
   "source": [
    "import time\n",
    "import csv\n",
    "from selenium import webdriver\n",
    "from selenium.webdriver.common.keys import Keys\n",
    "from bs4 import BeautifulSoup \n",
    "import datetime\n",
    "import zipfile\n",
    "import pandas as pd"
   ]
  },
  {
   "cell_type": "markdown",
   "metadata": {},
   "source": [
    "# ChromeDriver Function"
   ]
  },
  {
   "cell_type": "code",
   "execution_count": 2,
   "metadata": {},
   "outputs": [],
   "source": [
    "def ChromeDriver(url):\n",
    "    chrome_path= \"/Users/myaturner/chromedriver\"\n",
    "    \n",
    "    options = webdriver.ChromeOptions()\n",
    "    options.add_argument(\"start-maximized\");\n",
    "    options.add_argument(\"disable-infobars\")\n",
    "    options.add_argument(\"--disable-extensions\")\n",
    "    \n",
    "    driver = webdriver.Chrome(executable_path=chrome_path, options=options)\n",
    "    driver.get(url)\n",
    "    \n",
    "    return driver"
   ]
  },
  {
   "cell_type": "markdown",
   "metadata": {},
   "source": [
    "# Using Selenium to navigate to the Covid Summary for MA"
   ]
  },
  {
   "cell_type": "code",
   "execution_count": 4,
   "metadata": {},
   "outputs": [],
   "source": [
    "link = 'https://www.mass.gov/info-details/covid-19-response-reporting'\n",
    "driver = ChromeDriver(link)\n",
    "\n",
    "html = driver.page_source\n",
    "soup = BeautifulSoup(html, 'html.parser')\n",
    "\n",
    "Find_by_XPath = driver.find_elements_by_xpath('/html/body/div[1]/main/div[2]/div/div/section[2]/div/div/p[4]/a')\n",
    "\n",
    "#time.sleep(4)\n",
    "\n",
    "Find_by_XPath[0].click()"
   ]
  },
  {
   "cell_type": "markdown",
   "metadata": {},
   "source": [
    "# Check: Printing the Title of website"
   ]
  },
  {
   "cell_type": "code",
   "execution_count": 4,
   "metadata": {},
   "outputs": [
    {
     "name": "stdout",
     "output_type": "stream",
     "text": [
      "COVID-19 Response Reporting\n",
      "\n"
     ]
    }
   ],
   "source": [
    "driver = ChromeDriver(link)\n",
    "\n",
    "html = driver.page_source\n",
    "soup = BeautifulSoup(html, 'html.parser')\n",
    "\n",
    "Find_by_SoupClass = soup.find(class_=\"ma__page-header__title\")\n",
    "\n",
    "time.sleep(6)\n",
    "\n",
    "print(Find_by_SoupClass.text)"
   ]
  },
  {
   "cell_type": "markdown",
   "metadata": {},
   "source": [
    "# Check: Printing the date of last update"
   ]
  },
  {
   "cell_type": "code",
   "execution_count": 5,
   "metadata": {},
   "outputs": [
    {
     "name": "stdout",
     "output_type": "stream",
     "text": [
      "Dec. 5th, 2020, 5:00 pm\n",
      "\n",
      "Please note that this time does not correlate to the latest update for the cases by race and ethnicity\n"
     ]
    }
   ],
   "source": [
    "driver = ChromeDriver(link)\n",
    "\n",
    "html = driver.page_source\n",
    "soup = BeautifulSoup(html, 'html.parser')\n",
    "\n",
    "Find_by_SoupClass = soup.find(class_=\"ma__emergency-alert__time-stamp\")\n",
    "\n",
    "time.sleep(6)\n",
    "\n",
    "print(Find_by_SoupClass.text)\n",
    "print('\\nPlease note that this time does not correlate to the latest update for the cases by race and ethnicity')"
   ]
  },
  {
   "cell_type": "markdown",
   "metadata": {},
   "source": [
    "# Accessing the Most Recent Massachusetts Covid Summary"
   ]
  },
  {
   "cell_type": "code",
   "execution_count": 10,
   "metadata": {},
   "outputs": [
    {
     "data": {
      "text/html": [
       "<div>\n",
       "<style scoped>\n",
       "    .dataframe tbody tr th:only-of-type {\n",
       "        vertical-align: middle;\n",
       "    }\n",
       "\n",
       "    .dataframe tbody tr th {\n",
       "        vertical-align: top;\n",
       "    }\n",
       "\n",
       "    .dataframe thead th {\n",
       "        text-align: right;\n",
       "    }\n",
       "</style>\n",
       "<table border=\"1\" class=\"dataframe\">\n",
       "  <thead>\n",
       "    <tr style=\"text-align: right;\">\n",
       "      <th></th>\n",
       "      <th>Date</th>\n",
       "      <th>Race/Ethnicity</th>\n",
       "      <th>All Cases</th>\n",
       "      <th>Ever Hospitaltized</th>\n",
       "      <th>Deaths</th>\n",
       "    </tr>\n",
       "  </thead>\n",
       "  <tbody>\n",
       "    <tr>\n",
       "      <th>0</th>\n",
       "      <td>2020-06-01</td>\n",
       "      <td>Non-Hispanic White</td>\n",
       "      <td>26162.0</td>\n",
       "      <td>3813.0</td>\n",
       "      <td>2904.0</td>\n",
       "    </tr>\n",
       "    <tr>\n",
       "      <th>1</th>\n",
       "      <td>2020-06-01</td>\n",
       "      <td>Non-Hispanic Black/African American</td>\n",
       "      <td>8853.0</td>\n",
       "      <td>987.0</td>\n",
       "      <td>348.0</td>\n",
       "    </tr>\n",
       "    <tr>\n",
       "      <th>2</th>\n",
       "      <td>2020-06-01</td>\n",
       "      <td>Hispanic</td>\n",
       "      <td>18331.0</td>\n",
       "      <td>1290.0</td>\n",
       "      <td>445.0</td>\n",
       "    </tr>\n",
       "    <tr>\n",
       "      <th>3</th>\n",
       "      <td>2020-06-01</td>\n",
       "      <td>Non-Hispanic Asian</td>\n",
       "      <td>1875.0</td>\n",
       "      <td>291.0</td>\n",
       "      <td>128.0</td>\n",
       "    </tr>\n",
       "    <tr>\n",
       "      <th>4</th>\n",
       "      <td>2020-06-01</td>\n",
       "      <td>Non-Hispanic Other</td>\n",
       "      <td>4549.0</td>\n",
       "      <td>571.0</td>\n",
       "      <td>227.0</td>\n",
       "    </tr>\n",
       "    <tr>\n",
       "      <th>...</th>\n",
       "      <td>...</td>\n",
       "      <td>...</td>\n",
       "      <td>...</td>\n",
       "      <td>...</td>\n",
       "      <td>...</td>\n",
       "    </tr>\n",
       "    <tr>\n",
       "      <th>944</th>\n",
       "      <td>2020-12-02</td>\n",
       "      <td>Non-Hispanic Black/African American</td>\n",
       "      <td>17223.0</td>\n",
       "      <td>1596.0</td>\n",
       "      <td>828.0</td>\n",
       "    </tr>\n",
       "    <tr>\n",
       "      <th>945</th>\n",
       "      <td>2020-12-02</td>\n",
       "      <td>Hispanic</td>\n",
       "      <td>54567.0</td>\n",
       "      <td>2228.0</td>\n",
       "      <td>758.0</td>\n",
       "    </tr>\n",
       "    <tr>\n",
       "      <th>946</th>\n",
       "      <td>2020-12-02</td>\n",
       "      <td>Non-Hispanic Asian</td>\n",
       "      <td>5579.0</td>\n",
       "      <td>481.0</td>\n",
       "      <td>270.0</td>\n",
       "    </tr>\n",
       "    <tr>\n",
       "      <th>947</th>\n",
       "      <td>2020-12-02</td>\n",
       "      <td>Non-Hispanic Other</td>\n",
       "      <td>16683.0</td>\n",
       "      <td>1275.0</td>\n",
       "      <td>760.0</td>\n",
       "    </tr>\n",
       "    <tr>\n",
       "      <th>948</th>\n",
       "      <td>2020-12-02</td>\n",
       "      <td>Unknown/Missing</td>\n",
       "      <td>64262.0</td>\n",
       "      <td>1595.0</td>\n",
       "      <td>63.0</td>\n",
       "    </tr>\n",
       "  </tbody>\n",
       "</table>\n",
       "<p>949 rows × 5 columns</p>\n",
       "</div>"
      ],
      "text/plain": [
       "          Date                       Race/Ethnicity  All Cases  \\\n",
       "0   2020-06-01                   Non-Hispanic White    26162.0   \n",
       "1   2020-06-01  Non-Hispanic Black/African American     8853.0   \n",
       "2   2020-06-01                             Hispanic    18331.0   \n",
       "3   2020-06-01                   Non-Hispanic Asian     1875.0   \n",
       "4   2020-06-01                   Non-Hispanic Other     4549.0   \n",
       "..         ...                                  ...        ...   \n",
       "944 2020-12-02  Non-Hispanic Black/African American    17223.0   \n",
       "945 2020-12-02                             Hispanic    54567.0   \n",
       "946 2020-12-02                   Non-Hispanic Asian     5579.0   \n",
       "947 2020-12-02                   Non-Hispanic Other    16683.0   \n",
       "948 2020-12-02                      Unknown/Missing    64262.0   \n",
       "\n",
       "     Ever Hospitaltized  Deaths  \n",
       "0                3813.0  2904.0  \n",
       "1                 987.0   348.0  \n",
       "2                1290.0   445.0  \n",
       "3                 291.0   128.0  \n",
       "4                 571.0   227.0  \n",
       "..                  ...     ...  \n",
       "944              1596.0   828.0  \n",
       "945              2228.0   758.0  \n",
       "946               481.0   270.0  \n",
       "947              1275.0   760.0  \n",
       "948              1595.0    63.0  \n",
       "\n",
       "[949 rows x 5 columns]"
      ]
     },
     "execution_count": 10,
     "metadata": {},
     "output_type": "execute_result"
    }
   ],
   "source": [
    "#Massachusetts includes the date in their weekly updates dashboard, so need to include in the file name\n",
    "#Note Massachusetts only updates race and ethnicity data once a week on Thursday\n",
    "current_time = datetime.datetime.now()\n",
    "\n",
    "day = current_time.day\n",
    "day = str(day)\n",
    "#print(day)\n",
    "month = current_time.month\n",
    "month = str(month)\n",
    "#print(month)\n",
    "year = current_time.year\n",
    "year = str(year)\n",
    "#print(year)\n",
    "\n",
    "race_ethnicity_MA = pd.read_excel(r'/Users/myaturner/Downloads/weekly-public-health-report-raw-data-'+month+'-3-'+year+'.xlsx', 'RaceEthnicity')\n",
    "race_ethnicity_MA"
   ]
  },
  {
   "cell_type": "markdown",
   "metadata": {},
   "source": [
    "# Writing the latest data to a Spreadsheet"
   ]
  },
  {
   "cell_type": "code",
   "execution_count": 26,
   "metadata": {},
   "outputs": [
    {
     "name": "stdout",
     "output_type": "stream",
     "text": [
      "Dataframe is written successfully to Excel Sheet.\n"
     ]
    }
   ],
   "source": [
    "from pandas import ExcelWriter\n",
    "from pandas import ExcelFile\n",
    "\n",
    "with ExcelWriter('MA_covid_summary.xlsx') as writer:\n",
    "    \n",
    "    #Writing Cases by Race to a local Spreadsheet\n",
    "    #Date is not saving need help with why...\n",
    "    race_ethnicity_MA.to_excel(writer, 'RaceEthnicity_MA')\n",
    "\n",
    "#If prints out this message, data was successfully saved.\n",
    "#writer.save()\n",
    "print('Dataframe is written successfully to Excel Sheet.')"
   ]
  }
 ],
 "metadata": {
  "kernelspec": {
   "display_name": "Python 3",
   "language": "python",
   "name": "python3"
  },
  "language_info": {
   "codemirror_mode": {
    "name": "ipython",
    "version": 3
   },
   "file_extension": ".py",
   "mimetype": "text/x-python",
   "name": "python",
   "nbconvert_exporter": "python",
   "pygments_lexer": "ipython3",
   "version": "3.8.6"
  }
 },
 "nbformat": 4,
 "nbformat_minor": 4
}
