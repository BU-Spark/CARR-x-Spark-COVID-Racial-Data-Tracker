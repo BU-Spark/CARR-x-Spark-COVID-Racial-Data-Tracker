{
 "cells": [
  {
   "cell_type": "markdown",
   "metadata": {},
   "source": [
    "# Importing Libraries"
   ]
  },
  {
   "cell_type": "code",
   "execution_count": 1,
   "metadata": {},
   "outputs": [],
   "source": [
    "import time\n",
    "import csv\n",
    "from selenium import webdriver\n",
    "from selenium.webdriver.common.keys import Keys\n",
    "from bs4 import BeautifulSoup \n",
    "import datetime\n",
    "import zipfile\n",
    "import pandas as pd\n",
    "import requests\n",
    "from openpyxl import * \n",
    "import os"
   ]
  },
  {
   "cell_type": "markdown",
   "metadata": {},
   "source": [
    "# Chromedriver Function"
   ]
  },
  {
   "cell_type": "code",
   "execution_count": 2,
   "metadata": {},
   "outputs": [],
   "source": [
    "#Chromedriver is the name of the function\n",
    "\n",
    "def ChromeDriver(url): #Can add multiple urls! Note in Python do not need to define datatypes\n",
    "    \n",
    "    #indentation signfies inside a function\n",
    "    chrome_path= \"/Users/myaturner/chromedriver\"\n",
    "    \n",
    "    options = webdriver.ChromeOptions()\n",
    "    options.add_argument(\"start-maximized\");\n",
    "    options.add_argument(\"disable-infobars\")\n",
    "    options.add_argument(\"--disable-extensions\")\n",
    "    \n",
    "    driver = webdriver.Chrome(executable_path=chrome_path, options=options)\n",
    "    driver.get(url)\n",
    "    \n",
    "    return driver #ends the function"
   ]
  },
  {
   "cell_type": "markdown",
   "metadata": {},
   "source": [
    "# Using Selenium to navigate to the Covid Summary for Maine"
   ]
  },
  {
   "cell_type": "code",
   "execution_count": 3,
   "metadata": {},
   "outputs": [],
   "source": [
    "link = 'https://www.maine.gov/dhhs/mecdc/infectious-disease/epi/airborne/coronavirus/data.shtml'\n",
    "driver = ChromeDriver(link)\n",
    "\n",
    "html = driver.page_source\n",
    "soup = BeautifulSoup(html, 'html.parser')\n",
    "\n",
    "#Copy Full XPath\n",
    "Find_by_XPath = driver.find_elements_by_xpath('/html/body/div[2]/div[3]/div[3]/p[6]/a')\n",
    "\n",
    "time.sleep(4)\n",
    "\n",
    "Find_by_XPath[0].click()"
   ]
  },
  {
   "cell_type": "markdown",
   "metadata": {},
   "source": [
    "# Check: Printing the Title of website"
   ]
  },
  {
   "cell_type": "code",
   "execution_count": 4,
   "metadata": {},
   "outputs": [
    {
     "name": "stdout",
     "output_type": "stream",
     "text": [
      "COVID-19: Maine Data\n"
     ]
    }
   ],
   "source": [
    "driver = ChromeDriver(link)\n",
    "\n",
    "html = driver.page_source\n",
    "soup = BeautifulSoup(html, 'html.parser')\n",
    "\n",
    "Find_by_XPath = driver.find_elements_by_xpath('/html/body/div[2]/div[3]/div[3]/h1')\n",
    "\n",
    "time.sleep(6)\n",
    "\n",
    "print(Find_by_XPath[0].text)"
   ]
  },
  {
   "cell_type": "markdown",
   "metadata": {},
   "source": [
    "# Check: Printing the date of website"
   ]
  },
  {
   "cell_type": "code",
   "execution_count": 5,
   "metadata": {},
   "outputs": [
    {
     "name": "stdout",
     "output_type": "stream",
     "text": [
      "\n",
      "\n",
      "Sun 20 Dec 2020\n",
      "      \n",
      "      JavaScript that displays the current date.\n",
      "      \n",
      "\n",
      "DHHS → MeCDC → Disease Surveillance → Epidemiology → Airborne and Direct Contact Diseases → Coronavirus → Maine Data \n",
      "\n"
     ]
    }
   ],
   "source": [
    "driver = ChromeDriver(link)\n",
    "\n",
    "html = driver.page_source\n",
    "soup = BeautifulSoup(html, 'html.parser')\n",
    "\n",
    "Find_by_SoupClass = soup.find(class_=\"crumb_trail\")\n",
    "\n",
    "time.sleep(6)\n",
    "\n",
    "print(Find_by_SoupClass.text)"
   ]
  },
  {
   "cell_type": "markdown",
   "metadata": {},
   "source": [
    "# Acessing the Most Recent Maine Covid Summary"
   ]
  },
  {
   "cell_type": "code",
   "execution_count": 6,
   "metadata": {},
   "outputs": [
    {
     "data": {
      "text/html": [
       "<div>\n",
       "<style scoped>\n",
       "    .dataframe tbody tr th:only-of-type {\n",
       "        vertical-align: middle;\n",
       "    }\n",
       "\n",
       "    .dataframe tbody tr th {\n",
       "        vertical-align: top;\n",
       "    }\n",
       "\n",
       "    .dataframe thead th {\n",
       "        text-align: right;\n",
       "    }\n",
       "</style>\n",
       "<table border=\"1\" class=\"dataframe\">\n",
       "  <thead>\n",
       "    <tr style=\"text-align: right;\">\n",
       "      <th></th>\n",
       "      <th>PATIENT_RACE_CALC</th>\n",
       "      <th>DATA_REFRESH_DT</th>\n",
       "      <th>DATA_AS_OF_DT</th>\n",
       "      <th>CASES</th>\n",
       "    </tr>\n",
       "  </thead>\n",
       "  <tbody>\n",
       "    <tr>\n",
       "      <th>0</th>\n",
       "      <td>NaN</td>\n",
       "      <td>2020-12-20</td>\n",
       "      <td>2020-12-19</td>\n",
       "      <td>7</td>\n",
       "    </tr>\n",
       "    <tr>\n",
       "      <th>1</th>\n",
       "      <td>American Indian or Alaska Native</td>\n",
       "      <td>2020-12-20</td>\n",
       "      <td>2020-12-19</td>\n",
       "      <td>59</td>\n",
       "    </tr>\n",
       "    <tr>\n",
       "      <th>2</th>\n",
       "      <td>Asian</td>\n",
       "      <td>2020-12-20</td>\n",
       "      <td>2020-12-19</td>\n",
       "      <td>252</td>\n",
       "    </tr>\n",
       "    <tr>\n",
       "      <th>3</th>\n",
       "      <td>Black or African American</td>\n",
       "      <td>2020-12-20</td>\n",
       "      <td>2020-12-19</td>\n",
       "      <td>1465</td>\n",
       "    </tr>\n",
       "    <tr>\n",
       "      <th>4</th>\n",
       "      <td>Native Hawaiian or Other Pacific Islander</td>\n",
       "      <td>2020-12-20</td>\n",
       "      <td>2020-12-19</td>\n",
       "      <td>10</td>\n",
       "    </tr>\n",
       "    <tr>\n",
       "      <th>5</th>\n",
       "      <td>Not disclosed</td>\n",
       "      <td>2020-12-20</td>\n",
       "      <td>2020-12-19</td>\n",
       "      <td>1925</td>\n",
       "    </tr>\n",
       "    <tr>\n",
       "      <th>6</th>\n",
       "      <td>Other Race</td>\n",
       "      <td>2020-12-20</td>\n",
       "      <td>2020-12-19</td>\n",
       "      <td>418</td>\n",
       "    </tr>\n",
       "    <tr>\n",
       "      <th>7</th>\n",
       "      <td>Two or more</td>\n",
       "      <td>2020-12-20</td>\n",
       "      <td>2020-12-19</td>\n",
       "      <td>158</td>\n",
       "    </tr>\n",
       "    <tr>\n",
       "      <th>8</th>\n",
       "      <td>White</td>\n",
       "      <td>2020-12-20</td>\n",
       "      <td>2020-12-19</td>\n",
       "      <td>14652</td>\n",
       "    </tr>\n",
       "  </tbody>\n",
       "</table>\n",
       "</div>"
      ],
      "text/plain": [
       "                           PATIENT_RACE_CALC DATA_REFRESH_DT DATA_AS_OF_DT  \\\n",
       "0                                        NaN      2020-12-20    2020-12-19   \n",
       "1           American Indian or Alaska Native      2020-12-20    2020-12-19   \n",
       "2                                      Asian      2020-12-20    2020-12-19   \n",
       "3                  Black or African American      2020-12-20    2020-12-19   \n",
       "4  Native Hawaiian or Other Pacific Islander      2020-12-20    2020-12-19   \n",
       "5                              Not disclosed      2020-12-20    2020-12-19   \n",
       "6                                 Other Race      2020-12-20    2020-12-19   \n",
       "7                                Two or more      2020-12-20    2020-12-19   \n",
       "8                                      White      2020-12-20    2020-12-19   \n",
       "\n",
       "   CASES  \n",
       "0      7  \n",
       "1     59  \n",
       "2    252  \n",
       "3   1465  \n",
       "4     10  \n",
       "5   1925  \n",
       "6    418  \n",
       "7    158  \n",
       "8  14652  "
      ]
     },
     "execution_count": 6,
     "metadata": {},
     "output_type": "execute_result"
    }
   ],
   "source": [
    "#Accessing the latest data for cases by race\n",
    "#source(s): https://datatofish.com/read_excel/, https://riptutorial.com/pandas/example/5927/read-a-specific-sheet\n",
    "\n",
    "cases_by_race = pd.read_excel(r'/Users/myaturner/Downloads/Maine_COVID19_Summary.xlsx', 'cases_by_race')\n",
    "cases_by_race"
   ]
  },
  {
   "cell_type": "code",
   "execution_count": 7,
   "metadata": {},
   "outputs": [
    {
     "data": {
      "text/html": [
       "<div>\n",
       "<style scoped>\n",
       "    .dataframe tbody tr th:only-of-type {\n",
       "        vertical-align: middle;\n",
       "    }\n",
       "\n",
       "    .dataframe tbody tr th {\n",
       "        vertical-align: top;\n",
       "    }\n",
       "\n",
       "    .dataframe thead th {\n",
       "        text-align: right;\n",
       "    }\n",
       "</style>\n",
       "<table border=\"1\" class=\"dataframe\">\n",
       "  <thead>\n",
       "    <tr style=\"text-align: right;\">\n",
       "      <th></th>\n",
       "      <th>PATIENT_ETHNICITY</th>\n",
       "      <th>DATA_REFRESH_DT</th>\n",
       "      <th>DATA_AS_OF_DT</th>\n",
       "      <th>CASES</th>\n",
       "    </tr>\n",
       "  </thead>\n",
       "  <tbody>\n",
       "    <tr>\n",
       "      <th>0</th>\n",
       "      <td>unknown</td>\n",
       "      <td>2020-12-20</td>\n",
       "      <td>2020-12-19</td>\n",
       "      <td>4140</td>\n",
       "    </tr>\n",
       "    <tr>\n",
       "      <th>1</th>\n",
       "      <td>Not Hispanic or Latino</td>\n",
       "      <td>2020-12-20</td>\n",
       "      <td>2020-12-19</td>\n",
       "      <td>14416</td>\n",
       "    </tr>\n",
       "    <tr>\n",
       "      <th>2</th>\n",
       "      <td>Hispanic or Latino</td>\n",
       "      <td>2020-12-20</td>\n",
       "      <td>2020-12-19</td>\n",
       "      <td>390</td>\n",
       "    </tr>\n",
       "  </tbody>\n",
       "</table>\n",
       "</div>"
      ],
      "text/plain": [
       "        PATIENT_ETHNICITY DATA_REFRESH_DT DATA_AS_OF_DT  CASES\n",
       "0                 unknown      2020-12-20    2020-12-19   4140\n",
       "1  Not Hispanic or Latino      2020-12-20    2020-12-19  14416\n",
       "2      Hispanic or Latino      2020-12-20    2020-12-19    390"
      ]
     },
     "execution_count": 7,
     "metadata": {},
     "output_type": "execute_result"
    }
   ],
   "source": [
    "#Acessing the latest data for cases by ethnicity\n",
    "\n",
    "cases_by_ethnicity = pd.read_excel(r'/Users/myaturner/Downloads/Maine_COVID19_Summary.xlsx', 'cases_by_ethnicity')\n",
    "cases_by_ethnicity"
   ]
  },
  {
   "cell_type": "markdown",
   "metadata": {},
   "source": [
    "# Appending the latest data to old data"
   ]
  },
  {
   "cell_type": "code",
   "execution_count": 8,
   "metadata": {},
   "outputs": [],
   "source": [
    "#Appending Race Data\n",
    "\n",
    "maine_covid_summary_previous_race = pd.read_excel('maine_covid_summary.xlsx', sheet_name = 'cases_by_race')\n",
    "\n",
    "maine_covid_summary_latest_race = pd.concat([maine_covid_summary_previous_race, cases_by_race])\n",
    "\n",
    "#Dropping unamed columns\n",
    "\n",
    "maine_covid_summary_latest_race = maine_covid_summary_latest_race.drop(columns=['Unnamed: 0'])\n",
    "#maine_covid_summary_latest_race"
   ]
  },
  {
   "cell_type": "code",
   "execution_count": 9,
   "metadata": {},
   "outputs": [],
   "source": [
    "#Appending Ethnicity Data\n",
    "maine_covid_summary_previous_ethnicity = pd.read_excel('maine_covid_summary.xlsx', sheet_name = 'cases_by_ethnicity')\n",
    "\n",
    "maine_covid_summary_latest_ethnicity = pd.concat([maine_covid_summary_previous_ethnicity, cases_by_ethnicity])\n",
    "\n",
    "#Dropping unamed columns\n",
    "maine_covid_summary_latest_ethnicity = maine_covid_summary_latest_ethnicity.drop(columns=['Unnamed: 0'])\n",
    "\n",
    "#maine_covid_summary_latest_ethnicity"
   ]
  },
  {
   "cell_type": "markdown",
   "metadata": {},
   "source": [
    "# Writing the latest data to a Spreadsheet"
   ]
  },
  {
   "cell_type": "code",
   "execution_count": 10,
   "metadata": {},
   "outputs": [
    {
     "name": "stdout",
     "output_type": "stream",
     "text": [
      "Dataframe is written successfully to Excel Sheet.\n"
     ]
    }
   ],
   "source": [
    "from pandas import ExcelWriter\n",
    "from pandas import ExcelFile\n",
    "\n",
    "with ExcelWriter('maine_covid_summary.xlsx') as writer:\n",
    "    \n",
    "    #Writing Cases by Race to a local Spreadsheet\n",
    "    maine_covid_summary_latest_race.to_excel(writer,'cases_by_race')\n",
    "    \n",
    "    #Writing Cases by Ethnicity to a local Spreadsheet\n",
    "    maine_covid_summary_latest_ethnicity.to_excel(writer,'cases_by_ethnicity')\n",
    "\n",
    "\n",
    "#If prints out this message, data was successfully saved.\n",
    "#writer.save()\n",
    "print('Dataframe is written successfully to Excel Sheet.')"
   ]
  },
  {
   "cell_type": "markdown",
   "metadata": {},
   "source": [
    "# Removing Old Maine Covid Summary"
   ]
  },
  {
   "cell_type": "code",
   "execution_count": 11,
   "metadata": {},
   "outputs": [
    {
     "name": "stdout",
     "output_type": "stream",
     "text": [
      "File Removed!\n"
     ]
    }
   ],
   "source": [
    "#In order to run the scraper another day, need to remove the old data so it does not confuse the algorithm\n",
    "#source(s): https://www.dummies.com/programming/python/how-to-delete-a-file-in-python/\n",
    "\n",
    "os.remove(r'/Users/myaturner/Downloads/Maine_COVID19_Summary.xlsx')\n",
    "print(\"File Removed!\")"
   ]
  },
  {
   "cell_type": "code",
   "execution_count": null,
   "metadata": {},
   "outputs": [],
   "source": []
  }
 ],
 "metadata": {
  "kernelspec": {
   "display_name": "Python 3",
   "language": "python",
   "name": "python3"
  },
  "language_info": {
   "codemirror_mode": {
    "name": "ipython",
    "version": 3
   },
   "file_extension": ".py",
   "mimetype": "text/x-python",
   "name": "python",
   "nbconvert_exporter": "python",
   "pygments_lexer": "ipython3",
   "version": "3.8.6"
  }
 },
 "nbformat": 4,
 "nbformat_minor": 4
}
