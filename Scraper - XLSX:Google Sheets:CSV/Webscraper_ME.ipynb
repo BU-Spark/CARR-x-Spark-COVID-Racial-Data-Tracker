{
 "cells": [
  {
   "cell_type": "markdown",
   "metadata": {},
   "source": [
    "## Importing Libraries"
   ]
  },
  {
   "cell_type": "code",
   "execution_count": 7,
   "metadata": {},
   "outputs": [],
   "source": [
    "import time\n",
    "import csv\n",
    "from selenium import webdriver\n",
    "from selenium.webdriver.common.keys import Keys\n",
    "from bs4 import BeautifulSoup \n",
    "import datetime\n",
    "import zipfile\n",
    "import pandas as pd\n",
    "import requests"
   ]
  },
  {
   "cell_type": "markdown",
   "metadata": {},
   "source": [
    "## Chromedriver Function"
   ]
  },
  {
   "cell_type": "code",
   "execution_count": 8,
   "metadata": {},
   "outputs": [],
   "source": [
    "#Chromedriver is the name of the function\n",
    "\n",
    "def ChromeDriver(url): #Can add multiple urls! Note in Python do not need to define datatypes\n",
    "    \n",
    "    #indentation signfies inside a function\n",
    "    chrome_path= \"/Users/myaturner/chromedriver\"\n",
    "    \n",
    "    options = webdriver.ChromeOptions()\n",
    "    options.add_argument(\"start-maximized\");\n",
    "    options.add_argument(\"disable-infobars\")\n",
    "    options.add_argument(\"--disable-extensions\")\n",
    "    \n",
    "    driver = webdriver.Chrome(executable_path=chrome_path, options=options)\n",
    "    driver.get(url)\n",
    "    \n",
    "    return driver #ends the function"
   ]
  },
  {
   "cell_type": "markdown",
   "metadata": {},
   "source": [
    "## Taking the Maine Covid Summary for Race Spreadsheet and downloading the CSV"
   ]
  },
  {
   "cell_type": "code",
   "execution_count": 12,
   "metadata": {},
   "outputs": [],
   "source": [
    "#Orginal link for maine covid summary, cases by race: https://docs.google.com/spreadsheets/d/1rWLhC0MXijvvQeUgboaazpUpl3VI7JF84yxIWL_jleA/edit#gid=372884234\n",
    "maine_covid_summary_cases_by_race_link = 'https://docs.google.com/spreadsheets/d/1rWLhC0MXijvvQeUgboaazpUpl3VI7JF84yxIWL_jleA/export?format=csv&gid=372884234'\n",
    "ChromeDriver(maine_covid_summary_cases_by_race_link)\n",
    "maine_covid_summary_cases_by_race = pd.read_csv(maine_covid_summary_cases_by_race_link)"
   ]
  },
  {
   "cell_type": "code",
   "execution_count": 13,
   "metadata": {},
   "outputs": [
    {
     "data": {
      "text/html": [
       "<div>\n",
       "<style scoped>\n",
       "    .dataframe tbody tr th:only-of-type {\n",
       "        vertical-align: middle;\n",
       "    }\n",
       "\n",
       "    .dataframe tbody tr th {\n",
       "        vertical-align: top;\n",
       "    }\n",
       "\n",
       "    .dataframe thead th {\n",
       "        text-align: right;\n",
       "    }\n",
       "</style>\n",
       "<table border=\"1\" class=\"dataframe\">\n",
       "  <thead>\n",
       "    <tr style=\"text-align: right;\">\n",
       "      <th></th>\n",
       "      <th>PATIENT_RACE_CALC</th>\n",
       "      <th>DATA_REFRESH_DT</th>\n",
       "      <th>DATA_AS_OF_DT</th>\n",
       "      <th>CASES</th>\n",
       "    </tr>\n",
       "  </thead>\n",
       "  <tbody>\n",
       "    <tr>\n",
       "      <th>0</th>\n",
       "      <td>American Indian or Alaska Native</td>\n",
       "      <td>2020-11-04</td>\n",
       "      <td>2020-11-03</td>\n",
       "      <td>16</td>\n",
       "    </tr>\n",
       "    <tr>\n",
       "      <th>1</th>\n",
       "      <td>Asian</td>\n",
       "      <td>2020-11-04</td>\n",
       "      <td>2020-11-03</td>\n",
       "      <td>136</td>\n",
       "    </tr>\n",
       "    <tr>\n",
       "      <th>2</th>\n",
       "      <td>Black or African American</td>\n",
       "      <td>2020-11-04</td>\n",
       "      <td>2020-11-03</td>\n",
       "      <td>1009</td>\n",
       "    </tr>\n",
       "    <tr>\n",
       "      <th>3</th>\n",
       "      <td>Native Hawaiian or Other Pacific Islander</td>\n",
       "      <td>2020-11-04</td>\n",
       "      <td>2020-11-03</td>\n",
       "      <td>4</td>\n",
       "    </tr>\n",
       "    <tr>\n",
       "      <th>4</th>\n",
       "      <td>Not disclosed</td>\n",
       "      <td>2020-11-04</td>\n",
       "      <td>2020-11-03</td>\n",
       "      <td>621</td>\n",
       "    </tr>\n",
       "    <tr>\n",
       "      <th>5</th>\n",
       "      <td>Other Race</td>\n",
       "      <td>2020-11-04</td>\n",
       "      <td>2020-11-03</td>\n",
       "      <td>190</td>\n",
       "    </tr>\n",
       "    <tr>\n",
       "      <th>6</th>\n",
       "      <td>Two or more</td>\n",
       "      <td>2020-11-04</td>\n",
       "      <td>2020-11-03</td>\n",
       "      <td>44</td>\n",
       "    </tr>\n",
       "    <tr>\n",
       "      <th>7</th>\n",
       "      <td>White</td>\n",
       "      <td>2020-11-04</td>\n",
       "      <td>2020-11-03</td>\n",
       "      <td>5056</td>\n",
       "    </tr>\n",
       "  </tbody>\n",
       "</table>\n",
       "</div>"
      ],
      "text/plain": [
       "                           PATIENT_RACE_CALC DATA_REFRESH_DT DATA_AS_OF_DT  \\\n",
       "0           American Indian or Alaska Native      2020-11-04    2020-11-03   \n",
       "1                                      Asian      2020-11-04    2020-11-03   \n",
       "2                  Black or African American      2020-11-04    2020-11-03   \n",
       "3  Native Hawaiian or Other Pacific Islander      2020-11-04    2020-11-03   \n",
       "4                              Not disclosed      2020-11-04    2020-11-03   \n",
       "5                                 Other Race      2020-11-04    2020-11-03   \n",
       "6                                Two or more      2020-11-04    2020-11-03   \n",
       "7                                      White      2020-11-04    2020-11-03   \n",
       "\n",
       "   CASES  \n",
       "0     16  \n",
       "1    136  \n",
       "2   1009  \n",
       "3      4  \n",
       "4    621  \n",
       "5    190  \n",
       "6     44  \n",
       "7   5056  "
      ]
     },
     "execution_count": 13,
     "metadata": {},
     "output_type": "execute_result"
    }
   ],
   "source": [
    "maine_covid_summary_cases_by_race"
   ]
  },
  {
   "cell_type": "markdown",
   "metadata": {},
   "source": [
    "# Taking the Maine Covid Summary for Ethnicity Spreadsheet and downloading the CSV (Same Steps)"
   ]
  },
  {
   "cell_type": "code",
   "execution_count": null,
   "metadata": {},
   "outputs": [],
   "source": [
    "#Orginal link for maine covid summary, cases by ethnicity: https://docs.google.com/spreadsheets/d/1rWLhC0MXijvvQeUgboaazpUpl3VI7JF84yxIWL_jleA/edit#gid=1464406785\n",
    "maine_covid_summary_cases_by_ethnicity_link = 'https://docs.google.com/spreadsheets/d/1rWLhC0MXijvvQeUgboaazpUpl3VI7JF84yxIWL_jleA/export?format=csv&gid=1464406785'"
   ]
  },
  {
   "cell_type": "code",
   "execution_count": null,
   "metadata": {},
   "outputs": [],
   "source": [
    "maine_covid_summary_cases_by_ethnicity = pd.read_csv(maine_covid_summary_cases_by_ethnicity_link)"
   ]
  },
  {
   "cell_type": "code",
   "execution_count": null,
   "metadata": {},
   "outputs": [],
   "source": [
    "maine_covid_summary_cases_by_ethnicity\n"
   ]
  }
 ],
 "metadata": {
  "kernelspec": {
   "display_name": "Python 3",
   "language": "python",
   "name": "python3"
  },
  "language_info": {
   "codemirror_mode": {
    "name": "ipython",
    "version": 3
   },
   "file_extension": ".py",
   "mimetype": "text/x-python",
   "name": "python",
   "nbconvert_exporter": "python",
   "pygments_lexer": "ipython3",
   "version": "3.8.6"
  }
 },
 "nbformat": 4,
 "nbformat_minor": 4
}
