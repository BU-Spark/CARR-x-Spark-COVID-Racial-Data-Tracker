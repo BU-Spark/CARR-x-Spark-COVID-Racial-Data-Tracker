{
 "cells": [
  {
   "cell_type": "code",
   "execution_count": 1,
   "metadata": {},
   "outputs": [],
   "source": [
    "import tabula\n",
    "import pandas as pd\n",
    "import re\n",
    "import math\n",
    "import numpy as np\n",
    "import time"
   ]
  },
  {
   "cell_type": "code",
   "execution_count": 2,
   "metadata": {},
   "outputs": [],
   "source": [
    "pdf_path=r\"https://chfs.ky.gov/agencies/dph/covid19/COVID19DailyReport.pdf\""
   ]
  },
  {
   "cell_type": "markdown",
   "metadata": {},
   "source": [
    "# Get Data on the PDF"
   ]
  },
  {
   "cell_type": "code",
   "execution_count": 3,
   "metadata": {},
   "outputs": [
    {
     "name": "stdout",
     "output_type": "stream",
     "text": [
      "2020-12-08\n"
     ]
    }
   ],
   "source": [
    "#date\n",
    "# [top,left,bottom,width]\n",
    "box = [2.3,1.5,3.3,18]\n",
    "fc = 28.28\n",
    "for i in range(0, len(box)):\n",
    "   box[i] *= fc\n",
    "\n",
    "deaths = tabula.read_pdf(pdf_path,pages=1,area=[box],multiple_tables=False)\n",
    "today=deaths[0].columns[0]\n",
    "today=today[26:]\n",
    "today=pd.to_datetime(today,format='%m/%d/%Y')\n",
    "today=today.date()\n",
    "print(today)"
   ]
  },
  {
   "cell_type": "markdown",
   "metadata": {},
   "source": [
    "# Get Total Deaths and Total Cases"
   ]
  },
  {
   "cell_type": "code",
   "execution_count": 5,
   "metadata": {},
   "outputs": [
    {
     "data": {
      "text/html": [
       "<div>\n",
       "<style scoped>\n",
       "    .dataframe tbody tr th:only-of-type {\n",
       "        vertical-align: middle;\n",
       "    }\n",
       "\n",
       "    .dataframe tbody tr th {\n",
       "        vertical-align: top;\n",
       "    }\n",
       "\n",
       "    .dataframe thead th {\n",
       "        text-align: right;\n",
       "    }\n",
       "</style>\n",
       "<table border=\"1\" class=\"dataframe\">\n",
       "  <thead>\n",
       "    <tr style=\"text-align: right;\">\n",
       "      <th>2020-12-08</th>\n",
       "      <th>Totals</th>\n",
       "    </tr>\n",
       "  </thead>\n",
       "  <tbody>\n",
       "    <tr>\n",
       "      <th>Confirmed</th>\n",
       "      <td>169569</td>\n",
       "    </tr>\n",
       "    <tr>\n",
       "      <th>Probable</th>\n",
       "      <td>36099</td>\n",
       "    </tr>\n",
       "    <tr>\n",
       "      <th>Total Deaths*</th>\n",
       "      <td>2102</td>\n",
       "    </tr>\n",
       "    <tr>\n",
       "      <th>Confirmed</th>\n",
       "      <td>1999</td>\n",
       "    </tr>\n",
       "    <tr>\n",
       "      <th>Probable</th>\n",
       "      <td>103</td>\n",
       "    </tr>\n",
       "    <tr>\n",
       "      <th>Total Cases*</th>\n",
       "      <td>205668</td>\n",
       "    </tr>\n",
       "  </tbody>\n",
       "</table>\n",
       "</div>"
      ],
      "text/plain": [
       "2020-12-08     Totals\n",
       "Confirmed      169569\n",
       "Probable        36099\n",
       "Total Deaths*    2102\n",
       "Confirmed        1999\n",
       "Probable          103\n",
       "Total Cases*   205668"
      ]
     },
     "execution_count": 5,
     "metadata": {},
     "output_type": "execute_result"
    }
   ],
   "source": [
    "# [top,left,bottom,width]\n",
    "box1 = [3.5,1.5,9,11]\n",
    "fc = 28.28\n",
    "for i in range(0, len(box1)):\n",
    "   box1[i] *= fc\n",
    "\n",
    "total = tabula.read_pdf(pdf_path,pages=1,area=[box1],multiple_tables=False)\n",
    "total[0].iloc[5]=total[0].columns\n",
    "total[0].columns = [today,\"Totals\"]\n",
    "total[0].set_index(today,inplace=True)\n",
    "\n",
    "\n",
    "total[0].columns.name = total[0].index.name\n",
    "total[0].index.name = None\n",
    "totals=total[0]\n",
    "totals['Totals'] = totals['Totals'].str.replace(',', '').astype(int)\n",
    "totals"
   ]
  },
  {
   "cell_type": "markdown",
   "metadata": {},
   "source": [
    "# Race of Cases Where Race is Known"
   ]
  },
  {
   "cell_type": "code",
   "execution_count": 6,
   "metadata": {},
   "outputs": [
    {
     "data": {
      "text/html": [
       "<div>\n",
       "<style scoped>\n",
       "    .dataframe tbody tr th:only-of-type {\n",
       "        vertical-align: middle;\n",
       "    }\n",
       "\n",
       "    .dataframe tbody tr th {\n",
       "        vertical-align: top;\n",
       "    }\n",
       "\n",
       "    .dataframe thead th {\n",
       "        text-align: right;\n",
       "    }\n",
       "</style>\n",
       "<table border=\"1\" class=\"dataframe\">\n",
       "  <thead>\n",
       "    <tr style=\"text-align: right;\">\n",
       "      <th>Race</th>\n",
       "      <th>Percent</th>\n",
       "      <th>Cases</th>\n",
       "    </tr>\n",
       "  </thead>\n",
       "  <tbody>\n",
       "    <tr>\n",
       "      <th>White</th>\n",
       "      <td>83.74</td>\n",
       "      <td>132080.0</td>\n",
       "    </tr>\n",
       "    <tr>\n",
       "      <th>Black</th>\n",
       "      <td>9.58</td>\n",
       "      <td>15110.0</td>\n",
       "    </tr>\n",
       "    <tr>\n",
       "      <th>Multiracial</th>\n",
       "      <td>5.04</td>\n",
       "      <td>7949.0</td>\n",
       "    </tr>\n",
       "    <tr>\n",
       "      <th>Asian</th>\n",
       "      <td>1.28</td>\n",
       "      <td>2018.0</td>\n",
       "    </tr>\n",
       "    <tr>\n",
       "      <th>American Indian or Alaska Native</th>\n",
       "      <td>0.25</td>\n",
       "      <td>394.0</td>\n",
       "    </tr>\n",
       "    <tr>\n",
       "      <th>Native Hawaiian or Other Pacific</th>\n",
       "      <td>0.10</td>\n",
       "      <td>157.0</td>\n",
       "    </tr>\n",
       "    <tr>\n",
       "      <th>Unknown</th>\n",
       "      <td>NaN</td>\n",
       "      <td>47960.0</td>\n",
       "    </tr>\n",
       "  </tbody>\n",
       "</table>\n",
       "</div>"
      ],
      "text/plain": [
       "Race                              Percent     Cases\n",
       "White                               83.74  132080.0\n",
       "Black                                9.58   15110.0\n",
       "Multiracial                          5.04    7949.0\n",
       "Asian                                1.28    2018.0\n",
       "American Indian or Alaska Native     0.25     394.0\n",
       "Native Hawaiian or Other Pacific     0.10     157.0\n",
       "Unknown                               NaN   47960.0"
      ]
     },
     "execution_count": 6,
     "metadata": {},
     "output_type": "execute_result"
    }
   ],
   "source": [
    "# [top,left,bottom,width]\n",
    "box2 = [11,1.6,16.5,11.5]\n",
    "fc = 28.28\n",
    "for i in range(0, len(box2)):\n",
    "   box2[i] *= fc\n",
    "\n",
    "data = tabula.read_pdf(pdf_path,pages=2,area=[box2],multiple_tables=False)\n",
    "race_cases=data[0]\n",
    "\n",
    "#find the percentage of total known\n",
    "start = '('\n",
    "end = '%'\n",
    "s = data[0].columns[0]\n",
    "perc=float((s.split(start))[1].split(end)[0])/100\n",
    "\n",
    "race_cases.rename(columns={race_cases.columns[0]:'Race'}, inplace=True)\n",
    "\n",
    "race_cases.set_index(\"Race\",inplace=True)\n",
    "race_cases.columns=[\"Percent\"]\n",
    "race_cases.columns\n",
    "race_cases['Percent'] = race_cases['Percent'].str.replace('%', '').astype(float)\n",
    "race_cases['Cases'] = np.floor(race_cases.Percent * totals.loc['Total Cases*','Totals']*perc/100)\n",
    "\n",
    "race_cases.columns.name = race_cases.index.name\n",
    "race_cases.index.name = None\n",
    "\n",
    "race_cases.loc[\"Unknown\",\"Cases\"]= totals.loc['Total Cases*','Totals']-race_cases['Cases'].sum()\n",
    "race_cases\n"
   ]
  },
  {
   "cell_type": "markdown",
   "metadata": {},
   "source": [
    "# Ethnicity of Cases Where Ethnicity is Known"
   ]
  },
  {
   "cell_type": "code",
   "execution_count": 7,
   "metadata": {},
   "outputs": [
    {
     "data": {
      "text/html": [
       "<div>\n",
       "<style scoped>\n",
       "    .dataframe tbody tr th:only-of-type {\n",
       "        vertical-align: middle;\n",
       "    }\n",
       "\n",
       "    .dataframe tbody tr th {\n",
       "        vertical-align: top;\n",
       "    }\n",
       "\n",
       "    .dataframe thead th {\n",
       "        text-align: right;\n",
       "    }\n",
       "</style>\n",
       "<table border=\"1\" class=\"dataframe\">\n",
       "  <thead>\n",
       "    <tr style=\"text-align: right;\">\n",
       "      <th>Ethnicity</th>\n",
       "      <th>Percent</th>\n",
       "      <th>Cases</th>\n",
       "    </tr>\n",
       "  </thead>\n",
       "  <tbody>\n",
       "    <tr>\n",
       "      <th>Non-Hispanic</th>\n",
       "      <td>93.3</td>\n",
       "      <td>137123.0</td>\n",
       "    </tr>\n",
       "    <tr>\n",
       "      <th>Hispanic</th>\n",
       "      <td>6.7</td>\n",
       "      <td>9847.0</td>\n",
       "    </tr>\n",
       "    <tr>\n",
       "      <th>Unknown</th>\n",
       "      <td>NaN</td>\n",
       "      <td>58698.0</td>\n",
       "    </tr>\n",
       "  </tbody>\n",
       "</table>\n",
       "</div>"
      ],
      "text/plain": [
       "Ethnicity     Percent     Cases\n",
       "Non-Hispanic     93.3  137123.0\n",
       "Hispanic          6.7    9847.0\n",
       "Unknown           NaN   58698.0"
      ]
     },
     "execution_count": 7,
     "metadata": {},
     "output_type": "execute_result"
    }
   ],
   "source": [
    "# [top,left,bottom,width]\n",
    "box3 = [11,12,16,20]\n",
    "fc = 28.28\n",
    "for i in range(0, len(box3)):\n",
    "   box3[i] *= fc\n",
    "\n",
    "data_eth= tabula.read_pdf(pdf_path,pages=2,area=[box3],multiple_tables=False)\n",
    "ethnicity_cases=data_eth[0]\n",
    "\n",
    "#find the percentage of total known\n",
    "start = '('\n",
    "end = '%'\n",
    "s = data_eth[0].columns[0]\n",
    "perc=float((s.split(start))[1].split(end)[0])/100\n",
    "\n",
    "ethnicity_cases.rename(columns={ethnicity_cases.columns[0]:'Ethnicity'}, inplace=True)\n",
    "ethnicity_cases\n",
    "ethnicity_cases.set_index(\"Ethnicity\",inplace=True)\n",
    "ethnicity_cases.columns=[\"Percent\"]\n",
    "ethnicity_cases['Percent'] = ethnicity_cases['Percent'].str.replace('%', '').astype(float)\n",
    "ethnicity_cases['Cases'] = np.floor(ethnicity_cases.Percent * totals.loc['Total Cases*','Totals']*perc/100)\n",
    "\n",
    "ethnicity_cases.columns.name = ethnicity_cases.index.name\n",
    "ethnicity_cases.index.name = None\n",
    "\n",
    "ethnicity_cases.loc[\"Unknown\",\"Cases\"]= totals.loc['Total Cases*','Totals']-ethnicity_cases['Cases'].sum()\n",
    "ethnicity_cases"
   ]
  },
  {
   "cell_type": "markdown",
   "metadata": {},
   "source": [
    "# Race of Deaths Where Race is Known"
   ]
  },
  {
   "cell_type": "code",
   "execution_count": 8,
   "metadata": {},
   "outputs": [
    {
     "data": {
      "text/html": [
       "<div>\n",
       "<style scoped>\n",
       "    .dataframe tbody tr th:only-of-type {\n",
       "        vertical-align: middle;\n",
       "    }\n",
       "\n",
       "    .dataframe tbody tr th {\n",
       "        vertical-align: top;\n",
       "    }\n",
       "\n",
       "    .dataframe thead th {\n",
       "        text-align: right;\n",
       "    }\n",
       "</style>\n",
       "<table border=\"1\" class=\"dataframe\">\n",
       "  <thead>\n",
       "    <tr style=\"text-align: right;\">\n",
       "      <th>Race</th>\n",
       "      <th>Percent</th>\n",
       "      <th>Deaths</th>\n",
       "    </tr>\n",
       "  </thead>\n",
       "  <tbody>\n",
       "    <tr>\n",
       "      <th>White</th>\n",
       "      <td>86.19</td>\n",
       "      <td>1672.0</td>\n",
       "    </tr>\n",
       "    <tr>\n",
       "      <th>Black</th>\n",
       "      <td>10.41</td>\n",
       "      <td>202.0</td>\n",
       "    </tr>\n",
       "    <tr>\n",
       "      <th>Multiracial</th>\n",
       "      <td>2.58</td>\n",
       "      <td>50.0</td>\n",
       "    </tr>\n",
       "    <tr>\n",
       "      <th>Asian</th>\n",
       "      <td>0.77</td>\n",
       "      <td>14.0</td>\n",
       "    </tr>\n",
       "    <tr>\n",
       "      <th>American Indian or Alaska Native</th>\n",
       "      <td>0.05</td>\n",
       "      <td>0.0</td>\n",
       "    </tr>\n",
       "    <tr>\n",
       "      <th>Unknown</th>\n",
       "      <td>NaN</td>\n",
       "      <td>164.0</td>\n",
       "    </tr>\n",
       "  </tbody>\n",
       "</table>\n",
       "</div>"
      ],
      "text/plain": [
       "Race                              Percent  Deaths\n",
       "White                               86.19  1672.0\n",
       "Black                               10.41   202.0\n",
       "Multiracial                          2.58    50.0\n",
       "Asian                                0.77    14.0\n",
       "American Indian or Alaska Native     0.05     0.0\n",
       "Unknown                               NaN   164.0"
      ]
     },
     "execution_count": 8,
     "metadata": {},
     "output_type": "execute_result"
    }
   ],
   "source": [
    "# [top,left,bottom,width]\n",
    "box4 = [16.5,1.6,23,11]\n",
    "fc = 28.28\n",
    "for i in range(0, len(box4)):\n",
    "   box4[i] *= fc\n",
    "\n",
    "deaths = tabula.read_pdf(pdf_path,pages=2,area=[box4],multiple_tables=False)\n",
    "deaths_race=deaths[0]\n",
    "\n",
    "#find the percentage of total known\n",
    "start = '('\n",
    "end = '%'\n",
    "s = deaths[0].columns[0]\n",
    "perc=float((s.split(start))[1].split(end)[0])/100\n",
    "\n",
    "deaths_race.rename(columns={deaths_race.columns[0]:'Race'}, inplace=True)\n",
    "\n",
    "deaths_race.set_index(\"Race\",inplace=True)\n",
    "deaths_race.columns=[\"Percent\"]\n",
    "deaths_race['Percent'] = deaths_race['Percent'].str.replace('%', '').astype(float)\n",
    "deaths_race['Deaths'] = np.floor(deaths_race.Percent * totals.loc['Total Deaths*','Totals']*perc/100)\n",
    "\n",
    "deaths_race.columns.name = deaths_race.index.name\n",
    "deaths_race.index.name = None\n",
    "\n",
    "deaths_race.loc[\"Unknown\",\"Deaths\"]= totals.loc['Total Deaths*','Totals']-deaths_race['Deaths'].sum()\n",
    "deaths_race"
   ]
  },
  {
   "cell_type": "markdown",
   "metadata": {},
   "source": [
    "# Ethnicity of Deaths Where Ethnicity is Known"
   ]
  },
  {
   "cell_type": "code",
   "execution_count": 9,
   "metadata": {},
   "outputs": [
    {
     "data": {
      "text/html": [
       "<div>\n",
       "<style scoped>\n",
       "    .dataframe tbody tr th:only-of-type {\n",
       "        vertical-align: middle;\n",
       "    }\n",
       "\n",
       "    .dataframe tbody tr th {\n",
       "        vertical-align: top;\n",
       "    }\n",
       "\n",
       "    .dataframe thead th {\n",
       "        text-align: right;\n",
       "    }\n",
       "</style>\n",
       "<table border=\"1\" class=\"dataframe\">\n",
       "  <thead>\n",
       "    <tr style=\"text-align: right;\">\n",
       "      <th>Ethnicity</th>\n",
       "      <th>Percent</th>\n",
       "      <th>Deaths</th>\n",
       "    </tr>\n",
       "  </thead>\n",
       "  <tbody>\n",
       "    <tr>\n",
       "      <th>Non-Hispanic</th>\n",
       "      <td>97.42</td>\n",
       "      <td>1812.0</td>\n",
       "    </tr>\n",
       "    <tr>\n",
       "      <th>Hispanic</th>\n",
       "      <td>2.58</td>\n",
       "      <td>47.0</td>\n",
       "    </tr>\n",
       "    <tr>\n",
       "      <th>Unknown</th>\n",
       "      <td>NaN</td>\n",
       "      <td>243.0</td>\n",
       "    </tr>\n",
       "  </tbody>\n",
       "</table>\n",
       "</div>"
      ],
      "text/plain": [
       "Ethnicity     Percent  Deaths\n",
       "Non-Hispanic    97.42  1812.0\n",
       "Hispanic         2.58    47.0\n",
       "Unknown           NaN   243.0"
      ]
     },
     "execution_count": 9,
     "metadata": {},
     "output_type": "execute_result"
    }
   ],
   "source": [
    "from tabula import read_pdf\n",
    "# [top,left,bottom,width]\n",
    "box5 = [16,12,20,20]\n",
    "fc = 28.28\n",
    "for i in range(0, len(box5)):\n",
    "   box5[i] *= fc\n",
    "\n",
    "deaths_e = tabula.read_pdf(pdf_path,pages=2,area=[box5],multiple_tables=False)\n",
    "deaths_ethnicity=deaths_e[0]\n",
    "\n",
    "#find the percentage of total known\n",
    "start = '('\n",
    "end = '%'\n",
    "s = deaths_e[0].columns[0]\n",
    "perc=float((s.split(start))[1].split(end)[0])/100\n",
    "\n",
    "deaths_ethnicity.rename(columns={deaths_ethnicity.columns[0]:\"Ethnicity\"}, inplace=True)\n",
    "\n",
    "deaths_ethnicity.set_index(\"Ethnicity\",inplace=True)\n",
    "deaths_ethnicity.columns=[\"Percent\"]\n",
    "deaths_ethnicity['Percent'] = deaths_ethnicity['Percent'].str.replace('%', '').astype(float)\n",
    "deaths_ethnicity['Deaths'] = np.floor(deaths_ethnicity.Percent * totals.loc['Total Deaths*','Totals']*perc/100)\n",
    "\n",
    "deaths_ethnicity.columns.name = deaths_ethnicity.index.name\n",
    "deaths_ethnicity.index.name = None\n",
    "\n",
    "deaths_ethnicity.loc[\"Unknown\",\"Deaths\"]= totals.loc['Total Deaths*','Totals']-deaths_ethnicity['Deaths'].sum()\n",
    "deaths_ethnicity"
   ]
  },
  {
   "cell_type": "markdown",
   "metadata": {},
   "source": [
    "# Converting New Scraped Covid Data into Same Format as CRDT Table"
   ]
  },
  {
   "cell_type": "code",
   "execution_count": 11,
   "metadata": {},
   "outputs": [
    {
     "data": {
      "text/html": [
       "<div>\n",
       "<style scoped>\n",
       "    .dataframe tbody tr th:only-of-type {\n",
       "        vertical-align: middle;\n",
       "    }\n",
       "\n",
       "    .dataframe tbody tr th {\n",
       "        vertical-align: top;\n",
       "    }\n",
       "\n",
       "    .dataframe thead th {\n",
       "        text-align: right;\n",
       "    }\n",
       "</style>\n",
       "<table border=\"1\" class=\"dataframe\">\n",
       "  <thead>\n",
       "    <tr style=\"text-align: right;\">\n",
       "      <th></th>\n",
       "      <th>Date</th>\n",
       "      <th>State</th>\n",
       "      <th>Cases_Total</th>\n",
       "      <th>Cases_White</th>\n",
       "      <th>Cases_Black</th>\n",
       "      <th>Cases_LatinX</th>\n",
       "      <th>Cases_Asian</th>\n",
       "      <th>Cases_AIAN</th>\n",
       "      <th>Cases_NHPI</th>\n",
       "      <th>Cases_Multiracial</th>\n",
       "      <th>...</th>\n",
       "      <th>Deaths_LatinX</th>\n",
       "      <th>Deaths_Asian</th>\n",
       "      <th>Deaths_AIAN</th>\n",
       "      <th>Deaths_NHPI</th>\n",
       "      <th>Deaths_Multiracial</th>\n",
       "      <th>Deaths_Other</th>\n",
       "      <th>Deaths_Unknown</th>\n",
       "      <th>Deaths_Ethnicity_Hispanic</th>\n",
       "      <th>Deaths_Ethnicity_NonHispanic</th>\n",
       "      <th>Deaths_Ethnicity_Unknown</th>\n",
       "    </tr>\n",
       "  </thead>\n",
       "  <tbody>\n",
       "    <tr>\n",
       "      <th>0</th>\n",
       "      <td>2020-12-08</td>\n",
       "      <td>KY</td>\n",
       "      <td>205668</td>\n",
       "      <td>132080.0</td>\n",
       "      <td>15110.0</td>\n",
       "      <td>NaN</td>\n",
       "      <td>2018.0</td>\n",
       "      <td>394.0</td>\n",
       "      <td>157.0</td>\n",
       "      <td>NaN</td>\n",
       "      <td>...</td>\n",
       "      <td>NaN</td>\n",
       "      <td>14.0</td>\n",
       "      <td>0.0</td>\n",
       "      <td>NaN</td>\n",
       "      <td>50.0</td>\n",
       "      <td>NaN</td>\n",
       "      <td>164.0</td>\n",
       "      <td>47.0</td>\n",
       "      <td>1812.0</td>\n",
       "      <td>243.0</td>\n",
       "    </tr>\n",
       "  </tbody>\n",
       "</table>\n",
       "<p>1 rows × 28 columns</p>\n",
       "</div>"
      ],
      "text/plain": [
       "         Date State  Cases_Total  Cases_White  Cases_Black Cases_LatinX  \\\n",
       "0  2020-12-08    KY       205668     132080.0      15110.0          NaN   \n",
       "\n",
       "   Cases_Asian  Cases_AIAN  Cases_NHPI Cases_Multiracial  ... Deaths_LatinX  \\\n",
       "0       2018.0       394.0       157.0               NaN  ...           NaN   \n",
       "\n",
       "   Deaths_Asian  Deaths_AIAN  Deaths_NHPI  Deaths_Multiracial  Deaths_Other  \\\n",
       "0          14.0          0.0          NaN                50.0           NaN   \n",
       "\n",
       "   Deaths_Unknown  Deaths_Ethnicity_Hispanic Deaths_Ethnicity_NonHispanic  \\\n",
       "0           164.0                       47.0                       1812.0   \n",
       "\n",
       "   Deaths_Ethnicity_Unknown  \n",
       "0                     243.0  \n",
       "\n",
       "[1 rows x 28 columns]"
      ]
     },
     "execution_count": 11,
     "metadata": {},
     "output_type": "execute_result"
    }
   ],
   "source": [
    "column_names = [\"Date\",\"State\",\"Cases_Total\",\"Cases_White\",\"Cases_Black\",\"Cases_LatinX\",\"Cases_Asian\",\n",
    "                \"Cases_AIAN\",\"Cases_NHPI\",\"Cases_Multiracial\",\"Cases_Other\",\"Cases_Unknown\",\n",
    "                \"Cases_Ethnicity_Hispanic\",\"Cases_Ethnicity_NonHispanic\",\"Cases_Ethnicity_Unknown\",\n",
    "                \"Deaths_Total\",\"Deaths_White\",\"Deaths_Black\",\"Deaths_LatinX\",\"Deaths_Asian\",\n",
    "               \"Deaths_AIAN\",\"Deaths_NHPI\",\"Deaths_Multiracial\",\"Deaths_Other\",\"Deaths_Unknown\",\n",
    "               \"Deaths_Ethnicity_Hispanic\",\"Deaths_Ethnicity_NonHispanic\",\"Deaths_Ethnicity_Unknown\"]\n",
    "\n",
    "#new_data is the dataframe for the new data which you just scraped converted into data format of Georgia_Historical\n",
    "new_data = pd.DataFrame(columns = column_names)\n",
    "\n",
    "new_data[\"Date\"]=[today]\n",
    "new_data[\"State\"]=[\"KY\"]\n",
    "new_data[\"Cases_Total\"]=[totals.loc[\"Total Cases*\",\"Totals\"]]\n",
    "new_data[\"Cases_White\"]=[race_cases.loc[\"White\",\"Cases\"]]\n",
    "new_data[\"Cases_Black\"]=[race_cases.loc[\"Black\",\"Cases\"]]\n",
    "new_data[\"Cases_Asian\"]=[race_cases.loc[\"Asian\",\"Cases\"]]\n",
    "new_data[\"Cases_AIAN\"]=[race_cases.loc[\"American Indian or Alaska Native\",\"Cases\"]]\n",
    "new_data[\"Cases_NHPI\"]=[race_cases.loc[\"Native Hawaiian or Other Pacific\",\"Cases\"]]\n",
    "new_data[\"Cases_Unknown\"]=[race_cases.loc[\"Unknown\",\"Cases\"]]\n",
    "new_data[\"Cases_Ethnicity_Hispanic\"]=[ethnicity_cases.loc[\"Hispanic\",\"Cases\"]]\n",
    "new_data[\"Cases_Ethnicity_NonHispanic\"]=[ethnicity_cases.loc[\"Non-Hispanic\",\"Cases\"]]\n",
    "new_data[\"Cases_Ethnicity_Unknown\"]=[ethnicity_cases.loc[\"Unknown\",\"Cases\"]]\n",
    "\n",
    "new_data[\"Deaths_Total\"]=[totals.loc[\"Total Deaths*\",\"Totals\"]]\n",
    "new_data[\"Deaths_White\"]=[deaths_race.loc[\"White\",\"Deaths\"]]\n",
    "new_data[\"Deaths_Black\"]=[deaths_race.loc[\"Black\",\"Deaths\"]]\n",
    "new_data[\"Deaths_Asian\"]=[deaths_race.loc[\"Asian\",\"Deaths\"]]\n",
    "new_data[\"Deaths_AIAN\"]=[deaths_race.loc[\"American Indian or Alaska Native\",\"Deaths\"]]\n",
    "#new_data[\"Deaths_NHPI\"]=[deaths_race.loc[\"Native Hawaiian or Other Pacific\",\"Deaths\"]]\n",
    "new_data[\"Deaths_Multiracial\"]=[deaths_race.loc[\"Multiracial\",\"Deaths\"]]\n",
    "new_data[\"Deaths_Unknown\"]=[deaths_race.loc[\"Unknown\",\"Deaths\"]]\n",
    "\n",
    "new_data[\"Deaths_Ethnicity_Hispanic\"]=[deaths_ethnicity.loc[\"Hispanic\",\"Deaths\"]]\n",
    "new_data[\"Deaths_Ethnicity_NonHispanic\"]=[deaths_ethnicity.loc[\"Non-Hispanic\",\"Deaths\"]]\n",
    "new_data[\"Deaths_Ethnicity_Unknown\"]=[deaths_ethnicity.loc[\"Unknown\",\"Deaths\"]]\n",
    "new_data"
   ]
  },
  {
   "cell_type": "markdown",
   "metadata": {},
   "source": [
    "# Data Validation"
   ]
  },
  {
   "cell_type": "code",
   "execution_count": 23,
   "metadata": {},
   "outputs": [
    {
     "data": {
      "text/html": [
       "<style  type=\"text/css\" >\n",
       "</style><table id=\"T_bf5bea2b_3a36_11eb_be39_34e12d1faf53\" ><thead>    <tr>        <th class=\"blank level0\" ></th>        <th class=\"col_heading level0 col0\" >Data Validation</th>    </tr></thead><tbody>\n",
       "                <tr>\n",
       "                        <th id=\"T_bf5bea2b_3a36_11eb_be39_34e12d1faf53level0_row0\" class=\"row_heading level0 row0\" >Difference in sum of cases by race v. Total confirmed cases</th>\n",
       "                        <td id=\"T_bf5bea2b_3a36_11eb_be39_34e12d1faf53row0_col0\" class=\"data row0 col0\" >99.990000</td>\n",
       "            </tr>\n",
       "            <tr>\n",
       "                        <th id=\"T_bf5bea2b_3a36_11eb_be39_34e12d1faf53level0_row1\" class=\"row_heading level0 row1\" >Difference in sum of deaths by race v. Total confirmed deaths</th>\n",
       "                        <td id=\"T_bf5bea2b_3a36_11eb_be39_34e12d1faf53row1_col0\" class=\"data row1 col0\" >100.000000</td>\n",
       "            </tr>\n",
       "            <tr>\n",
       "                        <th id=\"T_bf5bea2b_3a36_11eb_be39_34e12d1faf53level0_row2\" class=\"row_heading level0 row2\" >Difference in sum of cases by ethnicity v. Total confirmed cases</th>\n",
       "                        <td id=\"T_bf5bea2b_3a36_11eb_be39_34e12d1faf53row2_col0\" class=\"data row2 col0\" >100.000000</td>\n",
       "            </tr>\n",
       "            <tr>\n",
       "                        <th id=\"T_bf5bea2b_3a36_11eb_be39_34e12d1faf53level0_row3\" class=\"row_heading level0 row3\" >Difference in sum of deaths by ethnicity v. Total confirmed deaths</th>\n",
       "                        <td id=\"T_bf5bea2b_3a36_11eb_be39_34e12d1faf53row3_col0\" class=\"data row3 col0\" >100.000000</td>\n",
       "            </tr>\n",
       "    </tbody></table>"
      ],
      "text/plain": [
       "<pandas.io.formats.style.Styler at 0x1d7933e6670>"
      ]
     },
     "execution_count": 23,
     "metadata": {},
     "output_type": "execute_result"
    }
   ],
   "source": [
    "#\"Difference in sum of cases by race v. Total confirmed cases\"\n",
    "race_v_cases=race_cases['Percent'].sum()\n",
    "\n",
    "#\"Difference in sum of cases by ethnicity v. Total confirmed cases\"\n",
    "race_v_deaths=ethnicity_cases['Percent'].sum()\n",
    "\n",
    "#\"Difference in sum of deaths by race v. Total confirmed deaths\"\n",
    "ethnicity_v_cases=deaths_race['Percent'].sum()\n",
    "\n",
    "#\"Difference in sum of deaths by ethnicity v. Total confirmed deaths\"\n",
    "ethnicity_v_deaths=deaths_ethnicity['Percent'].sum()\n",
    "\n",
    "data_validation= pd.DataFrame({\"Difference in sum of cases by race v. Total confirmed cases\":[race_v_cases], \n",
    "    \"Difference in sum of deaths by race v. Total confirmed deaths\":[race_v_deaths],\n",
    "    \"Difference in sum of cases by ethnicity v. Total confirmed cases\":[ethnicity_v_cases],\n",
    "    \"Difference in sum of deaths by ethnicity v. Total confirmed deaths\":[ethnicity_v_deaths]},index=['Data Validation']).T\n",
    "\n",
    "#Red if values are not zero\n",
    "data_validation.style.applymap(lambda x: 'background-color : red' if x>100.0 or x<=99.9 else '')"
   ]
  },
  {
   "cell_type": "markdown",
   "metadata": {},
   "source": [
    "# Create a csv for today's scrpaer data"
   ]
  },
  {
   "cell_type": "code",
   "execution_count": 14,
   "metadata": {},
   "outputs": [],
   "source": [
    "#to make the CSV based for just this scraper\n",
    "new_data.to_csv(r\"C:\\Users\\wjg39\\Documents\\Desktop\\CRDT\\KY\\\\\"+str(new_data[\"Date\"].loc[0])+\"_race-ethnicity_Kentucky.csv\", index = False)"
   ]
  },
  {
   "cell_type": "markdown",
   "metadata": {},
   "source": [
    "# Add today's scraper data to historical data"
   ]
  },
  {
   "cell_type": "code",
   "execution_count": 24,
   "metadata": {},
   "outputs": [],
   "source": [
    "#to append new data to the csv of all historical\n",
    "new_data.to_csv(r'C:\\Users\\wjg39\\Documents\\Desktop\\CRDT\\KY\\historical_race-ethnicity_Kentucky.csv', mode='a', header=False,index=False)"
   ]
  },
  {
   "cell_type": "code",
   "execution_count": null,
   "metadata": {},
   "outputs": [],
   "source": []
  },
  {
   "cell_type": "code",
   "execution_count": null,
   "metadata": {},
   "outputs": [],
   "source": []
  }
 ],
 "metadata": {
  "kernelspec": {
   "display_name": "Python 3",
   "language": "python",
   "name": "python3"
  },
  "language_info": {
   "codemirror_mode": {
    "name": "ipython",
    "version": 3
   },
   "file_extension": ".py",
   "mimetype": "text/x-python",
   "name": "python",
   "nbconvert_exporter": "python",
   "pygments_lexer": "ipython3",
   "version": "3.8.6"
  }
 },
 "nbformat": 4,
 "nbformat_minor": 4
}
